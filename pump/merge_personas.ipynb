{
 "cells": [
  {
   "cell_type": "code",
   "execution_count": 4,
   "id": "0e84970f-19f2-4d1f-b4a7-956fdcfda5c2",
   "metadata": {
    "execution": {
     "iopub.execute_input": "2024-07-10T19:04:29.980779Z",
     "iopub.status.busy": "2024-07-10T19:04:29.980506Z",
     "iopub.status.idle": "2024-07-10T19:04:29.988490Z",
     "shell.execute_reply": "2024-07-10T19:04:29.987908Z",
     "shell.execute_reply.started": "2024-07-10T19:04:29.980757Z"
    },
    "scrolled": true
   },
   "outputs": [],
   "source": [
    "import os\n",
    "os.environ['HF_HOME'] = '/mnt/sagemaker-nvme/cache'\n",
    "os.environ['CUDA_VISIBLE_DEVICES'] = '0,1'\n",
    "import torch\n",
    "import pandas as pd\n",
    "from sklearn.cluster import KMeans\n",
    "from utils import last_token_pool, get_detailed_instruct, get_llm_response\n",
    "from transformers import AutoTokenizer, AutoModel\n",
    "\n",
    "\n",
    "def merge_personas(exp_name):\n",
    "\n",
    "    file_path = f'{exp_name}.csv'\n",
    "    data = pd.read_csv(file_path)\n",
    "    \n",
    "    def get_formatted_persona_dim(row):\n",
    "        task = 'Given a persona dimension description, retrieve semantically similar persona dimension descriptions.'\n",
    "        persona = f\"{row['name']}: {row['description']}. Candidate values: {row['candidate_values']}\"\n",
    "        return get_detailed_instruct(task, persona)\n",
    "    \n",
    "    data['formatted'] = data.apply(get_formatted_persona_dim, axis=1)\n",
    "    \n",
    "    # Load tokenizer and model\n",
    "    tokenizer = AutoTokenizer.from_pretrained('Salesforce/SFR-Embedding-2_R')\n",
    "    model = AutoModel.from_pretrained('Salesforce/SFR-Embedding-2_R', device_map='auto')\n",
    "    \n",
    "    # Get the embeddings\n",
    "    max_length = 4096\n",
    "    input_texts = data['formatted'].to_list()\n",
    "    batch_dict = tokenizer(input_texts, max_length=max_length, padding=True, truncation=True, return_tensors=\"pt\")\n",
    "    \n",
    "    with torch.no_grad():\n",
    "        outputs = model(**batch_dict)\n",
    "        embeddings = last_token_pool(outputs.last_hidden_state, batch_dict['attention_mask'])\n",
    "        # print(embeddings)\n",
    "\n",
    "    # Clustering\n",
    "    num_clusters = 20\n",
    "    clustering_model = KMeans(n_clusters=num_clusters)\n",
    "    clustering_model.fit(embeddings)\n",
    "    data['cluster'] = clustering_model.labels_\n",
    "    data = data.sort_values(by='cluster')\n",
    "    data.to_csv(f'{exp_name}_clustered.csv')\n",
    "\n",
    "    for idx in range(num_clusters):\n",
    "        print(idx)\n",
    "        for _, row in enumerate(data[data['cluster'] == idx]['formatted']):\n",
    "            print(row.split('\\n')[1])\n",
    "        print('\\n\\n')\n"
   ]
  },
  {
   "cell_type": "code",
   "execution_count": null,
   "id": "e0f1adc3-534f-41dc-ab43-e191828a25a2",
   "metadata": {},
   "outputs": [],
   "source": [
    "merge_personas('low')"
   ]
  },
  {
   "cell_type": "code",
   "execution_count": null,
   "id": "1623485b-3a23-4068-a29d-32ed3c04888d",
   "metadata": {},
   "outputs": [],
   "source": [
    "merge_personas('low_simple')"
   ]
  },
  {
   "cell_type": "code",
   "execution_count": null,
   "id": "889f45cb-0717-4ec6-8d59-53ba80d3c554",
   "metadata": {},
   "outputs": [],
   "source": []
  },
  {
   "cell_type": "code",
   "execution_count": null,
   "id": "cfaf60f6-0ed3-4530-b677-25a0b7e5d5ea",
   "metadata": {},
   "outputs": [],
   "source": []
  },
  {
   "cell_type": "code",
   "execution_count": null,
   "id": "5c773f4e-d8a4-4ac4-aa32-333ba0185497",
   "metadata": {},
   "outputs": [],
   "source": []
  },
  {
   "cell_type": "code",
   "execution_count": 1,
   "id": "869f246a-0d67-4416-9dff-ed2d0e941f37",
   "metadata": {
    "execution": {
     "iopub.execute_input": "2024-07-10T19:01:27.128880Z",
     "iopub.status.busy": "2024-07-10T19:01:27.128621Z",
     "iopub.status.idle": "2024-07-10T19:01:57.904440Z",
     "shell.execute_reply": "2024-07-10T19:01:57.903692Z",
     "shell.execute_reply.started": "2024-07-10T19:01:27.128857Z"
    },
    "scrolled": true
   },
   "outputs": [
    {
     "data": {
      "application/vnd.jupyter.widget-view+json": {
       "model_id": "02c901298fb946d6b1c944934a8f0801",
       "version_major": 2,
       "version_minor": 0
      },
      "text/plain": [
       "Loading checkpoint shards:   0%|          | 0/3 [00:00<?, ?it/s]"
      ]
     },
     "metadata": {},
     "output_type": "display_data"
    },
    {
     "name": "stdout",
     "output_type": "stream",
     "text": [
      "0\n",
      "Recreational Interests: the individual's engagement in outdoor activities and sports that involve the use of firearms. Candidate values: ['active in hunting/shooting sports', 'not active in hunting/shooting sports']\n",
      "Recreational Interests: the person's hobbies and leisure activities, which may have included the use of air guns. Candidate values: ['active participation', 'occasional participation', 'no participation']\n",
      "Frequency of Gun Usage: how often the person engages in shooting or visiting gun ranges. Candidate values: ['often', 'sometimes', 'rarely', 'never']\n",
      "Recreational Interests: whether the person has a hobby or interest in shooting sports. Candidate values: ['has shooting interest', 'lacks shooting interest']\n",
      "Recreational Interests: the person's personal interests and hobbies, such as target shooting, hunting, or other sport-related activities involving guns. Candidate values: ['enjoys sport shooting', 'does not enjoy sport shooting']\n",
      "Hobby and Interests: having a personal interest in collecting guns or participating in shooting sports. Candidate values: ['gun collector', 'shooting sports enthusiast', 'not interested in guns']\n",
      "Hobbies and Interests: involvement in recreational activities related to guns, such as shooting sports or hunting. Candidate values: ['active in gun-related hobbies', 'not involved in gun-related hobbies']\n",
      "\n",
      "\n",
      "\n",
      "1\n",
      "Occupation: working in a field or industry where hunting is a common or necessary activity. Candidate values: ['hunting-related occupation', 'non-hunting occupation']\n",
      "Social Circle: the composition and characteristics of the person's friend group, which can shape their exposure to gun ownership. Candidate values: ['gun-owning friends', 'non-gun-owning friends']\n",
      "Occupation: working in an environment that involves or is affected by guns. Candidate values: ['gun-related occupation', 'non-gun-related occupation']\n",
      "Occupation: working in an industry or field related to guns, hunting, or shooting sports. Candidate values: ['gun-related occupation', 'non-gun-related occupation']\n",
      "Occupation: working in a field that may require or encourage gun ownership and training, such as law enforcement or military. Candidate values: ['high gun-related occupation', 'low gun-related occupation']\n",
      "Occupation: working in an environment that involves or is affected by guns. Candidate values: ['gun-related occupation', 'non-gun-related occupation']\n",
      "Occupation: working in an environment that may require or discourage gun ownership. Candidate values: ['high-risk occupation', 'low-risk occupation']\n",
      "Occupation: working in an environment where guns are more or less prevalent. Candidate values: ['high gun exposure occupation', 'low gun exposure occupation']\n",
      "Occupation: working in an environment with a higher or lower risk of gun-related incidents. Candidate values: ['high-risk occupation', 'low-risk occupation']\n",
      "Occupation: working in a field that may require or encourage gun ownership and use. Candidate values: ['high gun-related occupation', 'low gun-related occupation']\n",
      "Occupation: working in an environment where gun violence is more or less prevalent. Candidate values: ['high-risk occupation', 'low-risk occupation']\n",
      "\n",
      "\n",
      "\n",
      "2\n",
      "Geographic Location: the area or region where the person lives, which may influence the perceived need for carrying a handgun. Candidate values: ['urban area', 'rural area', 'high-crime area', 'low-crime area']\n",
      "Geographic Location: the individual's living environment, which may influence the prevalence and acceptance of firearm ownership. Candidate values: ['urban', 'rural', 'suburban']\n",
      "Geographic Location: the region or area where the person grew up, which may have influenced the availability and use of air guns. Candidate values: ['urban', 'suburban', 'rural']\n",
      "Geographic Location: the region or area where the person lives, which may influence the prevalence of gun ownership among their friends. Candidate values: ['urban', 'suburban', 'rural']\n",
      "Geographic Location: the region or area where the person grew up, which may have influenced the availability and accessibility of gun-related activities. Candidate values: ['urban', 'rural', 'suburban']\n",
      "Geographic Location: the region or area where the person grew up, which may have influenced the presence of guns in the household. Candidate values: ['rural area', 'urban area', 'suburban area']\n",
      "Geographic Location: the community where the participant spent the majority of their time growing up, which may have influenced the prevalence of gun ownership. Candidate values: ['urban area', 'rural area', 'suburban area']\n",
      "Geographic Location: the region or area where the person lives, which may have different gun ownership and accessibility laws. Candidate values: ['urban area', 'rural area', 'suburban area']\n",
      "Geographic Location: the region or area where the person lives, which may influence the prevalence of gun ownership and usage. Candidate values: ['urban area', 'rural area', 'suburban area']\n",
      "Geographic Location: the region or area where the person lives, which may influence the prevalence of gun ownership and storage practices. Candidate values: ['urban area', 'rural area']\n",
      "Geographic Location: the region or area where the person lives, which may influence gun ownership and storage practices. Candidate values: ['urban', 'rural', 'suburban']\n",
      "Lifestyle and Environment: the person's living situation and community, which may influence their exposure to and views on guns. Candidate values: ['urban', 'rural', 'suburban']\n",
      "Geographic Location: living in an area where hunting is a common or accepted activity. Candidate values: ['rural area', 'urban area']\n",
      "Geographic Location: living in an area with a higher or lower quality of healthcare services and access. Candidate values: ['urban area', 'rural area']\n",
      "Geographic Location: the region or area where the gun owner resides, which may influence the social norms and legal requirements around gun ownership and storage. Candidate values: ['urban', 'rural', 'suburban']\n",
      "Geographic Location: the region or area where the person lives, which may influence the prevalence of gun ownership and attitudes towards gun storage. Candidate values: ['urban', 'rural', 'suburban']\n",
      "Geographic Location: the region or area where the person grew up, which may have influenced the presence of guns in the household for hunting purposes. Candidate values: ['rural area', 'urban area', 'suburban area']\n",
      "Geographic Location: the region or area where the person lives, which may influence their exposure to gun-related issues and policies. Candidate values: ['urban', 'rural', 'suburban']\n",
      "\n",
      "\n",
      "\n",
      "3\n",
      "Personal Experiences: any past experiences, either positive or negative, with gun ownership and storage that may shape the person's views. Candidate values: ['experienced gun-related incidents', 'no experience with gun-related incidents']\n",
      "Personal Experiences and Trauma: The individual's past experiences, including any traumatic events, that may shape their views and behaviors regarding the use and ownership of guns. Candidate values: ['Experienced gun-related trauma', 'No gun-related trauma']\n",
      "Personal Experiences: the person's past experiences, either positive or negative, with guns and gun safety. Candidate values: ['has personal experience with guns', 'lacks personal experience with guns']\n",
      "Personal Experiences: the person's past experiences with guns, either as a victim of gun violence or as a gun owner. Candidate values: ['experienced gun violence', 'no experience with gun violence']\n",
      "Personal Experiences: any past experiences, either positive or negative, that have shaped the person's views on gun ownership and storage. Candidate values: ['experienced gun-related incident', 'no gun-related incidents']\n",
      "Personal Experiences: any past experiences the person has had with firearms, either positive or negative. Candidate values: ['experienced firearm-related incidents', 'no firearm-related incidents']\n",
      "Personal Experiences: any past experiences, either positive or negative, that have shaped the person's views on gun storage. Candidate values: ['experienced gun-related incident', 'no gun-related incident']\n",
      "Personal Experiences: the person's own experiences and interactions with gun owners. Candidate values: ['positive experiences', 'negative experiences']\n",
      "Personal Experiences: the person's past experiences with guns, either positive or negative, which may shape their attitudes. Candidate values: ['positive gun experiences', 'negative gun experiences']\n",
      "Personal Experiences: the person's past experiences with guns, gun ownership, or gun-related incidents, which may shape their attitudes and beliefs. Candidate values: ['direct experience', 'indirect experience', 'no experience']\n",
      "Personal Experiences: past experiences, either positive or negative, with guns and gun ownership. Candidate values: ['positive gun experiences', 'negative gun experiences', 'no gun experiences']\n",
      "Personal Experiences: the individual's past experiences, such as exposure to gun violence or gun ownership, that shape their views. Candidate values: ['experienced gun violence', 'not experienced gun violence']\n",
      "\n",
      "\n",
      "\n",
      "4\n",
      "Geographic Location: living in an area with higher or lower rates of gun ownership and gun-related incidents. Candidate values: ['high gun ownership area', 'low gun ownership area']\n",
      "Geographic Location: living in an area with higher or lower gun ownership and gun culture. Candidate values: ['high gun ownership area', 'low gun ownership area']\n",
      "Geographic Location: living in an area with higher or lower gun ownership rates and gun culture. Candidate values: ['high gun ownership area', 'low gun ownership area']\n",
      "Geographic Location: living in an area with higher or lower gun ownership and gun culture. Candidate values: ['high gun ownership area', 'low gun ownership area']\n",
      "Geographic Location: living in an area with higher or lower gun ownership and access. Candidate values: ['high gun ownership area', 'low gun ownership area']\n",
      "Geographic Location: living in an area with different gun ownership rates and regulations. Candidate values: ['high gun ownership area', 'low gun ownership area']\n",
      "Geographic Location: living in an area with more or fewer opportunities to attend gun shows. Candidate values: ['high gun show availability', 'low gun show availability']\n",
      "Geographic Location: living in an area with higher or lower rates of gun ownership and gun-related incidents. Candidate values: ['high gun ownership area', 'low gun ownership area']\n",
      "Geographic Location: the participant's local community and its general attitudes towards gun ownership. Candidate values: ['positive attitude towards gun owners', 'negative attitude towards gun owners']\n",
      "Geographic Location: living in an area with higher or lower gun ownership and access. Candidate values: ['high gun ownership area', 'low gun ownership area']\n",
      "Geographic Location: living in an area with stricter or more lenient gun laws and regulations. Candidate values: ['strict gun laws', 'lenient gun laws']\n",
      "Geographic Location: living in an area with higher or lower gun ownership and gun culture. Candidate values: ['high gun ownership area', 'low gun ownership area']\n",
      "Geographic Location: living in an area with higher or lower rates of gun violence and illegal gun access. Candidate values: ['high-risk area', 'low-risk area']\n",
      "Geographic Location: living in an area with higher or lower gun ownership and gun-related risks. Candidate values: ['high gun ownership area', 'low gun ownership area']\n",
      "Geographic Location: living in an area with higher or lower gun ownership and gun culture. Candidate values: ['high gun ownership area', 'low gun ownership area']\n",
      "Geographic Location: the region or area where the person lives, which may influence the prevalence of gun ownership and attitudes towards it. Candidate values: ['high gun ownership area', 'low gun ownership area']\n",
      "Geographic Location: living in an area where gun ownership and sport shooting are more or less common. Candidate values: ['high gun ownership area', 'low gun ownership area']\n",
      "Geographic Location: living in an area with higher or lower rates of gun ownership and gun-related incidents. Candidate values: ['high gun ownership area', 'low gun ownership area']\n",
      "Geographic Location: living in an area with higher or lower rates of gun ownership and gun-related incidents. Candidate values: ['high gun ownership area', 'low gun ownership area']\n",
      "\n",
      "\n",
      "\n",
      "5\n",
      "Firearm Storage Practices: how the firearms in the household are stored, specifically whether they are kept loaded or unloaded. Candidate values: ['all guns kept loaded', 'some guns kept loaded', 'no guns kept loaded']\n",
      "Gun Ownership: whether the respondent or their household owns firearms. Candidate values: ['gun owner', 'non-gun owner']\n",
      "Firearm Ownership: whether the person or someone in their household owns a gun. Candidate values: ['gun owner', 'non-gun owner']\n",
      "Household Firearm Ownership: whether the person's household owns firearms and the number of guns. Candidate values: ['owns firearms', 'does not own firearms']\n",
      "Gun Ownership: whether the individual personally owns any guns, excluding air guns. Candidate values: ['owns a gun', 'does not own a gun']\n",
      "Gun Ownership: the number of guns owned and the reasons for owning them (e.g., self-defense, hunting, collection). Candidate values: ['multiple guns', 'single gun', 'no guns']\n",
      "Household Gun Ownership: whether guns are present in the household and who owns them. Candidate values: ['gun owner in household', 'no gun owner in household']\n",
      "Gun Ownership: whether the person owns a gun or not and the importance they place on it. Candidate values: ['gun owner', 'non-gun owner']\n",
      "Relationship with Guns: the individual's current and future stance on gun ownership. Candidate values: ['cannot imagine life without guns', 'could imagine life without guns']\n",
      "Firearm Ownership: whether the individual currently or previously owned a shotgun. Candidate values: ['currently own', 'previously owned', 'never owned']\n",
      "Firearm Ownership: whether the spouse or partner owns any guns. Candidate values: ['owns guns', 'does not own guns']\n",
      "Household Firearm Ownership: whether firearms were present in the participant's childhood household. Candidate values: ['guns in household', 'no guns in household', 'unsure']\n",
      "\n",
      "\n",
      "\n",
      "6\n",
      "Personal Experiences: having been affected by gun violence or gun-related incidents in the past. Candidate values: ['affected by gun violence', 'not affected by gun violence']\n",
      "Personal Experiences: the individual's direct or indirect experiences with gun violence and its connection to economic factors. Candidate values: ['experienced gun violence', 'not experienced gun violence']\n",
      "Personal Experiences: the individual's direct or indirect experiences with gun violence, which may shape their perceptions and attitudes. Candidate values: ['experienced gun violence', 'not experienced gun violence']\n",
      "Personal Experiences: having been affected by gun-related incidents or accidents in the past. Candidate values: ['affected by gun-related incidents', 'not affected by gun-related incidents']\n",
      "Personal Experiences: having been affected by gun violence or gun-related incidents in the past. Candidate values: ['affected by gun violence', 'not affected by gun violence']\n",
      "Personal Experiences: having been affected by gun violence or gun-related incidents in the past. Candidate values: ['affected by gun violence', 'unaffected by gun violence']\n",
      "Personal Experiences: having been affected by gun violence or knowing someone who has. Candidate values: ['affected by gun violence', 'not affected by gun violence']\n",
      "Personal Experiences: having been affected by gun violence or gun-related incidents in the past. Candidate values: ['affected by gun violence', 'not affected by gun violence']\n",
      "Personal Experiences: having been affected by gun violence or crime in the past. Candidate values: ['affected by gun violence', 'not affected by gun violence']\n",
      "Personal Experiences: direct or indirect experiences with gun violence. Candidate values: ['experienced gun violence', 'not experienced gun violence']\n",
      "Socioeconomic Background: personal experiences and observations related to family instability and its connection to gun violence. Candidate values: ['experienced family instability', 'not experienced family instability']\n",
      "Personal Experiences: direct or indirect experiences with gun violence and its impact on families and communities. Candidate values: ['experienced gun violence', 'not experienced gun violence']\n",
      "Personal Experiences: having been affected by gun-related incidents or accidents in the past. Candidate values: ['affected by gun incidents', 'not affected by gun incidents']\n",
      "Personal Experiences: the participant's direct experiences with gun violence in their community growing up. Candidate values: ['experienced gun violence', 'did not experience gun violence']\n",
      "Personal Experiences: having been affected by gun violence or crime in the past. Candidate values: ['affected by gun violence', 'not affected by gun violence']\n",
      "Personal Experiences: having been affected by a mass shooting in the past. Candidate values: ['affected', 'unaffected']\n",
      "Personal Experiences: having been affected by gun violence or gun-related incidents in the past. Candidate values: ['affected by gun violence', 'not affected by gun violence']\n",
      "Personal Experiences: having been affected by gun violence or gun-related incidents in the past. Candidate values: ['affected by gun violence', 'not affected by gun violence']\n",
      "Personal Experiences: experiences with gun violence or crime that shape their views. Candidate values: ['experienced gun violence', 'not experienced gun violence']\n",
      "Personal Experiences: experiences with suicide or suicide attempts, either personally or through loved ones. Candidate values: ['experienced', 'not experienced']\n",
      "Personal Experiences: having been directly affected by gun-related threats or intimidation. Candidate values: ['experienced gun-related threat', 'not experienced gun-related threat']\n",
      "Personal Experiences: Whether the person has been directly affected by a terrorist attack in the past. Candidate values: ['affected', 'unaffected']\n",
      "Personal Experiences: having been affected by gun violence or illegal gun access in the past. Candidate values: ['affected', 'unaffected']\n",
      "\n",
      "\n",
      "\n",
      "7\n",
      "Parental Status: whether the person has children living in their home or not. Candidate values: ['has children', 'no children']\n",
      "Parental Status: whether the individual has children in their home. Candidate values: ['has children', 'does not have children']\n",
      "Household Composition: whether the respondent has children living in their home. Candidate values: ['has children', 'no children']\n",
      "Parental Status: whether the person has children under the age of 18. Candidate values: ['has children under 18', 'does not have children under 18']\n",
      "\n",
      "\n",
      "\n",
      "8\n",
      "Personal Experiences: having been involved in or exposed to hunting activities in the past. Candidate values: ['experienced hunter', 'inexperienced with hunting']\n",
      "Personal Experiences: having been in a situation where they felt the need to use a gun for self-defense. Candidate values: ['experienced self-defense situation', 'not experienced self-defense situation']\n",
      "Personal Experiences: the participant's direct experiences and exposure to gun ownership in their childhood community. Candidate values: ['high exposure to gun ownership', 'low exposure to gun ownership']\n",
      "Family Upbringing: the role that guns and gun-related activities played in the person's family and household during their childhood. Candidate values: ['gun-oriented', 'non-gun-oriented']\n",
      "Personal Experiences: the person's direct experiences with guns and gun-related activities during their upbringing. Candidate values: ['extensive experience', 'limited experience']\n",
      "Childhood Experiences: the person's past experiences and exposure to air guns during their upbringing. Candidate values: ['frequent use', 'occasional use', 'minimal use', 'no use']\n",
      "Personal Experiences: the person's own experiences with guns, either through their friends or other aspects of their life. Candidate values: ['experienced gun ownership', 'not experienced gun ownership']\n",
      "Personal Experiences: having been involved in or exposed to sport shooting activities in the past. Candidate values: ['experienced sport shooter', 'inexperienced with sport shooting']\n",
      "Firearm Experience: whether the person has personally fired a gun before. Candidate values: ['has fired a gun', 'has not fired a gun']\n",
      "Personal Experiences: having personal experiences with guns, such as owning, using, or being affected by them. Candidate values: ['has personal gun experience', 'lacks personal gun experience']\n",
      "Personal Experiences: having owned a gun or not in the past. Candidate values: ['gun owner', 'non-gun owner']\n",
      "Gun Ownership Experience: the gun owner's level of experience and familiarity with firearm handling and storage, which may influence their perceived need for safety measures. Candidate values: ['experienced gun owner', 'novice gun owner']\n",
      "Personal Experiences: having personal experiences with guns, hunting, or shooting sports. Candidate values: ['experienced', 'not experienced']\n",
      "Personal Experiences: the person's past experiences with guns, either directly or indirectly. Candidate values: ['extensive experience', 'limited experience', 'no experience']\n",
      "Personal Experiences: the person's past experiences with guns, such as owning or using them for hunting, self-defense, or other purposes. Candidate values: ['experienced gun owner', 'inexperienced gun owner']\n",
      "Personal Experiences: past experiences with gun ownership and gun safety practices. Candidate values: ['experienced gun owner', 'inexperienced gun owner']\n",
      "Personal Experiences: past experiences and familiarity with attending gun shows. Candidate values: ['frequent gun show attendee', 'infrequent gun show attendee']\n",
      "Personal Experiences: having prior experience with guns, either through training, hunting, or other activities. Candidate values: ['has taken gun safety courses', 'has not taken gun safety courses']\n",
      "Family Background: the household environment and cultural norms around gun ownership when the person was growing up. Candidate values: ['gun-owning family', 'non-gun-owning family']\n",
      "Personal Experiences with Firearms: the participant's direct experiences and exposure to firearms growing up. Candidate values: ['experienced firearms', 'no experience with firearms']\n",
      "\n",
      "\n",
      "\n",
      "9\n",
      "Community Engagement: the participant's level of involvement and familiarity with their local community. Candidate values: ['highly engaged in community', 'not very engaged in community']\n",
      "Civic Engagement: the individual's level of involvement and interest in issues related to crime, security, and the justice system. Candidate values: ['high civic engagement', 'low civic engagement']\n",
      "\n",
      "\n",
      "\n",
      "10\n",
      "Parental Status: having children in the home and the associated concerns for their safety. Candidate values: ['has children', 'does not have children']\n",
      "Household Composition: having children in the home and the associated concerns about gun safety. Candidate values: ['has children in the home', 'no children in the home']\n",
      "Home Security Measures: the level of security measures taken to protect one's home. Candidate values: ['high security', 'low security']\n",
      "Household Composition: having children in the home and the associated safety concerns. Candidate values: ['households with children', 'households without children']\n",
      "\n",
      "\n",
      "\n",
      "11\n",
      "Household Composition: the presence and ages of children in the home, which may impact the perceived importance of safe gun storage. Candidate values: ['households with children', 'households without children']\n",
      "Household Composition: the number and ages of people living in the home, which may impact gun storage decisions. Candidate values: ['households with children', 'households without children']\n",
      "Household Composition: whether the gun owner lives alone or with others, especially children, which can impact their sense of responsibility and need for safety precautions. Candidate values: ['lives alone', 'lives with children', 'lives with other adults']\n",
      "Household Composition: the presence and number of other individuals living in the same household. Candidate values: ['single-person household', 'multi-person household']\n",
      "Household Composition: the presence of children or other vulnerable individuals in the household, which may influence firearm storage practices. Candidate values: ['households with children', 'households without children']\n",
      "Household Composition: the number and ages of people living in the home, which can impact gun storage decisions. Candidate values: ['single adult', 'family with children', 'multi-generational household']\n",
      "Household Composition: the presence of a spouse or partner in the household. Candidate values: ['has spouse/partner', 'no spouse/partner']\n",
      "Household Composition: the number and type of people living in the person's home, which may influence gun ownership and accessibility. Candidate values: ['lives alone', 'lives with family', 'lives with roommates']\n",
      "Household Composition: the presence of children or other vulnerable individuals in the household. Candidate values: ['household with vulnerable individuals', 'household without vulnerable individuals']\n",
      "Household Composition: the makeup of the person's household, such as the presence of children or other family members, which may impact gun storage practices. Candidate values: ['households with children', 'households without children']\n",
      "Household Composition: the presence of children, elderly, or other vulnerable individuals in the household. Candidate values: ['household with vulnerable individuals', 'household without vulnerable individuals']\n",
      "Household Composition: whether the person has children living in their home, which may impact their views on gun safety practices. Candidate values: ['has children', 'no children']\n",
      "Household Composition: whether the person lives alone or with others, and if they have children in their home, which may influence their gun storage practices. Candidate values: ['lives alone', 'lives with children', 'lives without children']\n",
      "\n",
      "\n",
      "\n",
      "12\n",
      "Occupation: The person's occupation and its potential risk of being targeted by terrorists. Candidate values: ['high-risk occupation', 'low-risk occupation']\n",
      "Occupation: working in a field or industry that is more or less stable or susceptible to job loss. Candidate values: ['high-risk occupation', 'low-risk occupation']\n",
      "Financial Situation: the individual's current financial status and ability to pay bills. Candidate values: ['financially stable', 'financially unstable']\n",
      "Occupation: working in an environment that may be a target for mass shootings. Candidate values: ['high-risk occupation', 'low-risk occupation']\n",
      "Healthcare Coverage: type and extent of health insurance coverage. Candidate values: ['comprehensive coverage', 'limited coverage']\n",
      "Occupation: working in a high-risk environment or profession. Candidate values: ['high-risk occupation', 'low-risk occupation']\n",
      "Occupation: working in a high-risk environment that may require self-defense measures. Candidate values: ['high-risk occupation', 'low-risk occupation']\n",
      "Occupation: working in an environment with a higher or lower risk of violent crime. Candidate values: ['high-risk occupation', 'low-risk occupation']\n",
      "Personal Health Status: current health condition and medical history. Candidate values: ['good health', 'poor health']\n",
      "\n",
      "\n",
      "\n",
      "13\n",
      "Socioeconomic Status: the individual's economic and social position in society, which may influence their perspective on the relationship between economic opportunities and gun violence. Candidate values: ['low socioeconomic status', 'high socioeconomic status']\n",
      "Socioeconomic Status: the financial resources and access to firearms that may enable gun ownership. Candidate values: ['high socioeconomic status', 'low socioeconomic status']\n",
      "Demographic Factors: the person's age, gender, socioeconomic status, or other demographic characteristics that may influence their perception of gun owners. Candidate values: ['demographic factors']\n",
      "Demographic Factors: the individual's age, gender, geographic location, and other demographic characteristics that may influence gun ownership. Candidate values: ['demographic factors associated with gun ownership', 'demographic factors not associated with gun ownership']\n",
      "Demographic Factors: characteristics such as age, gender, and geographic location that may influence attitudes towards gun ownership. Candidate values: ['urban', 'rural', 'male', 'female', 'young', 'old']\n",
      "\n",
      "\n",
      "\n",
      "14\n",
      "Media Consumption: the person's habits and preferences in consuming media related to crime and safety. Candidate values: ['high crime/safety media consumption', 'low crime/safety media consumption']\n",
      "\n",
      "\n",
      "\n",
      "15\n",
      "Media Consumption Habits: the frequency and intensity of consuming media related to guns and gun culture. Candidate values: ['high gun media consumption', 'low gun media consumption']\n",
      "Media Consumption Habits: frequency and intensity of consuming gun-oriented media. Candidate values: ['frequent gun media consumption', 'infrequent gun media consumption']\n",
      "Frequency of Online Engagement: how often the person participates in online discussion forums about guns. Candidate values: ['often', 'sometimes', 'hardly ever', 'never']\n",
      "Media Consumption Habits: the individual's level of exposure to and engagement with media content, particularly related to gun violence. Candidate values: ['high media consumption', 'low media consumption']\n",
      "Media Consumption: the type and amount of media consumed related to gun violence and its societal impacts. Candidate values: ['high media exposure', 'low media exposure']\n",
      "Media Consumption Habits: frequency and type of video game consumption. Candidate values: ['frequent video game player', 'infrequent video game player']\n",
      "Media Consumption: the person's exposure to media portrayals of gun owners, which may influence their perception. Candidate values: ['positive media portrayals', 'negative media portrayals']\n",
      "\n",
      "\n",
      "\n",
      "16\n",
      "Occupation: whether the person is a professional or recreational gun owner, which may influence the importance they place on maintaining shooting skills. Candidate values: ['professional gun owner', 'recreational gun owner']\n",
      "Occupation: working in a field that may require or encourage gun ownership. Candidate values: ['occupation requiring gun ownership', 'occupation not requiring gun ownership']\n",
      "Occupation: working in a field that may require or encourage gun ownership, such as law enforcement, military, or security. Candidate values: ['law enforcement', 'military', 'security', 'other']\n",
      "Occupation: the person's job or profession that may require owning a gun. Candidate values: ['job requires gun ownership', 'job does not require gun ownership']\n",
      "Compliance with Workplace Policies: the person's adherence to or disregard for workplace policies and regulations regarding gun ownership. Candidate values: ['complies with policies', 'disregards policies']\n",
      "Reason for Gun Ownership: the primary motivation for owning a gun, such as for protection, hunting, sport shooting, collecting, or job-related purposes. Candidate values: ['protection', 'hunting', 'sport shooting', 'gun collection', 'job-related']\n",
      "Occupation and Lifestyle: the individual's professional or job-related requirements for firearm ownership and use. Candidate values: ['job-related firearm use', 'no job-related firearm use']\n",
      "Occupation: the person's job or profession, which may require or encourage the carrying of a handgun. Candidate values: ['law enforcement', 'security guard', 'civilian']\n",
      "Occupation: the person's job or profession, which may require or encourage gun ownership for safety or security reasons. Candidate values: ['high-risk occupation', 'low-risk occupation']\n",
      "Occupation: the person's job or profession, which may require or encourage gun ownership and usage. Candidate values: ['law enforcement', 'military', 'civilian']\n",
      "\n",
      "\n",
      "\n",
      "17\n",
      "Lifestyle and Hobbies: the extent to which guns and gun-related activities are integrated into the individual's daily life and leisure pursuits. Candidate values: ['gun-oriented lifestyle', 'non-gun-oriented lifestyle']\n",
      "Lifestyle and Habits: the individual's daily activities and routines that may influence their views on gun ownership. Candidate values: ['gun-centric lifestyle', 'non-gun-centric lifestyle']\n",
      "Recreational Activities: the types of outdoor activities and hobbies the person's family engaged in, such as hunting, which may have necessitated the presence of guns in the household. Candidate values: ['hunting', 'non-hunting']\n",
      "Lifestyle and Activities: hobbies, interests, or occupations that may involve the use of guns. Candidate values: ['gun-related activities', 'no gun-related activities']\n",
      "Hobby and Leisure Interests: whether the person views gun ownership and shooting as a hobby or leisure activity, which could influence the importance they place on maintaining skills. Candidate values: ['gun ownership as a hobby', 'gun ownership not as a hobby']\n",
      "Lifestyle and Activities: the individual's involvement in activities or occupations that may influence gun ownership, such as hunting, sport shooting, or military/law enforcement background. Candidate values: ['active in gun-related activities', 'not active in gun-related activities']\n",
      "Collector Mentality: the individual's interest in accumulating and maintaining a collection of firearms as a hobby. Candidate values: ['active collector', 'not a collector']\n",
      "Lifestyle and Situational Factors: The individual's daily activities, environment, and circumstances that may influence their decision to carry or not carry a handgun or pistol. Candidate values: ['High-risk lifestyle', 'Low-risk lifestyle']\n",
      "Lifestyle and Hobbies: the individual's activities and interests that may be related to firearm ownership, such as hunting, target shooting, or self-defense. Candidate values: ['firearm-related hobbies', 'non-firearm-related hobbies']\n",
      "Lifestyle and Hobbies: the person's involvement in activities or communities that may involve firearms. Candidate values: ['gun-related hobbies', 'non-gun-related hobbies']\n",
      "\n",
      "\n",
      "\n",
      "18\n",
      "Geographic Location: living in an area with a higher or lower risk of violent crime. Candidate values: ['high-crime area', 'low-crime area']\n",
      "Geographic Location: The person's living area and its perceived risk of terrorist attacks. Candidate values: ['high-risk area', 'low-risk area']\n",
      "Geographic Location: living in an area with a higher or lower risk of home burglaries. Candidate values: ['high-crime area', 'low-crime area']\n",
      "Geographic Location: living in an area with a higher or lower risk of mass shootings. Candidate values: ['high-risk area', 'low-risk area']\n",
      "Geographic Location: living in an area with a higher or lower risk of job loss due to economic conditions, industry trends, or other factors. Candidate values: ['high-risk area', 'low-risk area']\n",
      "Geographic Location: living in an area with a higher or lower risk of gun-related incidents. Candidate values: ['high-risk area', 'low-risk area']\n",
      "Geographic Location: living in an area with a higher or lower risk of violent crime. Candidate values: ['high-crime area', 'low-crime area']\n",
      "Geographic Location: living in an area with a higher or lower risk of crime or violence. Candidate values: ['high-crime area', 'low-crime area']\n",
      "Geographic Location: living in an area with higher or lower rates of crime and the need for self-defense. Candidate values: ['high-crime area', 'low-crime area']\n",
      "Geographic Location: living in an area with higher or lower crime rates or gun violence. Candidate values: ['high-crime area', 'low-crime area']\n",
      "Geographic Location: living in an area with higher or lower crime rates or gun violence. Candidate values: ['high-crime area', 'low-crime area']\n",
      "Geographic Location: the community where the participant spent the majority of their time growing up, which may have been more or less affected by gun violence. Candidate values: ['high-crime area', 'low-crime area']\n",
      "Geographic Location: the area where the person grew up, which may have influenced the perceived need for gun ownership for protection. Candidate values: ['high-crime area', 'low-crime area']\n",
      "Geographic Location: the specific area or neighborhood where the person lives and their perception of its safety from crime. Candidate values: ['high-crime area', 'low-crime area']\n",
      "\n",
      "\n",
      "\n",
      "19\n",
      "Personal Experiences: having been a victim of crime or feeling unsafe in the past. Candidate values: ['experienced crime/violence', 'not experienced crime/violence']\n",
      "Personal Experiences: the person's past experiences with crime, violence, or the need for self-defense, which may influence their decision to carry a handgun. Candidate values: ['experienced crime/violence', 'not experienced crime/violence']\n",
      "Personal Experiences: having been a victim of violent crime in the past. Candidate values: ['victim of violent crime', 'not a victim of violent crime']\n",
      "Personal Experiences: having been a victim of a home burglary in the past. Candidate values: ['experienced burglary', 'not experienced burglary']\n",
      "Personal Experiences: any personal experiences or exposure to crime or violence that may have shaped the person's views on gun ownership for protection. Candidate values: ['experienced crime/violence', 'not experienced crime/violence']\n",
      "Personal Experiences: the person's direct experiences with crime or safety issues. Candidate values: ['experienced crime/safety issues', 'not experienced crime/safety issues']\n",
      "Personal Experiences: the person's past experiences with crime or safety issues in their local community. Candidate values: ['experienced crime', 'not experienced crime']\n",
      "Personal Experiences: having been a victim of violent crime in the past. Candidate values: ['victim of violent crime', 'not a victim of violent crime']\n",
      "\n",
      "\n",
      "\n"
     ]
    }
   ],
   "source": [
    "import os\n",
    "os.environ['HF_HOME'] = '/mnt/sagemaker-nvme/cache'\n",
    "os.environ['CUDA_VISIBLE_DEVICES'] = '0,1'\n",
    "\n",
    "import torch\n",
    "import pandas as pd\n",
    "from sklearn.cluster import KMeans\n",
    "from utils import last_token_pool, get_detailed_instruct, PersonaDimension\n",
    "from transformers import AutoTokenizer, AutoModel\n",
    "\n",
    "exp_name = \"low\"\n",
    "file_path = f'{exp_name}.csv'\n",
    "data = pd.read_csv(file_path)\n",
    "\n",
    "\n",
    "def get_formatted_persona_dim(row):\n",
    "    task = 'Given a persona dimension description, retrieve semantically similar persona dimension descriptions.'\n",
    "    persona = f\"{row['name']}: {row['description']}. Candidate values: {row['candidate_values']}\"\n",
    "    return get_detailed_instruct(task, persona)\n",
    "\n",
    "data['formatted'] = data.apply(get_formatted_persona_dim, axis=1)\n",
    "\n",
    "# Load tokenizer and model\n",
    "tokenizer = AutoTokenizer.from_pretrained('Salesforce/SFR-Embedding-2_R')\n",
    "model = AutoModel.from_pretrained('Salesforce/SFR-Embedding-2_R', device_map='auto')\n",
    "\n",
    "# Get the embeddings\n",
    "max_length = 4096\n",
    "input_texts = data['formatted'].to_list()\n",
    "batch_dict = tokenizer(input_texts, max_length=max_length, padding=True, truncation=True, return_tensors=\"pt\")\n",
    "\n",
    "with torch.no_grad():\n",
    "    outputs = model(**batch_dict)\n",
    "    embeddings = last_token_pool(outputs.last_hidden_state, batch_dict['attention_mask'])\n",
    "    # print(embeddings)\n",
    "\n",
    "# Clustering\n",
    "num_clusters = 20\n",
    "clustering_model = KMeans(n_clusters=num_clusters)\n",
    "clustering_model.fit(embeddings)\n",
    "data['cluster'] = clustering_model.labels_\n",
    "data = data.sort_values(by='cluster')\n",
    "data.to_csv(f'{exp_name}_clustered.csv')\n",
    "\n",
    "for idx in range(num_clusters):\n",
    "    print(idx)\n",
    "    for _, row in enumerate(data[data['cluster'] == idx]['formatted']):\n",
    "        print(row.split('\\n')[1])\n",
    "    print('\\n\\n')\n"
   ]
  },
  {
   "cell_type": "code",
   "execution_count": null,
   "id": "0eeeafe7-3f74-4ba5-b32e-fafbb8a11c1f",
   "metadata": {},
   "outputs": [],
   "source": []
  },
  {
   "cell_type": "code",
   "execution_count": null,
   "id": "6756f166-7bd1-4b56-9154-8cedc63ffada",
   "metadata": {},
   "outputs": [],
   "source": []
  },
  {
   "cell_type": "code",
   "execution_count": null,
   "id": "08f08ab1-78a0-4bf1-bcf9-580a81d1b615",
   "metadata": {},
   "outputs": [],
   "source": []
  },
  {
   "cell_type": "code",
   "execution_count": 1,
   "id": "05aad01f-3552-4b48-a9fc-5c54af5d5d1e",
   "metadata": {
    "execution": {
     "iopub.execute_input": "2024-07-11T20:54:37.220320Z",
     "iopub.status.busy": "2024-07-11T20:54:37.219957Z",
     "iopub.status.idle": "2024-07-11T20:54:40.253764Z",
     "shell.execute_reply": "2024-07-11T20:54:40.253021Z",
     "shell.execute_reply.started": "2024-07-11T20:54:37.220298Z"
    }
   },
   "outputs": [],
   "source": [
    "import torch\n",
    "import pandas as pd\n",
    "from sklearn.cluster import KMeans\n",
    "from utils import last_token_pool, get_detailed_instruct, get_llm_response, PersonaDimension\n",
    "from transformers import AutoTokenizer, AutoModel\n",
    "\n",
    "with open('prompts/summarize_clustered_personas.txt') as f:\n",
    "    prompt_template = f.read()\n",
    "data = pd.read_csv('low_clustered.csv')"
   ]
  },
  {
   "cell_type": "code",
   "execution_count": 2,
   "id": "34f813be-de88-420d-9859-2c6087ed6e8c",
   "metadata": {
    "execution": {
     "iopub.execute_input": "2024-07-11T20:54:40.255528Z",
     "iopub.status.busy": "2024-07-11T20:54:40.255045Z",
     "iopub.status.idle": "2024-07-11T20:54:40.268996Z",
     "shell.execute_reply": "2024-07-11T20:54:40.268397Z",
     "shell.execute_reply.started": "2024-07-11T20:54:40.255507Z"
    }
   },
   "outputs": [
    {
     "data": {
      "text/html": [
       "<div>\n",
       "<style scoped>\n",
       "    .dataframe tbody tr th:only-of-type {\n",
       "        vertical-align: middle;\n",
       "    }\n",
       "\n",
       "    .dataframe tbody tr th {\n",
       "        vertical-align: top;\n",
       "    }\n",
       "\n",
       "    .dataframe thead th {\n",
       "        text-align: right;\n",
       "    }\n",
       "</style>\n",
       "<table border=\"1\" class=\"dataframe\">\n",
       "  <thead>\n",
       "    <tr style=\"text-align: right;\">\n",
       "      <th></th>\n",
       "      <th>Unnamed: 0.1</th>\n",
       "      <th>Unnamed: 0</th>\n",
       "      <th>name</th>\n",
       "      <th>description</th>\n",
       "      <th>level</th>\n",
       "      <th>candidate_values</th>\n",
       "      <th>original_question</th>\n",
       "      <th>formatted</th>\n",
       "      <th>cluster</th>\n",
       "    </tr>\n",
       "  </thead>\n",
       "  <tbody>\n",
       "    <tr>\n",
       "      <th>201</th>\n",
       "      <td>41.0</td>\n",
       "      <td>124</td>\n",
       "      <td>Personal Experiences</td>\n",
       "      <td>having been a victim of crime or feeling unsaf...</td>\n",
       "      <td>low</td>\n",
       "      <td>['experienced crime/violence', 'not experience...</td>\n",
       "      <td>Please indicate whether the following is a maj...</td>\n",
       "      <td>Instruct: Given a persona dimension descriptio...</td>\n",
       "      <td>19</td>\n",
       "    </tr>\n",
       "    <tr>\n",
       "      <th>202</th>\n",
       "      <td>178.0</td>\n",
       "      <td>539</td>\n",
       "      <td>Personal Experiences</td>\n",
       "      <td>the person's past experiences with crime, viol...</td>\n",
       "      <td>low</td>\n",
       "      <td>['experienced crime/violence', 'not experience...</td>\n",
       "      <td>How often, if ever, do you carry a handgun or ...</td>\n",
       "      <td>Instruct: Given a persona dimension descriptio...</td>\n",
       "      <td>19</td>\n",
       "    </tr>\n",
       "    <tr>\n",
       "      <th>203</th>\n",
       "      <td>14.0</td>\n",
       "      <td>51</td>\n",
       "      <td>Personal Experiences</td>\n",
       "      <td>having been a victim of violent crime in the past</td>\n",
       "      <td>low</td>\n",
       "      <td>['victim of violent crime', 'not a victim of v...</td>\n",
       "      <td>How much, if at all, do you worry about the fo...</td>\n",
       "      <td>Instruct: Given a persona dimension descriptio...</td>\n",
       "      <td>19</td>\n",
       "    </tr>\n",
       "  </tbody>\n",
       "</table>\n",
       "</div>"
      ],
      "text/plain": [
       "     Unnamed: 0.1 Unnamed: 0                  name  \\\n",
       "201          41.0        124  Personal Experiences   \n",
       "202         178.0        539  Personal Experiences   \n",
       "203          14.0         51  Personal Experiences   \n",
       "\n",
       "                                           description level  \\\n",
       "201  having been a victim of crime or feeling unsaf...   low   \n",
       "202  the person's past experiences with crime, viol...   low   \n",
       "203  having been a victim of violent crime in the past   low   \n",
       "\n",
       "                                      candidate_values  \\\n",
       "201  ['experienced crime/violence', 'not experience...   \n",
       "202  ['experienced crime/violence', 'not experience...   \n",
       "203  ['victim of violent crime', 'not a victim of v...   \n",
       "\n",
       "                                     original_question  \\\n",
       "201  Please indicate whether the following is a maj...   \n",
       "202  How often, if ever, do you carry a handgun or ...   \n",
       "203  How much, if at all, do you worry about the fo...   \n",
       "\n",
       "                                             formatted cluster  \n",
       "201  Instruct: Given a persona dimension descriptio...      19  \n",
       "202  Instruct: Given a persona dimension descriptio...      19  \n",
       "203  Instruct: Given a persona dimension descriptio...      19  "
      ]
     },
     "execution_count": 2,
     "metadata": {},
     "output_type": "execute_result"
    }
   ],
   "source": [
    "data[data['cluster'].astype(str)  == '19'][:3]"
   ]
  },
  {
   "cell_type": "code",
   "execution_count": 5,
   "id": "2cc28c20-e0ec-47f7-9d43-5a7b5b99cf00",
   "metadata": {
    "execution": {
     "iopub.execute_input": "2024-07-11T20:56:50.346995Z",
     "iopub.status.busy": "2024-07-11T20:56:50.346613Z",
     "iopub.status.idle": "2024-07-11T20:58:16.035377Z",
     "shell.execute_reply": "2024-07-11T20:58:16.034765Z",
     "shell.execute_reply.started": "2024-07-11T20:56:50.346973Z"
    }
   },
   "outputs": [
    {
     "name": "stderr",
     "output_type": "stream",
     "text": [
      "  5%|▌         | 1/20 [00:02<00:51,  2.73s/it]"
     ]
    },
    {
     "name": "stdout",
     "output_type": "stream",
     "text": [
      "[    PersonaDimension(\n",
      "        name=\"Firearm-Related Recreational Interests\",\n",
      "        description=\"The individual's involvement in recreational activities and hobbies related to firearms, such as hunting, shooting sports, gun collecting, and visiting gun ranges.\",\n",
      "        level=\"low\",\n",
      "        candidate_values=['active participant', 'occasional participant', 'non-participant']\n",
      "    )]\n"
     ]
    },
    {
     "name": "stderr",
     "output_type": "stream",
     "text": [
      " 10%|█         | 2/20 [00:07<01:13,  4.06s/it]"
     ]
    },
    {
     "name": "stdout",
     "output_type": "stream",
     "text": [
      "[    PersonaDimension(\n",
      "        name=\"Occupation and Social Circle\",\n",
      "        description=\"The participant's occupation and social environment, including whether they work in a field related to guns, hunting, or shooting sports, and whether their friends or social circle is exposed to gun ownership.\",\n",
      "        level=\"low\",\n",
      "        candidate_values=['high gun exposure', 'moderate gun exposure', 'low gun exposure']\n",
      "    )]\n"
     ]
    },
    {
     "name": "stderr",
     "output_type": "stream",
     "text": [
      " 15%|█▌        | 3/20 [00:11<01:06,  3.91s/it]"
     ]
    },
    {
     "name": "stdout",
     "output_type": "stream",
     "text": [
      "[    PersonaDimension(\n",
      "        name=\"Geographic Location\",\n",
      "        description=\"The region or area where the person lives or grew up, which may influence their exposure to and attitudes towards guns, as well as the prevalence of gun ownership, accessibility, and related activities such as hunting.\",\n",
      "        level=\"low\",\n",
      "        candidate_values=['urban area', 'rural area', 'suburban area']\n",
      "    )]\n"
     ]
    },
    {
     "name": "stderr",
     "output_type": "stream",
     "text": [
      " 20%|██        | 4/20 [00:19<01:26,  5.38s/it]"
     ]
    },
    {
     "name": "stdout",
     "output_type": "stream",
     "text": [
      "[    PersonaDimension(\n",
      "        name=\"Personal Experiences with Firearms\",\n",
      "        description=\"The individual's past experiences, either positive or negative, with firearms, gun ownership, gun violence, or gun-related incidents, which may shape their attitudes, beliefs, and behaviors regarding gun use and storage.\",\n",
      "        level=\"low\",\n",
      "        candidate_values=['positive experiences', 'negative experiences', 'no experiences']\n",
      "    )]\n"
     ]
    },
    {
     "name": "stderr",
     "output_type": "stream",
     "text": [
      " 25%|██▌       | 5/20 [00:23<01:16,  5.12s/it]"
     ]
    },
    {
     "name": "stdout",
     "output_type": "stream",
     "text": [
      "[    PersonaDimension(\n",
      "        name=\"Geographic Location and Gun Culture\",\n",
      "        description=\"The participant's geographic location and the prevalence of gun ownership, gun culture, gun-related incidents, and attitudes towards gun ownership in that area.\",\n",
      "        level=\"low\",\n",
      "        candidate_values=['high gun ownership area', 'low gun ownership area', 'high-risk area', 'low-risk area', 'strict gun laws', 'lenient gun laws', 'high gun show availability', 'low gun show availability', 'positive attitude towards gun owners', 'negative attitude towards gun owners']\n",
      "    )]\n"
     ]
    },
    {
     "name": "stderr",
     "output_type": "stream",
     "text": [
      " 30%|███       | 6/20 [00:28<01:08,  4.92s/it]"
     ]
    },
    {
     "name": "stdout",
     "output_type": "stream",
     "text": [
      "[    PersonaDimension(\n",
      "        name=\"Household Firearm Ownership\",\n",
      "        description=\"The presence and extent of firearm ownership within the individual's household, including personal ownership, ownership by other household members, and the number of firearms owned.\",\n",
      "        level=\"low\",\n",
      "        candidate_values=['multiple gun owner', 'single gun owner', 'non-gun owner']\n",
      "    )]\n"
     ]
    },
    {
     "name": "stderr",
     "output_type": "stream",
     "text": [
      " 35%|███▌      | 7/20 [00:33<01:05,  5.01s/it]"
     ]
    },
    {
     "name": "stdout",
     "output_type": "stream",
     "text": [
      "[    PersonaDimension(\n",
      "        name=\"Experiences with Gun Violence\",\n",
      "        description=\"The individual's direct or indirect experiences with gun violence, gun-related incidents, accidents, threats, intimidation, illegal gun access, or being affected by mass shootings or terrorist attacks involving guns.\",\n",
      "        level=\"low\",\n",
      "        candidate_values=['affected', 'unaffected']\n",
      "    )]\n"
     ]
    },
    {
     "name": "stderr",
     "output_type": "stream",
     "text": [
      " 40%|████      | 8/20 [00:37<00:54,  4.58s/it]"
     ]
    },
    {
     "name": "stdout",
     "output_type": "stream",
     "text": [
      "[    PersonaDimension(\n",
      "        name=\"Parental Status\",\n",
      "        description=\"Whether the individual has children, particularly those under the age of 18, living in their home.\",\n",
      "        level=\"low\",\n",
      "        candidate_values=['has children under 18', 'no children under 18']\n",
      "    )]\n"
     ]
    },
    {
     "name": "stderr",
     "output_type": "stream",
     "text": [
      " 45%|████▌     | 9/20 [00:40<00:47,  4.27s/it]"
     ]
    },
    {
     "name": "stdout",
     "output_type": "stream",
     "text": [
      "[    PersonaDimension(\n",
      "        name=\"Personal Experiences with Firearms\",\n",
      "        description=\"The participant's personal experiences, exposure, and familiarity with firearms, including gun ownership, hunting, shooting sports, self-defense situations, and childhood experiences related to guns.\",\n",
      "        level=\"low\",\n",
      "        candidate_values=['extensive experience', 'moderate experience', 'limited experience', 'no experience']\n",
      "    )]\n"
     ]
    },
    {
     "name": "stderr",
     "output_type": "stream",
     "text": [
      " 50%|█████     | 10/20 [00:42<00:35,  3.57s/it]"
     ]
    },
    {
     "name": "stdout",
     "output_type": "stream",
     "text": [
      "[    PersonaDimension(\n",
      "        name=\"Community and Civic Engagement\",\n",
      "        description=\"The participant's level of involvement, familiarity, and interest in their local community, as well as issues related to crime, security, and the justice system.\",\n",
      "        level=\"low\",\n",
      "        candidate_values=['high engagement', 'low engagement']\n",
      "    )]\n"
     ]
    },
    {
     "name": "stderr",
     "output_type": "stream",
     "text": [
      " 55%|█████▌    | 11/20 [00:46<00:31,  3.54s/it]"
     ]
    },
    {
     "name": "stdout",
     "output_type": "stream",
     "text": [
      "[    PersonaDimension(\n",
      "        name=\"Household Composition and Security\",\n",
      "        description=\"The composition of the participant's household, including the presence of children and the level of security measures taken to protect the home.\",\n",
      "        level=\"low\",\n",
      "        candidate_values=['household with children and high security', 'household with children and low security', 'household without children and high security', 'household without children and low security']\n",
      "    )]\n"
     ]
    },
    {
     "name": "stderr",
     "output_type": "stream",
     "text": [
      " 60%|██████    | 12/20 [00:49<00:27,  3.41s/it]"
     ]
    },
    {
     "name": "stdout",
     "output_type": "stream",
     "text": [
      "[    PersonaDimension(\n",
      "        name=\"Household Composition and Vulnerability\",\n",
      "        description=\"The makeup of the participant's household, including the presence and ages of children, elderly, or other vulnerable individuals, as well as the number and types of people living in the home.\",\n",
      "        level=\"low\",\n",
      "        candidate_values=['household with vulnerable individuals', 'household without vulnerable individuals', 'single-person household', 'multi-person household']\n",
      "    )]\n"
     ]
    },
    {
     "name": "stderr",
     "output_type": "stream",
     "text": [
      " 65%|██████▌   | 13/20 [00:56<00:31,  4.53s/it]"
     ]
    },
    {
     "name": "stdout",
     "output_type": "stream",
     "text": [
      "[    PersonaDimension(\n",
      "        name=\"Occupational Risk\",\n",
      "        description=\"The person's occupation and its potential risk of being targeted by violence, terrorism, or mass shootings, as well as the stability and job security of the field.\",\n",
      "        level=\"low\",\n",
      "        candidate_values=['high-risk occupation', 'low-risk occupation']\n",
      "    ),     PersonaDimension(\n",
      "        name=\"Financial Stability\",\n",
      "        description=\"The individual's current financial status, ability to pay bills, and overall financial stability.\",\n",
      "        level=\"low\",\n",
      "        candidate_values=['financially stable', 'financially unstable']\n",
      "    ),     PersonaDimension(\n",
      "        name=\"Health and Healthcare\",\n",
      "        description=\"The person's current health condition, medical history, and the type and extent of their health insurance coverage.\",\n",
      "        level=\"low\",\n",
      "        candidate_values=['good health with comprehensive coverage', 'poor health with limited coverage']\n",
      "    )]\n"
     ]
    },
    {
     "name": "stderr",
     "output_type": "stream",
     "text": [
      " 70%|███████   | 14/20 [00:59<00:24,  4.07s/it]"
     ]
    },
    {
     "name": "stdout",
     "output_type": "stream",
     "text": [
      "[    PersonaDimension(\n",
      "        name=\"Socioeconomic and Demographic Factors\",\n",
      "        description=\"The individual's economic and social position, as well as demographic characteristics such as age, gender, and geographic location, which may influence their perspective on gun ownership and its relationship with economic opportunities and gun violence.\",\n",
      "        level=\"low\",\n",
      "        candidate_values=['high socioeconomic status', 'low socioeconomic status', 'urban', 'rural', 'male', 'female', 'young', 'old']\n",
      "    )]\n"
     ]
    },
    {
     "name": "stderr",
     "output_type": "stream",
     "text": [
      " 75%|███████▌  | 15/20 [01:04<00:21,  4.39s/it]"
     ]
    },
    {
     "name": "stdout",
     "output_type": "stream",
     "text": [
      "[    PersonaDimension(\n",
      "        name=\"Crime and Safety Media Consumption\",\n",
      "        description=\"The person's habits and preferences in consuming media related to crime and safety topics.\",\n",
      "        level=\"low\",\n",
      "        candidate_values=['high consumption', 'low consumption']\n",
      "    )]\n"
     ]
    },
    {
     "name": "stderr",
     "output_type": "stream",
     "text": [
      " 80%|████████  | 16/20 [01:11<00:20,  5.15s/it]"
     ]
    },
    {
     "name": "stdout",
     "output_type": "stream",
     "text": [
      "[    PersonaDimension(\n",
      "        name=\"Media Consumption Related to Firearms\",\n",
      "        description=\"The frequency and intensity of consuming various forms of media related to firearms, gun culture, and gun violence, including news, entertainment, video games, and online forums.\",\n",
      "        level=\"low\",\n",
      "        candidate_values=['high consumption', 'moderate consumption', 'low consumption']\n",
      "    )]\n"
     ]
    },
    {
     "name": "stderr",
     "output_type": "stream",
     "text": [
      " 85%|████████▌ | 17/20 [01:15<00:14,  4.74s/it]"
     ]
    },
    {
     "name": "stdout",
     "output_type": "stream",
     "text": [
      "[    PersonaDimension(\n",
      "        name=\"Occupation and Job-Related Gun Ownership\",\n",
      "        description=\"The participant's occupation or profession that may require or encourage gun ownership and usage for safety, security, or job-related purposes.\",\n",
      "        level=\"low\",\n",
      "        candidate_values=['law enforcement', 'military', 'security', 'high-risk occupation', 'job requires gun ownership', 'job does not require gun ownership']\n",
      "    )]\n"
     ]
    },
    {
     "name": "stderr",
     "output_type": "stream",
     "text": [
      " 90%|█████████ | 18/20 [01:18<00:08,  4.32s/it]"
     ]
    },
    {
     "name": "stdout",
     "output_type": "stream",
     "text": [
      "[    PersonaDimension(\n",
      "        name=\"Firearm-Related Lifestyle and Hobbies\",\n",
      "        description=\"The individual's daily activities, routines, hobbies, and leisure pursuits that involve or are related to firearms, such as hunting, sport shooting, collecting guns, or occupations that necessitate gun use.\",\n",
      "        level=\"low\",\n",
      "        candidate_values=['active involvement', 'occasional involvement', 'no involvement']\n",
      "    )]\n"
     ]
    },
    {
     "name": "stderr",
     "output_type": "stream",
     "text": [
      " 95%|█████████▌| 19/20 [01:22<00:04,  4.15s/it]"
     ]
    },
    {
     "name": "stdout",
     "output_type": "stream",
     "text": [
      "[    PersonaDimension(\n",
      "        name=\"Perceived Risk in Geographic Location\",\n",
      "        description=\"The perceived level of risk or safety in the participant's current living area or the area where they grew up, including risks related to crime, violence, gun incidents, terrorist attacks, economic instability, and the potential need for self-defense.\",\n",
      "        level=\"low\",\n",
      "        candidate_values=['high-risk area', 'low-risk area']\n",
      "    )]\n"
     ]
    },
    {
     "name": "stderr",
     "output_type": "stream",
     "text": [
      "100%|██████████| 20/20 [01:25<00:00,  4.28s/it]"
     ]
    },
    {
     "name": "stdout",
     "output_type": "stream",
     "text": [
      "[    PersonaDimension(\n",
      "        name=\"Personal Experiences with Crime and Safety\",\n",
      "        description=\"The participant's direct experiences as a victim of crime, violence, or safety issues, including violent crimes, burglaries, or feeling unsafe in their local community.\",\n",
      "        level=\"low\",\n",
      "        candidate_values=['victim of violent crime', 'victim of burglary', 'experienced crime/safety issues', 'not experienced crime/safety issues']\n",
      "    )]\n"
     ]
    },
    {
     "name": "stderr",
     "output_type": "stream",
     "text": [
      "\n"
     ]
    }
   ],
   "source": [
    "from tqdm import trange\n",
    "import json\n",
    "\n",
    "num_clusters = 20\n",
    "\n",
    "res = []\n",
    "for idx in trange(num_clusters):\n",
    "    eval_res = []\n",
    "    for _, row in data[data['cluster'].astype(str) == str(idx)].iterrows():\n",
    "        persona = PersonaDimension(**row[['name', 'description', 'level', 'candidate_values']].to_dict())\n",
    "        eval_res.append(persona)\n",
    "    \n",
    "    prompt = prompt_template.format(persona_dimensions='[\\n' + ',\\n'.join(repr(dim) for dim in eval_res) + '\\n]')\n",
    "    response = get_llm_response(prompt, prefill='[')\n",
    "    response = '[' + response\n",
    "    \n",
    "    try:\n",
    "        response = eval(response)\n",
    "        for dim in response:\n",
    "            res.append(dim)\n",
    "        print(response)\n",
    "        record_res = [str(dim) for dim in res]\n",
    "        with open('merged.json', 'w') as f:\n",
    "            json.dump(record_res, f, indent=4)\n",
    "    except:\n",
    "        print(f\"cluster {idx} failed\")\n",
    "        print(response)\n",
    "        continue"
   ]
  },
  {
   "cell_type": "code",
   "execution_count": null,
   "id": "e3efded4-6baa-4ff0-83a2-7631436ca88a",
   "metadata": {
    "scrolled": true
   },
   "outputs": [],
   "source": []
  },
  {
   "cell_type": "code",
   "execution_count": 6,
   "id": "ad5ee79a-77b4-4257-957a-60961db55ee7",
   "metadata": {
    "execution": {
     "iopub.execute_input": "2024-07-11T21:02:52.450351Z",
     "iopub.status.busy": "2024-07-11T21:02:52.449851Z",
     "iopub.status.idle": "2024-07-11T21:02:52.453799Z",
     "shell.execute_reply": "2024-07-11T21:02:52.453131Z",
     "shell.execute_reply.started": "2024-07-11T21:02:52.450328Z"
    }
   },
   "outputs": [],
   "source": [
    "with open('prompts/clean_summarized_personas.txt') as f:\n",
    "    prompt_template = f.read()"
   ]
  },
  {
   "cell_type": "code",
   "execution_count": 9,
   "id": "a1bcd67a-2a74-480e-bcc9-72213535e0c0",
   "metadata": {
    "execution": {
     "iopub.execute_input": "2024-07-11T21:08:14.961212Z",
     "iopub.status.busy": "2024-07-11T21:08:14.960779Z",
     "iopub.status.idle": "2024-07-11T21:08:58.289589Z",
     "shell.execute_reply": "2024-07-11T21:08:58.288959Z",
     "shell.execute_reply.started": "2024-07-11T21:08:14.961189Z"
    }
   },
   "outputs": [],
   "source": [
    "prompt = prompt_template.format(persona_dimensions='[\\n' + ',\\n'.join(repr(dim) for dim in res) + '\\n]')\n",
    "response = get_llm_response(prompt, prefill='[', max_tokens=2000)\n",
    "response = '[' + response"
   ]
  },
  {
   "cell_type": "code",
   "execution_count": null,
   "id": "75b3c96e-2d87-40e6-8366-6087aa1d4697",
   "metadata": {},
   "outputs": [],
   "source": []
  },
  {
   "cell_type": "code",
   "execution_count": null,
   "id": "71b94e45-341e-4371-a057-09f1185288c0",
   "metadata": {},
   "outputs": [],
   "source": []
  },
  {
   "cell_type": "code",
   "execution_count": null,
   "id": "3d08e29c-46e1-42ff-9f38-46befd319d19",
   "metadata": {},
   "outputs": [],
   "source": []
  }
 ],
 "metadata": {
  "kernelspec": {
   "display_name": "Python (pump)",
   "language": "python",
   "name": "pump"
  },
  "language_info": {
   "codemirror_mode": {
    "name": "ipython",
    "version": 3
   },
   "file_extension": ".py",
   "mimetype": "text/x-python",
   "name": "python",
   "nbconvert_exporter": "python",
   "pygments_lexer": "ipython3",
   "version": "3.10.14"
  }
 },
 "nbformat": 4,
 "nbformat_minor": 5
}
