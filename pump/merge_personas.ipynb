{
 "cells": [
  {
   "cell_type": "code",
   "execution_count": 1,
   "id": "bdb62c08-519b-417f-bad5-1b63310625ab",
   "metadata": {
    "execution": {
     "iopub.execute_input": "2024-07-12T05:22:06.736314Z",
     "iopub.status.busy": "2024-07-12T05:22:06.735974Z",
     "iopub.status.idle": "2024-07-12T05:22:09.570592Z",
     "shell.execute_reply": "2024-07-12T05:22:09.569907Z",
     "shell.execute_reply.started": "2024-07-12T05:22:06.736291Z"
    },
    "scrolled": true
   },
   "outputs": [
    {
     "data": {
      "text/plain": [
       "['American_Trends_Panel_W26',\n",
       " 'American_Trends_Panel_W27',\n",
       " 'American_Trends_Panel_W29']"
      ]
     },
     "execution_count": 1,
     "metadata": {},
     "output_type": "execute_result"
    }
   ],
   "source": [
    "import os\n",
    "os.environ['HF_HOME'] = '/mnt/sagemaker-nvme/cache'\n",
    "os.environ['CUDA_VISIBLE_DEVICES'] = '0,1'\n",
    "\n",
    "import torch\n",
    "import pandas as pd\n",
    "import json\n",
    "from tqdm import trange, tqdm\n",
    "from sklearn.cluster import KMeans\n",
    "from utils import last_token_pool, get_detailed_instruct, get_llm_response, PersonaDimension, list_s3_prefix\n",
    "from transformers import AutoTokenizer, AutoModel\n",
    "from dataclasses import asdict\n",
    "\n",
    "surveys = set()\n",
    "for path in list_s3_prefix(\"human_resp/\"):\n",
    "    if path.startswith(\"human_resp/American_Trends_Panel\"):\n",
    "        # Extract the folder name\n",
    "        folder = path.split(\"/\")[1]\n",
    "        surveys.add(folder)\n",
    "surveys = sorted(list(surveys))[:3]\n",
    "surveys"
   ]
  },
  {
   "cell_type": "markdown",
   "id": "a1aacf57-9ccd-4338-8319-4cf61795adfb",
   "metadata": {},
   "source": [
    "# Clustering"
   ]
  },
  {
   "cell_type": "code",
   "execution_count": 2,
   "id": "29b6196f-ea44-4aea-b547-08f536385a6e",
   "metadata": {
    "execution": {
     "iopub.execute_input": "2024-07-12T04:39:51.601372Z",
     "iopub.status.busy": "2024-07-12T04:39:51.600815Z",
     "iopub.status.idle": "2024-07-12T04:39:51.610730Z",
     "shell.execute_reply": "2024-07-12T04:39:51.610116Z",
     "shell.execute_reply.started": "2024-07-12T04:39:51.601349Z"
    },
    "scrolled": true
   },
   "outputs": [],
   "source": [
    "def get_personas_extracted_from_questions(personas_from_questions_filename):\n",
    "    with open(personas_from_questions_filename, 'r') as f:\n",
    "        data = json.load(f)\n",
    "    res = []\n",
    "    for entry in data:\n",
    "        if not entry['valid']: continue\n",
    "        for persona_dim in eval(entry['response']):\n",
    "            entry_dict = asdict(persona_dim)\n",
    "            input_dict = eval(entry['input_dict'])\n",
    "            entry_dict['original_question'] = input_dict['question'] + ' ' + input_dict['options']\n",
    "            res.append(entry_dict)\n",
    "    df = pd.DataFrame(res)\n",
    "    return df\n",
    "\n",
    "\n",
    "def cluster_extracted_personas(survey, extraction_dir, output_dir, num_clusters, print_result, tokenizer, model):\n",
    "    os.makedirs(output_dir, exist_ok=True)\n",
    "    \n",
    "    # Get data\n",
    "    personas_from_questions_filename = f\"{extraction_dir}/personas_extracted_from_question_{survey}.json\"\n",
    "    data = get_personas_extracted_from_questions(personas_from_questions_filename)\n",
    "\n",
    "    # Get formatted string for clustering\n",
    "    def get_formatted_persona_dim(row):\n",
    "        task = 'Given a persona dimension description, retrieve semantically similar persona dimension descriptions.'\n",
    "        persona = f\"{row['name']}: {row['description']}. Candidate values: {row['candidate_values']}\"\n",
    "        return get_detailed_instruct(task, persona)\n",
    "    data['formatted'] = data.apply(get_formatted_persona_dim, axis=1)\n",
    "\n",
    "    for level in ['high', 'mid', 'low']:\n",
    "        # Get subset and save artifacts\n",
    "        level_df = data[data['level']==level]\n",
    "        level_df.to_csv(f\"{output_dir}/{level}-level_personas_{survey}.csv\")\n",
    "        \n",
    "        # Get the embeddings\n",
    "        max_length = 4096\n",
    "        input_texts = level_df['formatted'].to_list()\n",
    "\n",
    "        embeddings = []\n",
    "        for text in input_texts:\n",
    "            batch_dict = tokenizer([text], max_length=max_length, padding=True, truncation=True, return_tensors=\"pt\")\n",
    "            with torch.no_grad():\n",
    "                outputs = model(**batch_dict)\n",
    "                embed = last_token_pool(outputs.last_hidden_state, batch_dict['attention_mask'])[0]\n",
    "            embeddings.append(embed)\n",
    "        embeddings = torch.stack(embeddings, axis=0)\n",
    "        print(embeddings.shape, len(input_texts))\n",
    "        \n",
    "        # Clustering the embeddings and save artifacts\n",
    "        clustering_model = KMeans(n_clusters=num_clusters)\n",
    "        clustering_model.fit(embeddings)\n",
    "        level_df['cluster'] = clustering_model.labels_\n",
    "        level_df = level_df.sort_values(by='cluster')\n",
    "        level_df.to_csv(f'{output_dir}/clustered_{level}_level_personas_{survey}.csv')\n",
    "\n",
    "        if print_result:\n",
    "            for idx in range(num_clusters):\n",
    "                print(idx)\n",
    "                for _, row in enumerate(level_df[level_df['cluster'] == idx]['formatted']):\n",
    "                    print(row.split('\\n')[1])\n",
    "                print('\\n\\n')"
   ]
  },
  {
   "cell_type": "code",
   "execution_count": 3,
   "id": "889f45cb-0717-4ec6-8d59-53ba80d3c554",
   "metadata": {
    "execution": {
     "iopub.execute_input": "2024-07-12T04:39:51.611925Z",
     "iopub.status.busy": "2024-07-12T04:39:51.611740Z",
     "iopub.status.idle": "2024-07-12T04:44:25.382980Z",
     "shell.execute_reply": "2024-07-12T04:44:25.382117Z",
     "shell.execute_reply.started": "2024-07-12T04:39:51.611906Z"
    }
   },
   "outputs": [
    {
     "data": {
      "application/vnd.jupyter.widget-view+json": {
       "model_id": "",
       "version_major": 2,
       "version_minor": 0
      },
      "text/plain": [
       "Loading checkpoint shards:   0%|          | 0/3 [00:00<?, ?it/s]"
      ]
     },
     "metadata": {},
     "output_type": "display_data"
    },
    {
     "name": "stderr",
     "output_type": "stream",
     "text": [
      "  0%|          | 0/3 [00:00<?, ?it/s]"
     ]
    },
    {
     "name": "stdout",
     "output_type": "stream",
     "text": [
      "torch.Size([226, 4096]) 226\n"
     ]
    },
    {
     "name": "stderr",
     "output_type": "stream",
     "text": [
      "/tmp/ipykernel_30235/4183643238.py:52: SettingWithCopyWarning: \n",
      "A value is trying to be set on a copy of a slice from a DataFrame.\n",
      "Try using .loc[row_indexer,col_indexer] = value instead\n",
      "\n",
      "See the caveats in the documentation: https://pandas.pydata.org/pandas-docs/stable/user_guide/indexing.html#returning-a-view-versus-a-copy\n",
      "  level_df['cluster'] = clustering_model.labels_\n"
     ]
    },
    {
     "name": "stdout",
     "output_type": "stream",
     "text": [
      "torch.Size([226, 4096]) 226\n"
     ]
    },
    {
     "name": "stderr",
     "output_type": "stream",
     "text": [
      "/tmp/ipykernel_30235/4183643238.py:52: SettingWithCopyWarning: \n",
      "A value is trying to be set on a copy of a slice from a DataFrame.\n",
      "Try using .loc[row_indexer,col_indexer] = value instead\n",
      "\n",
      "See the caveats in the documentation: https://pandas.pydata.org/pandas-docs/stable/user_guide/indexing.html#returning-a-view-versus-a-copy\n",
      "  level_df['cluster'] = clustering_model.labels_\n",
      "/tmp/ipykernel_30235/4183643238.py:52: SettingWithCopyWarning: \n",
      "A value is trying to be set on a copy of a slice from a DataFrame.\n",
      "Try using .loc[row_indexer,col_indexer] = value instead\n",
      "\n",
      "See the caveats in the documentation: https://pandas.pydata.org/pandas-docs/stable/user_guide/indexing.html#returning-a-view-versus-a-copy\n",
      "  level_df['cluster'] = clustering_model.labels_\n",
      " 33%|███▎      | 1/3 [01:15<02:30, 75.18s/it]"
     ]
    },
    {
     "name": "stdout",
     "output_type": "stream",
     "text": [
      "torch.Size([199, 4096]) 199\n",
      "torch.Size([268, 4096]) 268\n"
     ]
    },
    {
     "name": "stderr",
     "output_type": "stream",
     "text": [
      "/tmp/ipykernel_30235/4183643238.py:52: SettingWithCopyWarning: \n",
      "A value is trying to be set on a copy of a slice from a DataFrame.\n",
      "Try using .loc[row_indexer,col_indexer] = value instead\n",
      "\n",
      "See the caveats in the documentation: https://pandas.pydata.org/pandas-docs/stable/user_guide/indexing.html#returning-a-view-versus-a-copy\n",
      "  level_df['cluster'] = clustering_model.labels_\n"
     ]
    },
    {
     "name": "stdout",
     "output_type": "stream",
     "text": [
      "torch.Size([403, 4096]) 403\n"
     ]
    },
    {
     "name": "stderr",
     "output_type": "stream",
     "text": [
      "/tmp/ipykernel_30235/4183643238.py:52: SettingWithCopyWarning: \n",
      "A value is trying to be set on a copy of a slice from a DataFrame.\n",
      "Try using .loc[row_indexer,col_indexer] = value instead\n",
      "\n",
      "See the caveats in the documentation: https://pandas.pydata.org/pandas-docs/stable/user_guide/indexing.html#returning-a-view-versus-a-copy\n",
      "  level_df['cluster'] = clustering_model.labels_\n",
      "/tmp/ipykernel_30235/4183643238.py:52: SettingWithCopyWarning: \n",
      "A value is trying to be set on a copy of a slice from a DataFrame.\n",
      "Try using .loc[row_indexer,col_indexer] = value instead\n",
      "\n",
      "See the caveats in the documentation: https://pandas.pydata.org/pandas-docs/stable/user_guide/indexing.html#returning-a-view-versus-a-copy\n",
      "  level_df['cluster'] = clustering_model.labels_\n",
      " 67%|██████▋   | 2/3 [02:57<01:31, 91.40s/it]"
     ]
    },
    {
     "name": "stdout",
     "output_type": "stream",
     "text": [
      "torch.Size([205, 4096]) 205\n",
      "torch.Size([223, 4096]) 223\n"
     ]
    },
    {
     "name": "stderr",
     "output_type": "stream",
     "text": [
      "/tmp/ipykernel_30235/4183643238.py:52: SettingWithCopyWarning: \n",
      "A value is trying to be set on a copy of a slice from a DataFrame.\n",
      "Try using .loc[row_indexer,col_indexer] = value instead\n",
      "\n",
      "See the caveats in the documentation: https://pandas.pydata.org/pandas-docs/stable/user_guide/indexing.html#returning-a-view-versus-a-copy\n",
      "  level_df['cluster'] = clustering_model.labels_\n"
     ]
    },
    {
     "name": "stdout",
     "output_type": "stream",
     "text": [
      "torch.Size([305, 4096]) 305\n"
     ]
    },
    {
     "name": "stderr",
     "output_type": "stream",
     "text": [
      "/tmp/ipykernel_30235/4183643238.py:52: SettingWithCopyWarning: \n",
      "A value is trying to be set on a copy of a slice from a DataFrame.\n",
      "Try using .loc[row_indexer,col_indexer] = value instead\n",
      "\n",
      "See the caveats in the documentation: https://pandas.pydata.org/pandas-docs/stable/user_guide/indexing.html#returning-a-view-versus-a-copy\n",
      "  level_df['cluster'] = clustering_model.labels_\n",
      "/tmp/ipykernel_30235/4183643238.py:52: SettingWithCopyWarning: \n",
      "A value is trying to be set on a copy of a slice from a DataFrame.\n",
      "Try using .loc[row_indexer,col_indexer] = value instead\n",
      "\n",
      "See the caveats in the documentation: https://pandas.pydata.org/pandas-docs/stable/user_guide/indexing.html#returning-a-view-versus-a-copy\n",
      "  level_df['cluster'] = clustering_model.labels_\n",
      "100%|██████████| 3/3 [04:14<00:00, 84.77s/it]"
     ]
    },
    {
     "name": "stdout",
     "output_type": "stream",
     "text": [
      "torch.Size([158, 4096]) 158\n"
     ]
    },
    {
     "name": "stderr",
     "output_type": "stream",
     "text": [
      "\n"
     ]
    }
   ],
   "source": [
    "# Load tokenizer and model\n",
    "tokenizer = AutoTokenizer.from_pretrained('Salesforce/SFR-Embedding-2_R')\n",
    "model = AutoModel.from_pretrained('Salesforce/SFR-Embedding-2_R', device_map='auto')\n",
    "\n",
    "for survey in tqdm(surveys):\n",
    "    cluster_extracted_personas(survey,\n",
    "                               extraction_dir='sm_local/outputs/extraction',\n",
    "                               output_dir='sm_local/outputs/clustering',\n",
    "                               num_clusters=20,\n",
    "                               print_result=False,\n",
    "                               tokenizer=tokenizer,\n",
    "                               model=model)"
   ]
  },
  {
   "cell_type": "code",
   "execution_count": null,
   "id": "0eeeafe7-3f74-4ba5-b32e-fafbb8a11c1f",
   "metadata": {},
   "outputs": [],
   "source": []
  },
  {
   "cell_type": "code",
   "execution_count": null,
   "id": "6756f166-7bd1-4b56-9154-8cedc63ffada",
   "metadata": {},
   "outputs": [],
   "source": []
  },
  {
   "cell_type": "markdown",
   "id": "70a316ae-e5e4-4572-a544-7df686b1e834",
   "metadata": {},
   "source": [
    "# Summarizing"
   ]
  },
  {
   "cell_type": "code",
   "execution_count": 4,
   "id": "b5d15aa0-ca4b-4303-94d2-8e43e8930230",
   "metadata": {
    "execution": {
     "iopub.execute_input": "2024-07-12T04:44:25.403816Z",
     "iopub.status.busy": "2024-07-12T04:44:25.403594Z",
     "iopub.status.idle": "2024-07-12T04:44:25.412179Z",
     "shell.execute_reply": "2024-07-12T04:44:25.411478Z",
     "shell.execute_reply.started": "2024-07-12T04:44:25.403793Z"
    }
   },
   "outputs": [],
   "source": [
    "def summarize_clustered_personas(prompt_name, survey, level, clustering_dir, output_dir, num_clusters, print_result):\n",
    "    os.makedirs(output_dir, exist_ok=True)\n",
    "\n",
    "    # Get data\n",
    "    clustered_persona_filename = f\"{clustering_dir}/clustered_{level}_level_personas_{survey}.csv\"\n",
    "    data = pd.read_csv(clustered_persona_filename)\n",
    "    with open(f'prompts/{prompt_name}.txt') as f:\n",
    "        prompt_template = f.read()\n",
    "\n",
    "    # summarize\n",
    "    res = []\n",
    "    for idx in trange(num_clusters):\n",
    "        persona_cluster = []\n",
    "        for _, row in data[data['cluster'].astype(str) == str(idx)].iterrows():\n",
    "            persona = PersonaDimension(**row[['name', 'description', 'level', 'candidate_values']].to_dict())\n",
    "            persona_cluster.append(persona)\n",
    "        \n",
    "        prompt = prompt_template.format(persona_dimensions='[\\n' + ',\\n'.join(repr(dim) for dim in persona_cluster) + '\\n]')\n",
    "        response = get_llm_response(prompt, prefill='[')\n",
    "        response = '[' + response\n",
    "        \n",
    "        try:\n",
    "            response = eval(response)\n",
    "            for dim in response:\n",
    "                res.append(dim)\n",
    "\n",
    "            record_res = [str(dim) for dim in res]\n",
    "            summarized_clustered_personas_filename = f\"{output_dir}/summarized_{level}_level_personas_{survey}.json\"\n",
    "            with open(summarized_clustered_personas_filename, 'w') as f:\n",
    "                json.dump(record_res, f, indent=4)\n",
    "    \n",
    "            if print_result:\n",
    "                print(response)\n",
    "        except:\n",
    "            if print_result:\n",
    "                print(f\"cluster {idx} failed\")\n",
    "                print(response)\n",
    "            continue\n"
   ]
  },
  {
   "cell_type": "code",
   "execution_count": null,
   "id": "05aad01f-3552-4b48-a9fc-5c54af5d5d1e",
   "metadata": {
    "execution": {
     "execution_failed": "2024-07-12T05:03:07.736Z",
     "iopub.execute_input": "2024-07-12T04:44:25.413560Z",
     "iopub.status.busy": "2024-07-12T04:44:25.413342Z"
    },
    "scrolled": true
   },
   "outputs": [
    {
     "name": "stderr",
     "output_type": "stream",
     "text": [
      "  5%|▌         | 1/20 [00:03<00:58,  3.07s/it]"
     ]
    },
    {
     "name": "stdout",
     "output_type": "stream",
     "text": [
      "[    PersonaDimension(\n",
      "        name=\"Occupation and Gun Involvement\",\n",
      "        description=\"The participant's occupation, profession, or job responsibilities that may involve, require, or be influenced by gun ownership, usage, or exposure.\",\n",
      "        level=\"low\",\n",
      "        candidate_values=['gun-related occupation', 'non-gun-related occupation']\n",
      "    )]\n"
     ]
    },
    {
     "name": "stderr",
     "output_type": "stream",
     "text": [
      " 10%|█         | 2/20 [00:06<00:59,  3.29s/it]"
     ]
    },
    {
     "name": "stdout",
     "output_type": "stream",
     "text": [
      "[    PersonaDimension(\n",
      "        name=\"Geographic Gun Ownership and Risk\",\n",
      "        description=\"The participant's geographic location in terms of gun ownership rates, gun culture, and risk of gun-related incidents such as violence and crime.\",\n",
      "        level=\"low\",\n",
      "        candidate_values=['high gun ownership and risk area', 'low gun ownership and risk area']\n",
      "    )]\n"
     ]
    },
    {
     "name": "stderr",
     "output_type": "stream",
     "text": [
      " 15%|█▌        | 3/20 [00:09<00:57,  3.37s/it]"
     ]
    },
    {
     "name": "stdout",
     "output_type": "stream",
     "text": [
      "[    PersonaDimension(\n",
      "        name=\"Experiences with Gun Violence\",\n",
      "        description=\"The participant's personal experiences with or exposure to gun violence, crime, threats, and gun-related incidents, either directly or indirectly.\",\n",
      "        level=\"low\",\n",
      "        candidate_values=['directly affected', 'indirectly affected', 'not affected']\n",
      "    )]\n"
     ]
    },
    {
     "name": "stderr",
     "output_type": "stream",
     "text": [
      " 20%|██        | 4/20 [00:12<00:46,  2.92s/it]"
     ]
    },
    {
     "name": "stdout",
     "output_type": "stream",
     "text": [
      "[    PersonaDimension(\n",
      "        name=\"Household Composition with Children\",\n",
      "        description=\"Whether the person has children living in their home, which may influence perceptions of gun ownership and storage practices due to safety concerns.\",\n",
      "        level=\"low\",\n",
      "        candidate_values=['has children', 'no children']\n",
      "    )]\n"
     ]
    },
    {
     "name": "stderr",
     "output_type": "stream",
     "text": [
      " 25%|██▌       | 5/20 [00:14<00:40,  2.69s/it]"
     ]
    },
    {
     "name": "stdout",
     "output_type": "stream",
     "text": [
      "[    PersonaDimension(\n",
      "        name=\"Personal Experiences with Firearms\",\n",
      "        description=\"The individual's past experiences, either positive or negative, with firearms, including ownership, usage, interactions with gun owners, and any incidents or threats related to guns.\",\n",
      "        level=\"low\",\n",
      "        candidate_values=['positive experiences', 'negative experiences', 'no experiences']\n",
      "    )]\n"
     ]
    },
    {
     "name": "stderr",
     "output_type": "stream",
     "text": [
      " 30%|███       | 6/20 [00:21<00:56,  4.04s/it]"
     ]
    },
    {
     "name": "stdout",
     "output_type": "stream",
     "text": [
      "[    PersonaDimension(\n",
      "        name=\"Occupational Risk Level\",\n",
      "        description=\"The participant's occupation and its associated level of risk or exposure to gun violence, crime, and potential need for self-defense measures.\",\n",
      "        level=\"low\",\n",
      "        candidate_values=['high-risk occupation', 'low-risk occupation']\n",
      "    )]\n"
     ]
    },
    {
     "name": "stderr",
     "output_type": "stream",
     "text": [
      " 35%|███▌      | 7/20 [00:24<00:51,  3.95s/it]"
     ]
    },
    {
     "name": "stdout",
     "output_type": "stream",
     "text": [
      "[    PersonaDimension(\n",
      "        name=\"Firearm-Related Lifestyle and Recreational Interests\",\n",
      "        description=\"The individual's involvement in activities, hobbies, and overall lifestyle related to firearms, such as hunting, shooting sports, gun collecting, and environments where gun ownership or usage is common.\",\n",
      "        level=\"low\",\n",
      "        candidate_values=['active involvement', 'occasional involvement', 'no involvement']\n",
      "    )]\n"
     ]
    },
    {
     "name": "stderr",
     "output_type": "stream",
     "text": [
      " 40%|████      | 8/20 [00:28<00:44,  3.72s/it]"
     ]
    },
    {
     "name": "stdout",
     "output_type": "stream",
     "text": [
      "[    PersonaDimension(\n",
      "        name=\"Gun Ownership Status\",\n",
      "        description=\"Whether the individual, their spouse/partner, or their household currently owns or has access to firearms, excluding air guns.\",\n",
      "        level=\"low\",\n",
      "        candidate_values=['gun owner', 'non-gun owner']\n",
      "    )]\n"
     ]
    },
    {
     "name": "stderr",
     "output_type": "stream",
     "text": [
      " 45%|████▌     | 9/20 [00:29<00:34,  3.14s/it]"
     ]
    },
    {
     "name": "stdout",
     "output_type": "stream",
     "text": [
      "[    PersonaDimension(\n",
      "        name=\"Socioeconomic Status\",\n",
      "        description=\"The individual's economic and social standing in society, which may influence their perspective on the relationship between economic opportunities and gun violence, as well as their perceptions of gun violence in general.\",\n",
      "        level=\"low\",\n",
      "        candidate_values=['high socioeconomic status', 'low socioeconomic status']\n",
      "    )]\n"
     ]
    },
    {
     "name": "stderr",
     "output_type": "stream",
     "text": [
      " 50%|█████     | 10/20 [00:32<00:30,  3.04s/it]"
     ]
    },
    {
     "name": "stdout",
     "output_type": "stream",
     "text": [
      "[    PersonaDimension(\n",
      "        name=\"Personal Firearm Experiences\",\n",
      "        description=\"The individual's past experiences, exposure, and familiarity with firearms, including direct use, hunting, sport shooting, gun-related incidents, and childhood exposure.\",\n",
      "        level=\"low\",\n",
      "        candidate_values=['extensive experience', 'limited experience', 'no experience']\n",
      "    )]\n"
     ]
    },
    {
     "name": "stderr",
     "output_type": "stream",
     "text": [
      " 55%|█████▌    | 11/20 [00:35<00:26,  2.96s/it]"
     ]
    },
    {
     "name": "stdout",
     "output_type": "stream",
     "text": [
      "[    PersonaDimension(\n",
      "        name=\"Perceived Risk in Geographic Location\",\n",
      "        description=\"The participant's perception of the level of risk, such as crime, violence, economic instability, or terrorism, in the geographic area where they reside.\",\n",
      "        level=\"low\",\n",
      "        candidate_values=['high-risk area', 'low-risk area']\n",
      "    )]\n"
     ]
    },
    {
     "name": "stderr",
     "output_type": "stream",
     "text": [
      " 60%|██████    | 12/20 [00:40<00:27,  3.42s/it]"
     ]
    },
    {
     "name": "stdout",
     "output_type": "stream",
     "text": [
      "[    PersonaDimension(\n",
      "        name=\"Firearm-Related Media Consumption\",\n",
      "        description=\"The participant's habits and frequency of consuming media content related to firearms, such as TV shows, videos, podcasts, online forums, and websites about guns, hunting, and shooting sports.\",\n",
      "        level=\"low\",\n",
      "        candidate_values=['high consumption', 'moderate consumption', 'low consumption']\n",
      "    )]\n"
     ]
    },
    {
     "name": "stderr",
     "output_type": "stream",
     "text": [
      " 65%|██████▌   | 13/20 [00:42<00:20,  2.97s/it]"
     ]
    },
    {
     "name": "stdout",
     "output_type": "stream",
     "text": [
      "[    PersonaDimension(\n",
      "        name=\"Health and Healthcare Access\",\n",
      "        description=\"The individual's current health status, medical history, and level of access to healthcare services through insurance coverage or other means.\",\n",
      "        level=\"low\",\n",
      "        candidate_values=['good health with comprehensive coverage', 'poor health with limited coverage']\n",
      "    )]\n"
     ]
    },
    {
     "name": "stderr",
     "output_type": "stream",
     "text": [
      " 70%|███████   | 14/20 [00:43<00:15,  2.56s/it]"
     ]
    },
    {
     "name": "stdout",
     "output_type": "stream",
     "text": [
      "[    PersonaDimension(\n",
      "        name=\"Job Tenure\",\n",
      "        description=\"length of time in current job or with current employer\",\n",
      "        level=\"low\",\n",
      "        candidate_values=['short tenure', 'long tenure']\n",
      "    )]\n"
     ]
    },
    {
     "name": "stderr",
     "output_type": "stream",
     "text": [
      " 75%|███████▌  | 15/20 [00:46<00:12,  2.54s/it]"
     ]
    },
    {
     "name": "stdout",
     "output_type": "stream",
     "text": [
      "[    PersonaDimension(\n",
      "        name=\"Victimization Experiences\",\n",
      "        description=\"The participant's personal experiences of being a victim of crime, violence, or feeling unsafe in the past.\",\n",
      "        level=\"low\",\n",
      "        candidate_values=['victim of violent crime', 'victim of burglary/property crime', 'no victimization experience']\n",
      "    )]\n"
     ]
    },
    {
     "name": "stderr",
     "output_type": "stream",
     "text": [
      " 80%|████████  | 16/20 [00:48<00:10,  2.60s/it]"
     ]
    },
    {
     "name": "stdout",
     "output_type": "stream",
     "text": [
      "[    PersonaDimension(\n",
      "        name=\"Geographic Location\",\n",
      "        description=\"The region or area where the person lives or grew up, which may influence gun ownership, storage practices, laws, norms, risks, and prevalence of gun ownership among their social circle.\",\n",
      "        level=\"low\",\n",
      "        candidate_values=['urban area', 'rural area', 'suburban area', 'high-crime area', 'low-crime area']\n",
      "    )]\n"
     ]
    },
    {
     "name": "stderr",
     "output_type": "stream",
     "text": [
      " 85%|████████▌ | 17/20 [00:51<00:08,  2.76s/it]"
     ]
    },
    {
     "name": "stdout",
     "output_type": "stream",
     "text": [
      "[    PersonaDimension(\n",
      "        name=\"Lifestyle and Activities\",\n",
      "        description=\"The individual's daily routines, activities, hobbies, social circles, and environments that may influence their need or decision to carry a handgun or pistol.\",\n",
      "        level=\"low\",\n",
      "        candidate_values=['High-risk lifestyle that may require carrying', 'Low-risk lifestyle that does not require carrying']\n",
      "    )]\n"
     ]
    },
    {
     "name": "stderr",
     "output_type": "stream",
     "text": [
      " 90%|█████████ | 18/20 [00:53<00:04,  2.35s/it]"
     ]
    },
    {
     "name": "stdout",
     "output_type": "stream",
     "text": [
      "[    PersonaDimension(\n",
      "        name=\"Financial Situation\",\n",
      "        description=\"the current state of an individual's financial resources and obligations, such as income, expenses, and debt levels\",\n",
      "        level=\"low\",\n",
      "        candidate_values=['financially stable', 'financially unstable']\n",
      "    )]\n"
     ]
    },
    {
     "name": "stderr",
     "output_type": "stream",
     "text": [
      " 95%|█████████▌| 19/20 [00:57<00:02,  2.73s/it]"
     ]
    },
    {
     "name": "stdout",
     "output_type": "stream",
     "text": [
      "[    PersonaDimension(\n",
      "        name=\"Household Composition\",\n",
      "        description=\"The number and types of individuals living in the participant's household, including the presence of a spouse/partner, children, or other family members, which may influence gun ownership decisions and storage practices.\",\n",
      "        level=\"low\",\n",
      "        candidate_values=['single adult', 'family with children', 'multi-generational household', 'lives with roommates']\n",
      "    )]\n"
     ]
    },
    {
     "name": "stderr",
     "output_type": "stream",
     "text": [
      "100%|██████████| 20/20 [01:03<00:00,  3.18s/it]\n"
     ]
    },
    {
     "name": "stdout",
     "output_type": "stream",
     "text": [
      "[    PersonaDimension(\n",
      "        name=\"Personal Experiences with Crime and Safety\",\n",
      "        description=\"The individual's personal experiences with crime, violence, safety issues, or situations requiring self-defense, which may shape their views on gun ownership and carrying a handgun.\",\n",
      "        level=\"low\",\n",
      "        candidate_values=['experienced crime/violence/safety issues', 'not experienced crime/violence/safety issues']\n",
      "    ),     PersonaDimension(\n",
      "        name=\"Family Background on Gun Ownership\",\n",
      "        description=\"The family's cultural, social, or economic background that may have shaped their views on gun ownership and use.\",\n",
      "        level=\"low\",\n",
      "        candidate_values=['pro-gun family', 'anti-gun family']\n",
      "    )]\n"
     ]
    },
    {
     "name": "stderr",
     "output_type": "stream",
     "text": [
      "  5%|▌         | 1/20 [00:02<00:53,  2.80s/it]"
     ]
    },
    {
     "name": "stdout",
     "output_type": "stream",
     "text": [
      "[    PersonaDimension(\n",
      "        name=\"Perception of Risk and Threats\",\n",
      "        description=\"The participant's assessment of the likelihood and potential impact of various risks and threats, such as gun violence, crime, personal crises, and terrorist attacks.\",\n",
      "        level=\"mid\",\n",
      "        candidate_values=['high risk perception', 'low risk perception']\n",
      "    )]\n"
     ]
    },
    {
     "name": "stderr",
     "output_type": "stream",
     "text": [
      " 10%|█         | 2/20 [00:04<00:40,  2.25s/it]"
     ]
    },
    {
     "name": "stdout",
     "output_type": "stream",
     "text": [
      "[    PersonaDimension(\n",
      "        name=\"Attitudes Towards Gun Safety Education\",\n",
      "        description=\"The person's beliefs and opinions regarding the importance and necessity of providing gun safety education to children.\",\n",
      "        level=\"mid\",\n",
      "        candidate_values=['prioritizes gun safety education', 'does not prioritize gun safety education']\n",
      "    )]\n"
     ]
    },
    {
     "name": "stderr",
     "output_type": "stream",
     "text": [
      " 15%|█▌        | 3/20 [00:07<00:45,  2.66s/it]"
     ]
    },
    {
     "name": "stdout",
     "output_type": "stream",
     "text": [
      "[    PersonaDimension(\n",
      "        name=\"Hunting and Shooting Interests\",\n",
      "        description=\"The individual's recreational interests, cultural identity, utilitarian needs, and desire for skill development related to hunting and sport shooting activities.\",\n",
      "        level=\"mid\",\n",
      "        candidate_values=['strong interest', 'moderate interest', 'low interest']\n",
      "    )]\n"
     ]
    },
    {
     "name": "stderr",
     "output_type": "stream",
     "text": [
      " 20%|██        | 4/20 [00:14<01:05,  4.08s/it]"
     ]
    },
    {
     "name": "stdout",
     "output_type": "stream",
     "text": [
      "[    PersonaDimension(\n",
      "        name=\"Emotional State Regarding Safety and Violence\",\n",
      "        description=\"The person's levels of anxiety, fear, concern, or emotional response towards various safety and violence-related issues, such as gun violence, personal safety, violent crime, mass shootings, and home burglaries.\",\n",
      "        level=\"mid\",\n",
      "        candidate_values=['high anxiety/fear', 'low anxiety/fear']\n",
      "    )]\n"
     ]
    },
    {
     "name": "stderr",
     "output_type": "stream",
     "text": [
      " 25%|██▌       | 5/20 [00:17<00:58,  3.89s/it]"
     ]
    },
    {
     "name": "stdout",
     "output_type": "stream",
     "text": [
      "[    PersonaDimension(\n",
      "        name=\"Sense of Responsibility for Safety\",\n",
      "        description=\"The participant's perceived sense of responsibility and duty to ensure the safety of others, especially children, when owning or handling firearms.\",\n",
      "        level=\"mid\",\n",
      "        candidate_values=['high responsibility', 'low responsibility']\n",
      "    )]\n"
     ]
    },
    {
     "name": "stderr",
     "output_type": "stream",
     "text": [
      " 30%|███       | 6/20 [00:22<00:56,  4.06s/it]"
     ]
    },
    {
     "name": "stdout",
     "output_type": "stream",
     "text": [
      "[    PersonaDimension(\n",
      "        name=\"Perceived Need for Personal Safety and Security\",\n",
      "        description=\"The individual's assessment of personal safety risks and the perceived need for gun ownership or access for self-defense and security purposes.\",\n",
      "        level=\"mid\",\n",
      "        candidate_values=['high perceived need', 'low perceived need']\n",
      "    )]\n"
     ]
    },
    {
     "name": "stderr",
     "output_type": "stream",
     "text": [
      " 35%|███▌      | 7/20 [00:25<00:48,  3.72s/it]"
     ]
    },
    {
     "name": "stdout",
     "output_type": "stream",
     "text": [
      "[    PersonaDimension(\n",
      "        name=\"Attitudes Towards Firearm Safety\",\n",
      "        description=\"The person's beliefs, values, and practices regarding the importance of responsible firearm ownership, safe storage, handling, and safety measures.\",\n",
      "        level=\"mid\",\n",
      "        candidate_values=['prioritizes firearm safety', 'indifferent to firearm safety']\n",
      "    )]\n"
     ]
    },
    {
     "name": "stderr",
     "output_type": "stream",
     "text": [
      " 40%|████      | 8/20 [00:28<00:42,  3.51s/it]"
     ]
    },
    {
     "name": "stdout",
     "output_type": "stream",
     "text": [
      "[    PersonaDimension(\n",
      "        name=\"Attitudes Towards Guns and Gun Control\",\n",
      "        description=\"The individual's beliefs, opinions, and perceptions regarding gun ownership, use, and the role of guns in society, as well as their views on gun control policies and regulations.\",\n",
      "        level=\"mid\",\n",
      "        candidate_values=['pro-gun', 'anti-gun', 'neutral']\n",
      "    )]\n"
     ]
    },
    {
     "name": "stderr",
     "output_type": "stream",
     "text": [
      " 45%|████▌     | 9/20 [00:30<00:34,  3.10s/it]"
     ]
    },
    {
     "name": "stdout",
     "output_type": "stream",
     "text": [
      "[    PersonaDimension(\n",
      "        name=\"Familiarity with Firearms\",\n",
      "        description=\"The level of exposure, experience, knowledge, and comfort with firearms and related equipment from an early age or upbringing.\",\n",
      "        level=\"mid\",\n",
      "        candidate_values=['high familiarity', 'low familiarity']\n",
      "    )]\n"
     ]
    },
    {
     "name": "stderr",
     "output_type": "stream",
     "text": [
      " 50%|█████     | 10/20 [00:33<00:30,  3.02s/it]"
     ]
    },
    {
     "name": "stdout",
     "output_type": "stream",
     "text": [
      "[    PersonaDimension(\n",
      "        name=\"Risk Perception and Assessment of Gun Ownership\",\n",
      "        description=\"The individual's evaluation and perception of the potential risks, threats, consequences, and benefits associated with gun ownership, usage, and storage.\",\n",
      "        level=\"mid\",\n",
      "        candidate_values=['high risk perception', 'low risk perception', 'perceives guns as reducing risk', 'perceives guns as increasing risk']\n",
      "    )]\n"
     ]
    },
    {
     "name": "stderr",
     "output_type": "stream",
     "text": [
      " 55%|█████▌    | 11/20 [00:36<00:26,  2.98s/it]"
     ]
    },
    {
     "name": "stdout",
     "output_type": "stream",
     "text": [
      "[    PersonaDimension(\n",
      "        name=\"Safety and Security Perceptions\",\n",
      "        description=\"The individual's perceptions and concerns related to personal safety, household security, and the role of firearms in providing a sense of safety or protection.\",\n",
      "        level=\"mid\",\n",
      "        candidate_values=['high safety concerns', 'low safety concerns', 'feels safer with a gun', 'feels less safe with a gun']\n",
      "    )]\n"
     ]
    },
    {
     "name": "stderr",
     "output_type": "stream",
     "text": [
      " 60%|██████    | 12/20 [00:38<00:23,  2.88s/it]"
     ]
    },
    {
     "name": "stdout",
     "output_type": "stream",
     "text": [
      "[    PersonaDimension(\n",
      "        name=\"Cultural and Social Influences on Gun Attitudes\",\n",
      "        description=\"The impact of cultural, regional, community, and societal norms, values, and attitudes towards gun ownership and usage on the individual's perspectives.\",\n",
      "        level=\"mid\",\n",
      "        candidate_values=['pro-gun culture', 'anti-gun culture', 'neutral culture']\n",
      "    )]\n"
     ]
    },
    {
     "name": "stderr",
     "output_type": "stream",
     "text": [
      " 65%|██████▌   | 13/20 [00:42<00:22,  3.24s/it]"
     ]
    },
    {
     "name": "stdout",
     "output_type": "stream",
     "text": [
      "[    PersonaDimension(\n",
      "        name=\"Civic and Community Engagement\",\n",
      "        description=\"The person's level of involvement and interest in political, social, and community issues related to gun ownership, regulation, and violence.\",\n",
      "        level=\"mid\",\n",
      "        candidate_values=['highly engaged', 'moderately engaged', 'disengaged']\n",
      "    ),     PersonaDimension(\n",
      "        name=\"Interest in Guns and Gun Culture\",\n",
      "        description=\"The level of interest, emotional attachment, and engagement the person has with topics, activities, and content related to guns, shooting sports, and gun culture.\",\n",
      "        level=\"mid\",\n",
      "        candidate_values=['high interest', 'moderate interest', 'low interest']\n",
      "    )]\n"
     ]
    },
    {
     "name": "stderr",
     "output_type": "stream",
     "text": [
      " 70%|███████   | 14/20 [00:44<00:16,  2.76s/it]"
     ]
    },
    {
     "name": "stdout",
     "output_type": "stream",
     "text": [
      "[    PersonaDimension(\n",
      "        name=\"Risk Tolerance\",\n",
      "        description=\"The individual's willingness to engage in potentially risky or dangerous activities, including financial risks, self-defense situations, and risk-taking behavior during childhood.\",\n",
      "        level=\"mid\",\n",
      "        candidate_values=['high risk tolerance', 'low risk tolerance']\n",
      "    )]\n"
     ]
    },
    {
     "name": "stderr",
     "output_type": "stream",
     "text": [
      " 75%|███████▌  | 15/20 [00:47<00:14,  2.84s/it]"
     ]
    },
    {
     "name": "stdout",
     "output_type": "stream",
     "text": [
      "[    PersonaDimension(\n",
      "        name=\"Financial Capability\",\n",
      "        description=\"The individual's knowledge, priorities, and resilience in managing personal finances, including understanding financial concepts, setting financial goals, coping with financial stress, and withstanding unexpected expenses.\",\n",
      "        level=\"mid\",\n",
      "        candidate_values=['high capability', 'moderate capability', 'low capability']\n",
      "    )]\n"
     ]
    },
    {
     "name": "stderr",
     "output_type": "stream",
     "text": [
      " 80%|████████  | 16/20 [00:49<00:09,  2.50s/it]"
     ]
    },
    {
     "name": "stdout",
     "output_type": "stream",
     "text": [
      "[    PersonaDimension(\n",
      "        name=\"Recreational Firearm Interests and Use\",\n",
      "        description=\"The person's engagement in recreational activities involving firearms, such as hunting, target shooting, or other firearm-related hobbies.\",\n",
      "        level=\"mid\",\n",
      "        candidate_values=['active participation', 'no participation']\n",
      "    )]\n"
     ]
    },
    {
     "name": "stderr",
     "output_type": "stream",
     "text": [
      " 85%|████████▌ | 17/20 [00:51<00:07,  2.47s/it]"
     ]
    },
    {
     "name": "stdout",
     "output_type": "stream",
     "text": [
      "[    PersonaDimension(\n",
      "        name=\"Risk Perception of Firearms in Homes with Children\",\n",
      "        description=\"The individual's assessment of the potential risks, dangers, and consequences associated with having firearms, particularly loaded or unsecured guns, in a household where children are present.\",\n",
      "        level=\"mid\",\n",
      "        candidate_values=['high risk perception', 'low risk perception']\n",
      "    )]\n"
     ]
    },
    {
     "name": "stderr",
     "output_type": "stream",
     "text": [
      " 90%|█████████ | 18/20 [00:53<00:04,  2.40s/it]"
     ]
    },
    {
     "name": "stdout",
     "output_type": "stream",
     "text": [
      "[    PersonaDimension(\n",
      "        name=\"Perception of Crime and Safety\",\n",
      "        description=\"How the person perceives the overall level of crime and safety in the world compared to the past\",\n",
      "        level=\"mid\",\n",
      "        candidate_values=['perceives the world as safer', 'perceives the world as more dangerous', 'perceives the world as neither safer nor more dangerous']\n",
      "    )]\n"
     ]
    },
    {
     "name": "stderr",
     "output_type": "stream",
     "text": [
      " 95%|█████████▌| 19/20 [00:56<00:02,  2.51s/it]"
     ]
    },
    {
     "name": "stdout",
     "output_type": "stream",
     "text": [
      "[    PersonaDimension(\n",
      "        name=\"Beliefs about Causes of Gun Violence\",\n",
      "        description=\"The individual's perceptions and beliefs regarding the underlying factors contributing to gun violence in society, including the role of economic conditions, media influence, family instability, and illegal gun access.\",\n",
      "        level=\"mid\",\n",
      "        candidate_values=['attributes gun violence primarily to societal factors', 'attributes gun violence primarily to individual factors']\n",
      "    )]\n"
     ]
    },
    {
     "name": "stderr",
     "output_type": "stream",
     "text": [
      "100%|██████████| 20/20 [00:59<00:00,  2.98s/it]\n"
     ]
    },
    {
     "name": "stdout",
     "output_type": "stream",
     "text": [
      "[    PersonaDimension(\n",
      "        name=\"Perceived Safety and Trust\",\n",
      "        description=\"The individual's perception of safety, level of trust in institutions responsible for public safety, and assessment of crime rates in their local environment.\",\n",
      "        level=\"mid\",\n",
      "        candidate_values=['high perceived safety and trust', 'low perceived safety and trust']\n",
      "    )]\n"
     ]
    },
    {
     "name": "stderr",
     "output_type": "stream",
     "text": [
      "  5%|▌         | 1/20 [00:02<00:47,  2.49s/it]"
     ]
    },
    {
     "name": "stdout",
     "output_type": "stream",
     "text": [
      "[    PersonaDimension(\n",
      "        name=\"Attitudes Towards Firearms and Gun Ownership\",\n",
      "        description=\"The individual's overall beliefs, values, and perspectives regarding gun ownership, the role of firearms in society, and related policies and regulations.\",\n",
      "        level=\"high\",\n",
      "        candidate_values=['pro-gun', 'anti-gun', 'neutral']\n",
      "    )]\n"
     ]
    },
    {
     "name": "stderr",
     "output_type": "stream",
     "text": [
      " 10%|█         | 2/20 [00:05<00:46,  2.59s/it]"
     ]
    },
    {
     "name": "stdout",
     "output_type": "stream",
     "text": [
      "[    PersonaDimension(\n",
      "        name=\"General Risk Attitudes\",\n",
      "        description=\"The individual's overall tendencies towards risk-taking or risk-aversion, resilience, optimism, and willingness to take precautions across various aspects of life.\",\n",
      "        level=\"high\",\n",
      "        candidate_values=['risk-averse', 'risk-taking']\n",
      "    )]\n"
     ]
    },
    {
     "name": "stderr",
     "output_type": "stream",
     "text": [
      " 15%|█▌        | 3/20 [00:11<01:15,  4.45s/it]"
     ]
    },
    {
     "name": "stdout",
     "output_type": "stream",
     "text": [
      "[    PersonaDimension(\n",
      "        name=\"Worldview and Ideological Beliefs\",\n",
      "        description=\"The participant's broader philosophical, political, social, and cultural beliefs and ideologies that shape their perspectives on gun ownership and the role of firearms in society.\",\n",
      "        level=\"high\",\n",
      "        candidate_values=['conservative worldview', 'liberal worldview', 'moderate worldview']\n",
      "    )]\n"
     ]
    },
    {
     "name": "stderr",
     "output_type": "stream",
     "text": [
      " 20%|██        | 4/20 [00:13<00:56,  3.52s/it]"
     ]
    },
    {
     "name": "stdout",
     "output_type": "stream",
     "text": [
      "[    PersonaDimension(\n",
      "        name=\"Personal Values on Gun Ownership\",\n",
      "        description=\"The individual's core beliefs and principles regarding gun ownership, encompassing priorities such as child safety, responsible gun ownership, individual rights, and personal freedom.\",\n",
      "        level=\"high\",\n",
      "        candidate_values=['prioritizes child safety', 'prioritizes responsible gun ownership', 'prioritizes individual rights', 'prioritizes personal freedom', 'balanced approach']\n",
      "    )]\n"
     ]
    },
    {
     "name": "stderr",
     "output_type": "stream",
     "text": [
      " 25%|██▌       | 5/20 [00:16<00:46,  3.08s/it]"
     ]
    },
    {
     "name": "stdout",
     "output_type": "stream",
     "text": [
      "[    PersonaDimension(\n",
      "        name=\"Core Personal Values\",\n",
      "        description=\"The individual's fundamental beliefs, principles, and priorities related to public safety, individual rights, personal freedom, and social responsibility.\",\n",
      "        level=\"high\",\n",
      "        candidate_values=['prioritizes public safety', 'prioritizes individual rights', 'prioritizes personal freedom', 'prioritizes community well-being']\n",
      "    )]\n"
     ]
    },
    {
     "name": "stderr",
     "output_type": "stream",
     "text": [
      " 30%|███       | 6/20 [00:20<00:46,  3.35s/it]"
     ]
    },
    {
     "name": "stdout",
     "output_type": "stream",
     "text": [
      "[    PersonaDimension(\n",
      "        name=\"Personal Values: Safety vs Freedom\",\n",
      "        description=\"The prioritization of personal safety, security, and protection versus individual rights, freedom, and non-violence.\",\n",
      "        level=\"high\",\n",
      "        candidate_values=['prioritizes safety and security', 'prioritizes individual freedom and rights']\n",
      "    ),     PersonaDimension(\n",
      "        name=\"Personal Values: Career and Finances\",\n",
      "        description=\"The prioritization of job security, financial stability, and career advancement.\",\n",
      "        level=\"high\",\n",
      "        candidate_values=['prioritizes job security and finances', 'prioritizes career growth']\n",
      "    )]\n"
     ]
    },
    {
     "name": "stderr",
     "output_type": "stream",
     "text": [
      " 35%|███▌      | 7/20 [00:23<00:43,  3.34s/it]"
     ]
    },
    {
     "name": "stdout",
     "output_type": "stream",
     "text": [
      "[    PersonaDimension(\n",
      "        name=\"Personality Traits\",\n",
      "        description=\"The individual's inherent personality characteristics, such as risk-taking, adventurousness, cautiousness, responsibility, and openness, that may influence their attitudes, behaviors, and experiences related to firearms.\",\n",
      "        level=\"high\",\n",
      "        candidate_values=['risk-taking', 'cautious', 'responsible', 'adventurous', 'open-minded', 'security-conscious']\n",
      "    )]\n"
     ]
    },
    {
     "name": "stderr",
     "output_type": "stream",
     "text": [
      " 40%|████      | 8/20 [00:27<00:41,  3.43s/it]"
     ]
    },
    {
     "name": "stdout",
     "output_type": "stream",
     "text": [
      "[    PersonaDimension(\n",
      "        name=\"Personality Traits\",\n",
      "        description=\"An individual's personality characteristics that may influence their financial behaviors and attitudes, such as their level of optimism, risk-aversion, or impulse control.\",\n",
      "        level=\"high\",\n",
      "        candidate_values=['optimistic', 'risk-averse', 'impulsive']\n",
      "    )]\n"
     ]
    },
    {
     "name": "stderr",
     "output_type": "stream",
     "text": [
      " 45%|████▌     | 9/20 [00:28<00:32,  2.98s/it]"
     ]
    },
    {
     "name": "stdout",
     "output_type": "stream",
     "text": [
      "[    PersonaDimension(\n",
      "        name=\"Empathy and Compassion\",\n",
      "        description=\"The individual's ability to understand and relate to the emotional experiences of others, particularly those affected by gun violence, economic hardship, or considering suicide.\",\n",
      "        level=\"high\",\n",
      "        candidate_values=['high empathy', 'low empathy']\n",
      "    )]\n"
     ]
    },
    {
     "name": "stderr",
     "output_type": "stream",
     "text": [
      " 50%|█████     | 10/20 [00:34<00:36,  3.64s/it]"
     ]
    },
    {
     "name": "stdout",
     "output_type": "stream",
     "text": [
      "[    PersonaDimension(\n",
      "        name=\"Moral Foundations and Values\",\n",
      "        description=\"The individual's underlying moral principles, values, and ethical beliefs that shape their views on gun ownership, use, safety, and related issues such as self-defense, violence, child safety, and individual rights.\",\n",
      "        level=\"high\",\n",
      "        candidate_values=['prioritizes harm/care', 'prioritizes fairness/reciprocity', 'prioritizes loyalty/ingroup', 'prioritizes authority/respect', 'prioritizes purity/sanctity', 'prioritizes individual rights', 'prioritizes public safety', 'prioritizes non-violence', 'prioritizes social justice', 'prioritizes law and order']\n",
      "    )]\n"
     ]
    },
    {
     "name": "stderr",
     "output_type": "stream",
     "text": [
      " 55%|█████▌    | 11/20 [00:37<00:32,  3.60s/it]"
     ]
    },
    {
     "name": "stdout",
     "output_type": "stream",
     "text": [
      "[    PersonaDimension(\n",
      "        name=\"Cultural and Social Influences on Gun Attitudes\",\n",
      "        description=\"The impact of an individual's cultural background, social environment, community norms, and regional traditions on their attitudes and behaviors towards gun ownership, usage, and storage.\",\n",
      "        level=\"high\",\n",
      "        candidate_values=['pro-gun culture', 'anti-gun culture', 'neutral/mixed culture']\n",
      "    )]\n"
     ]
    },
    {
     "name": "stderr",
     "output_type": "stream",
     "text": [
      " 60%|██████    | 12/20 [00:45<00:39,  4.90s/it]"
     ]
    },
    {
     "name": "stdout",
     "output_type": "stream",
     "text": [
      "[    PersonaDimension(\n",
      "        name=\"Political and Societal Worldview\",\n",
      "        description=\"The participant's overarching attitudes, beliefs, and perspectives on various political, social, and cultural issues, including gun control, personal freedom, crime, justice system, role of government, and societal values.\",\n",
      "        level=\"high\",\n",
      "        candidate_values=['conservative worldview', 'liberal worldview', 'moderate worldview']\n",
      "    )]\n"
     ]
    },
    {
     "name": "stderr",
     "output_type": "stream",
     "text": [
      " 65%|██████▌   | 13/20 [00:52<00:39,  5.64s/it]"
     ]
    },
    {
     "name": "stdout",
     "output_type": "stream",
     "text": [
      "[    PersonaDimension(\n",
      "        name=\"Sociopolitical Worldview and Beliefs\",\n",
      "        description=\"The individual's broader perspectives, beliefs, and attitudes towards society, government, crime, personal freedoms, and the role of firearms in addressing societal issues.\",\n",
      "        level=\"high\",\n",
      "        candidate_values=['conservative worldview', 'liberal worldview', 'moderate worldview']\n",
      "    )]\n"
     ]
    },
    {
     "name": "stderr",
     "output_type": "stream",
     "text": [
      " 70%|███████   | 14/20 [00:55<00:27,  4.62s/it]"
     ]
    },
    {
     "name": "stdout",
     "output_type": "stream",
     "text": [
      "[    PersonaDimension(\n",
      "        name=\"Resilience and Adaptability\",\n",
      "        description=\"The individual's capacity to cope with, recover from, and adapt to challenging life events, such as job loss, traumatic experiences, or changes in perceived safety and crime levels.\",\n",
      "        level=\"high\",\n",
      "        candidate_values=['high resilience', 'low resilience']\n",
      "    )]\n"
     ]
    },
    {
     "name": "stderr",
     "output_type": "stream",
     "text": [
      " 75%|███████▌  | 15/20 [00:57<00:20,  4.06s/it]"
     ]
    },
    {
     "name": "stdout",
     "output_type": "stream",
     "text": [
      "[    PersonaDimension(\n",
      "        name=\"Political Ideology on Gun Issues\",\n",
      "        description=\"The individual's political beliefs and affiliations that shape their stance on gun ownership, gun rights, gun control, and gun-related violence.\",\n",
      "        level=\"high\",\n",
      "        candidate_values=['conservative', 'liberal', 'moderate']\n",
      "    )]\n"
     ]
    },
    {
     "name": "stderr",
     "output_type": "stream",
     "text": [
      " 80%|████████  | 16/20 [01:00<00:14,  3.69s/it]"
     ]
    },
    {
     "name": "stdout",
     "output_type": "stream",
     "text": [
      "[    PersonaDimension(\n",
      "        name=\"Parenting Values and Approach\",\n",
      "        description=\"The individual's values, priorities, and general approach towards parenting, including their beliefs about child safety, the role of parents in educating children, and responsible parenting practices.\",\n",
      "        level=\"high\",\n",
      "        candidate_values=['prioritizes child safety and authoritative parenting', 'prioritizes child safety but permissive parenting', 'low priority on child safety and uninvolved parenting', 'low priority on child safety and neglectful parenting']\n",
      "    )]\n"
     ]
    },
    {
     "name": "stderr",
     "output_type": "stream",
     "text": [
      " 85%|████████▌ | 17/20 [01:04<00:11,  3.82s/it]"
     ]
    },
    {
     "name": "stdout",
     "output_type": "stream",
     "text": [
      "[    PersonaDimension(\n",
      "        name=\"Worldview and Beliefs on Gun Rights and Control\",\n",
      "        description=\"The individual's broader perspectives, ideologies, and core values regarding the role of firearms in society, gun rights, gun control policies, and the balance between individual rights and public safety.\",\n",
      "        level=\"high\",\n",
      "        candidate_values=['pro-gun rights', 'pro-gun control', 'moderate on gun issues']\n",
      "    )]\n"
     ]
    },
    {
     "name": "stderr",
     "output_type": "stream",
     "text": [
      " 90%|█████████ | 18/20 [01:07<00:07,  3.63s/it]"
     ]
    },
    {
     "name": "stdout",
     "output_type": "stream",
     "text": [
      "[    PersonaDimension(\n",
      "        name=\"Core Personal Values on Gun Ownership\",\n",
      "        description=\"The individual's fundamental values, beliefs, and principles that shape their stance and attitudes towards gun ownership, use, and related activities.\",\n",
      "        level=\"high\",\n",
      "        candidate_values=['prioritizes personal safety', 'prioritizes individual freedom', 'prioritizes public safety', 'balanced approach']\n",
      "    )]\n"
     ]
    },
    {
     "name": "stderr",
     "output_type": "stream",
     "text": [
      " 95%|█████████▌| 19/20 [01:10<00:03,  3.16s/it]"
     ]
    },
    {
     "name": "stdout",
     "output_type": "stream",
     "text": [
      "[    PersonaDimension(\n",
      "        name=\"Risk Attitudes and Tolerance\",\n",
      "        description=\"The individual's general tendencies towards risk-taking or risk-aversion, which may influence their views on gun ownership, safety concerns, and resilience in the face of potential threats or dangers.\",\n",
      "        level=\"high\",\n",
      "        candidate_values=['risk-averse', 'risk-taking']\n",
      "    )]\n"
     ]
    },
    {
     "name": "stderr",
     "output_type": "stream",
     "text": [
      "100%|██████████| 20/20 [01:13<00:00,  3.68s/it]\n"
     ]
    },
    {
     "name": "stdout",
     "output_type": "stream",
     "text": [
      "[    PersonaDimension(\n",
      "        name=\"Sense of Security and Personal Responsibility\",\n",
      "        description=\"The individual's overall feeling of safety, security, and self-reliance, as well as their beliefs about personal responsibility for protection and well-being.\",\n",
      "        level=\"high\",\n",
      "        candidate_values=['high sense of security and responsibility', 'low sense of security and responsibility']\n",
      "    )]\n"
     ]
    },
    {
     "name": "stderr",
     "output_type": "stream",
     "text": [
      "  5%|▌         | 1/20 [00:05<01:37,  5.14s/it]"
     ]
    },
    {
     "name": "stdout",
     "output_type": "stream",
     "text": [
      "[    PersonaDimension(\n",
      "        name=\"Occupation and Industry\",\n",
      "        description=\"The participant's current or desired occupation, job responsibilities, and the industry or sector they work in.\",\n",
      "        level=\"low\",\n",
      "        candidate_values=['technical/IT-related', 'non-technical', 'customer-facing', 'non-customer-facing', 'HR/recruitment', 'managerial', 'entry-level', 'experienced']\n",
      "    )]\n"
     ]
    },
    {
     "name": "stderr",
     "output_type": "stream",
     "text": [
      " 10%|█         | 2/20 [00:07<01:04,  3.58s/it]"
     ]
    },
    {
     "name": "stdout",
     "output_type": "stream",
     "text": [
      "[    PersonaDimension(\n",
      "        name=\"Technological Literacy and Familiarity\",\n",
      "        description=\"The individual's level of understanding, comfort, and experience with various technologies, including emerging advancements across different domains.\",\n",
      "        level=\"low\",\n",
      "        candidate_values=['high technological literacy', 'moderate technological literacy', 'low technological literacy']\n",
      "    )]\n"
     ]
    },
    {
     "name": "stderr",
     "output_type": "stream",
     "text": [
      " 15%|█▌        | 3/20 [00:13<01:16,  4.49s/it]"
     ]
    },
    {
     "name": "stdout",
     "output_type": "stream",
     "text": [
      "[    PersonaDimension(\n",
      "        name=\"Demographic Factors\",\n",
      "        description=\"Demographic characteristics such as age, gender, education level, socioeconomic status, and location that may influence attitudes and perspectives towards automation, technology adoption, and related topics.\",\n",
      "        level=\"low\",\n",
      "        candidate_values=['younger', 'older', 'male', 'female', 'higher education', 'lower education', 'high income', 'low income', 'urban', 'rural']\n",
      "    )]\n"
     ]
    },
    {
     "name": "stderr",
     "output_type": "stream",
     "text": [
      " 20%|██        | 4/20 [00:19<01:25,  5.33s/it]"
     ]
    },
    {
     "name": "stdout",
     "output_type": "stream",
     "text": [
      "[    PersonaDimension(\n",
      "        name=\"Socioeconomic Status\",\n",
      "        description=\"The individual's current financial situation, income level, social class, and access to resources and opportunities, which may influence their perspectives on automation, job displacement, healthcare costs, and technology adoption.\",\n",
      "        level=\"low\",\n",
      "        candidate_values=['high socioeconomic status', 'middle socioeconomic status', 'low socioeconomic status']\n",
      "    )]\n"
     ]
    },
    {
     "name": "stderr",
     "output_type": "stream",
     "text": [
      " 25%|██▌       | 5/20 [00:23<01:11,  4.75s/it]"
     ]
    },
    {
     "name": "stdout",
     "output_type": "stream",
     "text": [
      "[    PersonaDimension(\n",
      "        name=\"Experiences with Hiring Processes\",\n",
      "        description=\"The individual's personal experiences, observations, and familiarity with hiring practices, including the use of automated systems and technology in the job application and hiring process.\",\n",
      "        level=\"low\",\n",
      "        candidate_values=['positive experiences', 'negative experiences', 'mixed experiences', 'no prior experience']\n",
      "    )]\n"
     ]
    },
    {
     "name": "stderr",
     "output_type": "stream",
     "text": [
      " 30%|███       | 6/20 [00:26<00:56,  4.01s/it]"
     ]
    },
    {
     "name": "stdout",
     "output_type": "stream",
     "text": [
      "[    PersonaDimension(\n",
      "        name=\"Occupation and Industry Exposure\",\n",
      "        description=\"The participant's occupation and industry experience, particularly in fields that may be impacted by emerging technologies such as automation, autonomous vehicles, and drones.\",\n",
      "        level=\"low\",\n",
      "        candidate_values=['high exposure', 'low exposure']\n",
      "    )]\n"
     ]
    },
    {
     "name": "stderr",
     "output_type": "stream",
     "text": [
      " 35%|███▌      | 7/20 [00:30<00:51,  3.98s/it]"
     ]
    },
    {
     "name": "stdout",
     "output_type": "stream",
     "text": [
      "[    PersonaDimension(\n",
      "        name=\"Transportation Needs and Habits\",\n",
      "        description=\"The individual's reliance on personal transportation, commuting patterns, and mobility requirements that could influence their perception and adoption of autonomous vehicles.\",\n",
      "        level=\"low\",\n",
      "        candidate_values=['high mobility needs', 'low mobility needs', 'frequent commuter', 'infrequent commuter']\n",
      "    ),     PersonaDimension(\n",
      "        name=\"Personal Safety Concerns\",\n",
      "        description=\"The level of importance the individual places on their personal safety and security when using autonomous vehicles.\",\n",
      "        level=\"low\",\n",
      "        candidate_values=['high safety concerns', 'low safety concerns']\n",
      "    )]\n"
     ]
    },
    {
     "name": "stderr",
     "output_type": "stream",
     "text": [
      " 40%|████      | 8/20 [00:33<00:46,  3.84s/it]"
     ]
    },
    {
     "name": "stdout",
     "output_type": "stream",
     "text": [
      "[    PersonaDimension(\n",
      "        name=\"Occupation and Industry\",\n",
      "        description=\"The participant's current or anticipated occupation, profession, job responsibilities, and the industry or sector they work in, which may influence their perception of the likelihood of automation and the impact of technology on their work.\",\n",
      "        level=\"low\",\n",
      "        candidate_values=['high automation risk', 'low automation risk', 'technology-focused', 'non-technology-focused']\n",
      "    )]\n"
     ]
    },
    {
     "name": "stderr",
     "output_type": "stream",
     "text": [
      " 45%|████▌     | 9/20 [00:38<00:44,  4.04s/it]"
     ]
    },
    {
     "name": "stdout",
     "output_type": "stream",
     "text": [
      "[    PersonaDimension(\n",
      "        name=\"Prior Experiences with Autonomous Vehicles\",\n",
      "        description=\"The individual's previous exposure, interactions, and personal experiences (positive or negative) with autonomous vehicles and related technologies.\",\n",
      "        level=\"low\",\n",
      "        candidate_values=['positive experiences', 'negative experiences', 'no prior experience']\n",
      "    ),     PersonaDimension(\n",
      "        name=\"Driving Experience and Preferences\",\n",
      "        description=\"The individual's level of experience, comfort, and personal preferences related to traditional, human-operated vehicles.\",\n",
      "        level=\"low\",\n",
      "        candidate_values=['extensive driving experience', 'limited driving experience', 'indifferent to driving experience']\n",
      "    ),     PersonaDimension(\n",
      "        name=\"Awareness and Exposure to Autonomous Vehicle Technology\",\n",
      "        description=\"The individual's level of familiarity, awareness, and exposure to the development and information regarding autonomous vehicle technology.\",\n",
      "        level=\"low\",\n",
      "        candidate_values=['high awareness and exposure', 'low awareness and exposure']\n",
      "    )]\n"
     ]
    },
    {
     "name": "stderr",
     "output_type": "stream",
     "text": [
      " 50%|█████     | 10/20 [00:40<00:35,  3.58s/it]"
     ]
    },
    {
     "name": "stdout",
     "output_type": "stream",
     "text": [
      "[    PersonaDimension(\n",
      "        name=\"Personal Experiences with Job Loss and Automation\",\n",
      "        description=\"The individual's direct experiences with job loss, job changes, or financial hardship due to automation, technological advancements, or the impact of robots on employment opportunities.\",\n",
      "        level=\"low\",\n",
      "        candidate_values=['experienced job loss/changes due to automation', 'not directly affected by automation']\n",
      "    )]\n"
     ]
    },
    {
     "name": "stderr",
     "output_type": "stream",
     "text": [
      " 55%|█████▌    | 11/20 [00:45<00:34,  3.83s/it]"
     ]
    },
    {
     "name": "stdout",
     "output_type": "stream",
     "text": [
      "[    PersonaDimension(\n",
      "        name=\"Household Composition and Family Structure\",\n",
      "        description=\"The makeup and dynamics of the user's household, including the presence of children, aging parents or family members, and the number of people in the household.\",\n",
      "        level=\"low\",\n",
      "        candidate_values=['single-person household', 'multi-person household without children', 'household with children', 'household with aging family members']\n",
      "    )]\n"
     ]
    },
    {
     "name": "stderr",
     "output_type": "stream",
     "text": [
      " 60%|██████    | 12/20 [00:50<00:34,  4.28s/it]"
     ]
    },
    {
     "name": "stdout",
     "output_type": "stream",
     "text": [
      "[    PersonaDimension(\n",
      "        name=\"Preferences for Human Interaction in Services\",\n",
      "        description=\"The individual's desire for human interaction and willingness to pay a premium for it in service transactions, retail experiences, and communication.\",\n",
      "        level=\"low\",\n",
      "        candidate_values=['strong preference for human interaction', 'moderate preference for human interaction', 'preference for automation']\n",
      "    ),     PersonaDimension(\n",
      "        name=\"Consumption and Shopping Habits\",\n",
      "        description=\"The individual's current behaviors and preferences regarding in-store purchases, online purchases, and usage of delivery services.\",\n",
      "        level=\"low\",\n",
      "        candidate_values=['frequent in-store shopper', 'frequent online shopper', 'high delivery usage', 'low delivery usage']\n",
      "    )]\n"
     ]
    },
    {
     "name": "stderr",
     "output_type": "stream",
     "text": [
      " 65%|██████▌   | 13/20 [00:53<00:28,  4.09s/it]"
     ]
    },
    {
     "name": "stdout",
     "output_type": "stream",
     "text": [
      "[    PersonaDimension(\n",
      "        name=\"Geographic Location and Exposure to Autonomous Systems\",\n",
      "        description=\"The participant's geographic location and living environment, including factors such as urbanization, population density, infrastructure, crime rates, traffic patterns, and proximity to areas where autonomous vehicles, drones, or related technologies are prevalent.\",\n",
      "        level=\"low\",\n",
      "        candidate_values=['urban area', 'suburban area', 'rural area', 'high exposure area', 'low exposure area']\n",
      "    )]\n"
     ]
    },
    {
     "name": "stderr",
     "output_type": "stream",
     "text": [
      " 70%|███████   | 14/20 [00:59<00:26,  4.47s/it]"
     ]
    },
    {
     "name": "stdout",
     "output_type": "stream",
     "text": [
      "[    PersonaDimension(\n",
      "        name=\"Voice Assistant Usage and Lifestyle Integration\",\n",
      "        description=\"The individual's habits, routines, and lifestyle factors that influence their need for and usage of voice-controlled digital assistants and smart home devices.\",\n",
      "        level=\"low\",\n",
      "        candidate_values=['frequent usage and high integration', 'occasional usage and moderate integration', 'rare usage and low integration']\n",
      "    )]\n"
     ]
    },
    {
     "name": "stderr",
     "output_type": "stream",
     "text": [
      " 75%|███████▌  | 15/20 [01:02<00:20,  4.08s/it]"
     ]
    },
    {
     "name": "stdout",
     "output_type": "stream",
     "text": [
      "[    PersonaDimension(\n",
      "        name=\"Educational Background\",\n",
      "        description=\"The individual's level of education, training, and exposure to information about technological advancements, automation, and related topics, which may shape their views on the impact of automation on the workforce and economy.\",\n",
      "        level=\"low\",\n",
      "        candidate_values=['higher education', 'lower education', 'technical/vocational training']\n",
      "    ),     PersonaDimension(\n",
      "        name=\"Political Engagement\",\n",
      "        description=\"the individual's level of involvement and interest in political issues related to technology, automation, and the economy\",\n",
      "        level=\"low\",\n",
      "        candidate_values=['highly engaged', 'disengaged']\n",
      "    )]\n"
     ]
    },
    {
     "name": "stderr",
     "output_type": "stream",
     "text": [
      " 80%|████████  | 16/20 [01:08<00:19,  4.75s/it]"
     ]
    },
    {
     "name": "stdout",
     "output_type": "stream",
     "text": [
      "[    PersonaDimension(\n",
      "        name=\"Personal Caregiving Experiences\",\n",
      "        description=\"The individual's personal experiences with caregiving for elderly or disabled individuals, including family members, friends, or professional caregiving roles.\",\n",
      "        level=\"low\",\n",
      "        candidate_values=['extensive experience', 'limited experience', 'no experience']\n",
      "    ),     PersonaDimension(\n",
      "        name=\"Access to Healthcare Resources\",\n",
      "        description=\"The individual's ability to afford and obtain human caregivers or healthcare resources for their loved ones.\",\n",
      "        level=\"low\",\n",
      "        candidate_values=['ample access', 'limited access']\n",
      "    ),     PersonaDimension(\n",
      "        name=\"Concern for Aging Relatives\",\n",
      "        description=\"Level of worry or anxiety about the care and well-being of aging family members.\",\n",
      "        level=\"low\",\n",
      "        candidate_values=['high concern', 'low concern']\n",
      "    )]\n"
     ]
    },
    {
     "name": "stderr",
     "output_type": "stream",
     "text": [
      " 85%|████████▌ | 17/20 [01:10<00:11,  3.97s/it]"
     ]
    },
    {
     "name": "stdout",
     "output_type": "stream",
     "text": [
      "[    PersonaDimension(\n",
      "        name=\"Employment Status and Occupation\",\n",
      "        description=\"The individual's current employment situation, including whether they are employed, unemployed, retired, or seeking employment, as well as their occupation or desired occupation.\",\n",
      "        level=\"low\",\n",
      "        candidate_values=['employed', 'unemployed', 'retired', 'job-seeking']\n",
      "    )]\n"
     ]
    },
    {
     "name": "stderr",
     "output_type": "stream",
     "text": [
      " 90%|█████████ | 18/20 [01:13<00:06,  3.46s/it]"
     ]
    },
    {
     "name": "stdout",
     "output_type": "stream",
     "text": [
      "[    PersonaDimension(\n",
      "        name=\"Age and Generational Cohort\",\n",
      "        description=\"The individual's age and generational cohort, which may influence their views on technological changes, job automation, and their receptiveness and familiarity with emerging technologies like voice assistants and smart home devices.\",\n",
      "        level=\"low\",\n",
      "        candidate_values=['younger generation', 'middle-aged', 'older generation']\n",
      "    )]\n"
     ]
    },
    {
     "name": "stderr",
     "output_type": "stream",
     "text": [
      " 95%|█████████▌| 19/20 [01:18<00:03,  3.90s/it]"
     ]
    },
    {
     "name": "stdout",
     "output_type": "stream",
     "text": [
      "[    PersonaDimension(\n",
      "        name=\"Drone-Related Personal Experiences\",\n",
      "        description=\"The individual's personal experiences, encounters, and interactions with drones, including witnessing drone usage in public spaces, at crime scenes, or during events, as well as any positive or negative experiences.\",\n",
      "        level=\"low\",\n",
      "        candidate_values=['direct positive experience', 'direct negative experience', 'no direct experience']\n",
      "    ),     PersonaDimension(\n",
      "        name=\"Drone-Related Recreational Interests\",\n",
      "        description=\"The person's hobbies, leisure activities, and recreational interests related to drones, such as owning or operating drones, participating in drone-related events, or engaging in beach activities that may involve drone usage.\",\n",
      "        level=\"low\",\n",
      "        candidate_values=['active participant', 'occasional participant', 'non-participant']\n",
      "    )]\n"
     ]
    },
    {
     "name": "stderr",
     "output_type": "stream",
     "text": [
      "100%|██████████| 20/20 [01:27<00:00,  4.40s/it]\n"
     ]
    },
    {
     "name": "stdout",
     "output_type": "stream",
     "text": [
      "[    PersonaDimension(\n",
      "        name=\"Technological Awareness and Familiarity\",\n",
      "        description=\"The individual's level of knowledge, understanding, and exposure to emerging technologies such as automation, robotics, and artificial intelligence, particularly in the context of their potential impact on the job market and caregiving.\",\n",
      "        level=\"low\",\n",
      "        candidate_values=['high awareness and familiarity', 'moderate awareness and familiarity', 'low awareness and familiarity']\n",
      "    ),     PersonaDimension(\n",
      "        name=\"Loneliness and Social Isolation\",\n",
      "        description=\"The individual's level of loneliness and social isolation, which may influence their willingness to form connections with robot caregivers.\",\n",
      "        level=\"low\",\n",
      "        candidate_values=['high loneliness', 'low loneliness']\n",
      "    )]\n"
     ]
    },
    {
     "name": "stderr",
     "output_type": "stream",
     "text": [
      "  5%|▌         | 1/20 [00:03<01:09,  3.63s/it]"
     ]
    },
    {
     "name": "stdout",
     "output_type": "stream",
     "text": [
      "[    PersonaDimension(\n",
      "        name=\"Perception of Technological Change\",\n",
      "        description=\"The individual's beliefs, attitudes, and expectations regarding the pace, impact, and implications of technological advancements, particularly in the context of automation, robotics, and job displacement.\",\n",
      "        level=\"mid\",\n",
      "        candidate_values=['optimistic', 'pessimistic', 'uncertain']\n",
      "    )]\n"
     ]
    },
    {
     "name": "stderr",
     "output_type": "stream",
     "text": [
      " 10%|█         | 2/20 [00:06<01:01,  3.41s/it]"
     ]
    },
    {
     "name": "stdout",
     "output_type": "stream",
     "text": [
      "[    PersonaDimension(\n",
      "        name=\"Technological Awareness and Literacy\",\n",
      "        description=\"The person's level of understanding, knowledge, and comfort with emerging technologies such as automation, robotics, autonomous vehicles, and their potential impacts on the job market and economy.\",\n",
      "        level=\"mid\",\n",
      "        candidate_values=['high awareness and literacy', 'low awareness and literacy']\n",
      "    )]\n"
     ]
    },
    {
     "name": "stderr",
     "output_type": "stream",
     "text": [
      " 15%|█▌        | 3/20 [00:09<00:54,  3.23s/it]"
     ]
    },
    {
     "name": "stdout",
     "output_type": "stream",
     "text": [
      "[    PersonaDimension(\n",
      "        name=\"Attitudes Towards Automation\",\n",
      "        description=\"The individual's perceptions, beliefs, and overall sentiment towards the increasing use of robots, automation, and artificial intelligence in various domains, including healthcare, caregiving, employment, and society.\",\n",
      "        level=\"mid\",\n",
      "        candidate_values=['positive attitude', 'negative attitude', 'neutral attitude']\n",
      "    )]\n"
     ]
    },
    {
     "name": "stderr",
     "output_type": "stream",
     "text": [
      " 20%|██        | 4/20 [00:16<01:15,  4.70s/it]"
     ]
    },
    {
     "name": "stdout",
     "output_type": "stream",
     "text": [
      "[    PersonaDimension(\n",
      "        name=\"Attitudes Towards Human Caregiving\",\n",
      "        description=\"Beliefs and preferences regarding the role of human interaction, emotional support, and personal care in caregiving for the elderly and disabled.\",\n",
      "        level=\"mid\",\n",
      "        candidate_values=['values human interaction and emotional care', 'values efficiency over human interaction']\n",
      "    ),     PersonaDimension(\n",
      "        name=\"Empathy and Compassion for the Elderly\",\n",
      "        description=\"The level of empathy, concern, and consideration for the well-being, emotional needs, and independence of older adults.\",\n",
      "        level=\"mid\",\n",
      "        candidate_values=['high empathy and compassion', 'low empathy and compassion']\n",
      "    ),     PersonaDimension(\n",
      "        name=\"Perceptions of Robot Capabilities in Caregiving\",\n",
      "        description=\"Beliefs about the capabilities, limitations, and appropriateness of robots in providing care and emotional support for the elderly and disabled.\",\n",
      "        level=\"mid\",\n",
      "        candidate_values=['perceives robots as highly capable', 'perceives robots as somewhat capable', 'perceives robots as not very capable']\n",
      "    )]\n"
     ]
    },
    {
     "name": "stderr",
     "output_type": "stream",
     "text": [
      " 25%|██▌       | 5/20 [00:21<01:11,  4.76s/it]"
     ]
    },
    {
     "name": "stdout",
     "output_type": "stream",
     "text": [
      "[    PersonaDimension(\n",
      "        name=\"Adaptability to Technological and Workforce Changes\",\n",
      "        description=\"The individual's willingness and ability to adapt to technological advancements, automation, and changes in the job market and workforce.\",\n",
      "        level=\"mid\",\n",
      "        candidate_values=['highly adaptable', 'moderately adaptable', 'resistant to change']\n",
      "    ),     PersonaDimension(\n",
      "        name=\"Openness to Technological Innovation\",\n",
      "        description=\"The individual's overall attitude and willingness to embrace and adopt new technologies, even in sensitive domains like healthcare, transportation, and caregiving.\",\n",
      "        level=\"mid\",\n",
      "        candidate_values=['open to innovation', 'resistant to innovation']\n",
      "    )]\n"
     ]
    },
    {
     "name": "stderr",
     "output_type": "stream",
     "text": [
      " 30%|███       | 6/20 [00:24<00:56,  4.06s/it]"
     ]
    },
    {
     "name": "stdout",
     "output_type": "stream",
     "text": [
      "[    PersonaDimension(\n",
      "        name=\"Trust in Technology and Automation\",\n",
      "        description=\"The individual's level of trust, confidence, and comfort in relying on technology, automation, and artificial intelligence systems across various domains such as healthcare, transportation, hiring, and caregiving.\",\n",
      "        level=\"mid\",\n",
      "        candidate_values=['high trust', 'moderate trust', 'low trust']\n",
      "    )]\n"
     ]
    },
    {
     "name": "stderr",
     "output_type": "stream",
     "text": [
      " 35%|███▌      | 7/20 [00:27<00:46,  3.58s/it]"
     ]
    },
    {
     "name": "stdout",
     "output_type": "stream",
     "text": [
      "[    PersonaDimension(\n",
      "        name=\"Risk Perception of Autonomous Vehicles\",\n",
      "        description=\"The individual's assessment of the potential risks, safety concerns, and drawbacks associated with autonomous vehicles, including perceptions of safety, reliability, and the likelihood of accidents.\",\n",
      "        level=\"mid\",\n",
      "        candidate_values=['high risk perception', 'low risk perception']\n",
      "    )]\n"
     ]
    },
    {
     "name": "stderr",
     "output_type": "stream",
     "text": [
      " 40%|████      | 8/20 [00:30<00:42,  3.53s/it]"
     ]
    },
    {
     "name": "stdout",
     "output_type": "stream",
     "text": [
      "[    PersonaDimension(\n",
      "        name=\"Job Security Concerns\",\n",
      "        description=\"The individual's level of worry, anxiety, or concern about the potential impact of automation, robots, computers, and technological advancements on their job security, employment prospects, and the displacement of human jobs.\",\n",
      "        level=\"mid\",\n",
      "        candidate_values=['high job security concerns', 'low job security concerns']\n",
      "    )]\n"
     ]
    },
    {
     "name": "stderr",
     "output_type": "stream",
     "text": [
      " 45%|████▌     | 9/20 [00:32<00:34,  3.16s/it]"
     ]
    },
    {
     "name": "stdout",
     "output_type": "stream",
     "text": [
      "[    PersonaDimension(\n",
      "        name=\"Work-Life Perspective\",\n",
      "        description=\"The individual's attitudes, beliefs, and priorities regarding work, employment, and the balance between professional and personal life.\",\n",
      "        level=\"mid\",\n",
      "        candidate_values=['prioritizes work', 'prioritizes personal life', 'balanced work-life']\n",
      "    )]\n"
     ]
    },
    {
     "name": "stderr",
     "output_type": "stream",
     "text": [
      " 50%|█████     | 10/20 [00:35<00:31,  3.14s/it]"
     ]
    },
    {
     "name": "stdout",
     "output_type": "stream",
     "text": [
      "[    PersonaDimension(\n",
      "        name=\"Attitudes Towards Automated Hiring\",\n",
      "        description=\"The individual's perceptions, beliefs, and attitudes towards the use of computer programs and automation in hiring processes, including concerns about potential biases, fairness, efficiency, and the role of human involvement.\",\n",
      "        level=\"mid\",\n",
      "        candidate_values=['positive attitude', 'negative attitude', 'neutral attitude']\n",
      "    )]\n"
     ]
    },
    {
     "name": "stderr",
     "output_type": "stream",
     "text": [
      " 55%|█████▌    | 11/20 [00:39<00:29,  3.32s/it]"
     ]
    },
    {
     "name": "stdout",
     "output_type": "stream",
     "text": [
      "[    PersonaDimension(\n",
      "        name=\"Technological Proficiency and Adoption\",\n",
      "        description=\"The individual's level of comfort, familiarity, and willingness to adopt and use new and emerging technologies in various aspects of life, such as work, daily activities, and transportation.\",\n",
      "        level=\"mid\",\n",
      "        candidate_values=['high proficiency and early adopter', 'moderate proficiency and late adopter', 'low proficiency and non-adopter']\n",
      "    )]\n"
     ]
    },
    {
     "name": "stderr",
     "output_type": "stream",
     "text": [
      " 60%|██████    | 12/20 [00:42<00:24,  3.06s/it]"
     ]
    },
    {
     "name": "stdout",
     "output_type": "stream",
     "text": [
      "[    PersonaDimension(\n",
      "        name=\"Civic Engagement\",\n",
      "        description=\"The individual's level of involvement, interest, and participation in community affairs, public policy issues, decision-making processes, and social issues related to technological advancements and urban planning.\",\n",
      "        level=\"mid\",\n",
      "        candidate_values=['highly engaged', 'moderately engaged', 'disengaged']\n",
      "    )]\n"
     ]
    },
    {
     "name": "stderr",
     "output_type": "stream",
     "text": [
      " 65%|██████▌   | 13/20 [00:45<00:22,  3.17s/it]"
     ]
    },
    {
     "name": "stdout",
     "output_type": "stream",
     "text": [
      "[    PersonaDimension(\n",
      "        name=\"Privacy and Security Concerns\",\n",
      "        description=\"The individual's level of concern about potential privacy implications, data security risks, and perceived risks associated with the use of emerging technologies such as drones, voice assistants, robot caregivers, and automated systems.\",\n",
      "        level=\"mid\",\n",
      "        candidate_values=['high concerns', 'low concerns']\n",
      "    )]\n"
     ]
    },
    {
     "name": "stderr",
     "output_type": "stream",
     "text": [
      " 70%|███████   | 14/20 [00:48<00:18,  3.15s/it]"
     ]
    },
    {
     "name": "stdout",
     "output_type": "stream",
     "text": [
      "[    PersonaDimension(\n",
      "        name=\"Environmental Consciousness\",\n",
      "        description=\"The individual's level of concern and awareness regarding the environmental impact of various technologies, products, and activities, including transportation, automation, robotics, drones, and personal consumption patterns.\",\n",
      "        level=\"mid\",\n",
      "        candidate_values=['high environmental consciousness', 'low environmental consciousness']\n",
      "    )]\n"
     ]
    },
    {
     "name": "stderr",
     "output_type": "stream",
     "text": [
      " 75%|███████▌  | 15/20 [00:52<00:16,  3.31s/it]"
     ]
    },
    {
     "name": "stdout",
     "output_type": "stream",
     "text": [
      "[    PersonaDimension(\n",
      "        name=\"Efficiency and Convenience Orientation\",\n",
      "        description=\"The individual's preference for efficient, streamlined, and convenient processes, products, and services, potentially prioritizing these factors over others.\",\n",
      "        level=\"mid\",\n",
      "        candidate_values=['high efficiency/convenience orientation', 'low efficiency/convenience orientation']\n",
      "    )]\n"
     ]
    },
    {
     "name": "stderr",
     "output_type": "stream",
     "text": [
      " 80%|████████  | 16/20 [00:55<00:13,  3.39s/it]"
     ]
    },
    {
     "name": "stdout",
     "output_type": "stream",
     "text": [
      "[    PersonaDimension(\n",
      "        name=\"Attitudes Towards Government Regulation\",\n",
      "        description=\"The individual's views on the appropriate level of government regulation and intervention in emerging technologies, automation, and the economy.\",\n",
      "        level=\"mid\",\n",
      "        candidate_values=['favors more regulation', 'favors less regulation', 'conditional support']\n",
      "    ),     PersonaDimension(\n",
      "        name=\"Trust in Institutions and Authorities\",\n",
      "        description=\"The degree of trust and confidence in the ability of government, regulatory bodies, corporations, and other institutions to effectively manage and regulate emerging technologies and their impacts.\",\n",
      "        level=\"mid\",\n",
      "        candidate_values=['high trust', 'low trust']\n",
      "    )]\n"
     ]
    },
    {
     "name": "stderr",
     "output_type": "stream",
     "text": [
      " 85%|████████▌ | 17/20 [00:59<00:10,  3.44s/it]"
     ]
    },
    {
     "name": "stdout",
     "output_type": "stream",
     "text": [
      "[    PersonaDimension(\n",
      "        name=\"Productivity and Multitasking\",\n",
      "        description=\"The person's focus on productivity, efficiency, and multitasking abilities, as well as the impact of technology on their workload, cognitive load, and work-life balance.\",\n",
      "        level=\"mid\",\n",
      "        candidate_values=['high productivity focus', 'low productivity focus', 'improved work-life balance', 'worsened work-life balance', 'high multitasking', 'low multitasking']\n",
      "    )]\n"
     ]
    },
    {
     "name": "stderr",
     "output_type": "stream",
     "text": [
      " 90%|█████████ | 18/20 [01:05<00:08,  4.26s/it]"
     ]
    },
    {
     "name": "stdout",
     "output_type": "stream",
     "text": [
      "[    PersonaDimension(\n",
      "        name=\"Perceived Usefulness and Ease of Use\",\n",
      "        description=\"The individual's perception of the potential benefits, utility, and ease of use associated with voice assistants and autonomous vehicles.\",\n",
      "        level=\"mid\",\n",
      "        candidate_values=['high perceived usefulness and ease of use', 'low perceived usefulness and ease of use']\n",
      "    ),     PersonaDimension(\n",
      "        name=\"Accessibility Needs and Perceived Accuracy\",\n",
      "        description=\"The user's physical or cognitive abilities that may influence their preference for voice assistants, as well as their perception of how accurately these assistants respond to commands.\",\n",
      "        level=\"mid\",\n",
      "        candidate_values=['high accessibility needs and perceived accuracy', 'low accessibility needs and perceived accuracy']\n",
      "    )]\n"
     ]
    },
    {
     "name": "stderr",
     "output_type": "stream",
     "text": [
      " 95%|█████████▌| 19/20 [01:08<00:03,  3.81s/it]"
     ]
    },
    {
     "name": "stdout",
     "output_type": "stream",
     "text": [
      "[    PersonaDimension(\n",
      "        name=\"Economic and Job Outlook\",\n",
      "        description=\"The individual's overall perspective and beliefs about future economic trends, the impact of automation on the job market, potential job losses or creation of new opportunities, income inequality, and societal disruption.\",\n",
      "        level=\"mid\",\n",
      "        candidate_values=['optimistic outlook', 'pessimistic outlook']\n",
      "    )]\n"
     ]
    },
    {
     "name": "stderr",
     "output_type": "stream",
     "text": [
      "100%|██████████| 20/20 [01:12<00:00,  3.63s/it]\n"
     ]
    },
    {
     "name": "stdout",
     "output_type": "stream",
     "text": [
      "[    PersonaDimension(\n",
      "        name=\"Financial and Career Stability\",\n",
      "        description=\"The person's financial situation, career stability, risk tolerance, and attitudes towards self-reliance in managing their finances and career.\",\n",
      "        level=\"mid\",\n",
      "        candidate_values=['stable finances and career', 'unstable finances or career', 'risk-averse', 'risk-tolerant']\n",
      "    ),     PersonaDimension(\n",
      "        name=\"Emotional and Time Availability\",\n",
      "        description=\"The person's emotional preparedness, resilience, and availability of time to handle the challenges of caregiving.\",\n",
      "        level=\"mid\",\n",
      "        candidate_values=['emotionally prepared with time available', 'emotionally unprepared or lacks time available']\n",
      "    ),     PersonaDimension(\n",
      "        name=\"Locus of Control\",\n",
      "        description=\"The extent to which individuals believe they have control over the events and outcomes in their lives.\",\n",
      "        level=\"mid\",\n",
      "        candidate_values=['internal locus of control', 'external locus of control']\n",
      "    )]\n"
     ]
    },
    {
     "name": "stderr",
     "output_type": "stream",
     "text": [
      "  5%|▌         | 1/20 [00:02<00:44,  2.33s/it]"
     ]
    },
    {
     "name": "stdout",
     "output_type": "stream",
     "text": [
      "[    PersonaDimension(\n",
      "        name=\"Prioritization of Efficiency\",\n",
      "        description=\"The individual's emphasis on efficiency, productivity, cost-savings, and convenience over other factors such as fairness, worker welfare, and job security.\",\n",
      "        level=\"high\",\n",
      "        candidate_values=['high priority on efficiency', 'low priority on efficiency']\n",
      "    )]\n"
     ]
    },
    {
     "name": "stderr",
     "output_type": "stream",
     "text": [
      " 10%|█         | 2/20 [00:08<01:17,  4.31s/it]"
     ]
    },
    {
     "name": "stdout",
     "output_type": "stream",
     "text": [
      "[    PersonaDimension(\n",
      "        name=\"Attitudes Towards Automation and Its Societal Impact\",\n",
      "        description=\"The person's overall perspective, beliefs, and sentiments regarding the role and impact of automation, robotics, and digital technologies on society, the workforce, and the economy.\",\n",
      "        level=\"high\",\n",
      "        candidate_values=['positive attitude', 'negative attitude', 'neutral attitude']\n",
      "    ),     PersonaDimension(\n",
      "        name=\"Trust in Institutions and Technology\",\n",
      "        description=\"The level of trust and confidence in the reliability, safety, and responsible management of automated systems and technologies by institutions such as corporations, technology companies, and the government.\",\n",
      "        level=\"high\",\n",
      "        candidate_values=['high trust', 'low trust']\n",
      "    ),     PersonaDimension(\n",
      "        name=\"Beliefs About the Role of Humans in Automation\",\n",
      "        description=\"The person's views on the appropriate balance and relationship between human labor and automated systems, including the value placed on human work and the level of human involvement or control.\",\n",
      "        level=\"high\",\n",
      "        candidate_values=['humans should maintain control', 'humans should be complemented', 'humans are replaceable']\n",
      "    )]\n"
     ]
    },
    {
     "name": "stderr",
     "output_type": "stream",
     "text": [
      " 15%|█▌        | 3/20 [00:14<01:27,  5.15s/it]"
     ]
    },
    {
     "name": "stdout",
     "output_type": "stream",
     "text": [
      "[    PersonaDimension(\n",
      "        name=\"Core Personal Values\",\n",
      "        description=\"The individual's fundamental values, beliefs, and priorities that shape their attitudes and preferences across various domains, such as caregiving, hiring, technology adoption, and human interaction.\",\n",
      "        level=\"high\",\n",
      "        candidate_values=['values independence', 'values human connection', 'values fairness', 'values efficiency', 'values family care']\n",
      "    )]\n"
     ]
    },
    {
     "name": "stderr",
     "output_type": "stream",
     "text": [
      " 20%|██        | 4/20 [00:16<01:05,  4.10s/it]"
     ]
    },
    {
     "name": "stdout",
     "output_type": "stream",
     "text": [
      "[    PersonaDimension(\n",
      "        name=\"Attitudes Towards Technological Progress\",\n",
      "        description=\"The person's overall beliefs, perspectives, and attitudes towards the role, impact, and implications of technological advancements in society, the economy, and various aspects of life.\",\n",
      "        level=\"high\",\n",
      "        candidate_values=['technology-optimistic', 'technology-skeptical', 'neutral']\n",
      "    )]\n"
     ]
    },
    {
     "name": "stderr",
     "output_type": "stream",
     "text": [
      " 25%|██▌       | 5/20 [00:19<00:56,  3.79s/it]"
     ]
    },
    {
     "name": "stdout",
     "output_type": "stream",
     "text": [
      "[    PersonaDimension(\n",
      "        name=\"Openness to Technological Change and Innovation\",\n",
      "        description=\"The individual's general attitude, willingness, and adaptability towards embracing new technologies, innovations, and changes in various domains such as work, transportation, healthcare, and everyday life.\",\n",
      "        level=\"high\",\n",
      "        candidate_values=['highly open and adaptable', 'moderately open and adaptable', 'resistant to change and innovation']\n",
      "    )]\n"
     ]
    },
    {
     "name": "stderr",
     "output_type": "stream",
     "text": [
      " 30%|███       | 6/20 [00:23<00:50,  3.62s/it]"
     ]
    },
    {
     "name": "stdout",
     "output_type": "stream",
     "text": [
      "[    PersonaDimension(\n",
      "        name=\"Worldview on Technology and Society\",\n",
      "        description=\"The individual's broader perspectives, beliefs, and worldviews regarding the role of technology in society, the economy, and various aspects of human life, including its potential benefits, drawbacks, and impact on the future.\",\n",
      "        level=\"high\",\n",
      "        candidate_values=['technology-optimistic', 'technology-skeptical', 'balanced/pragmatic']\n",
      "    )]\n"
     ]
    },
    {
     "name": "stderr",
     "output_type": "stream",
     "text": [
      " 35%|███▌      | 7/20 [00:30<01:01,  4.70s/it]"
     ]
    },
    {
     "name": "stdout",
     "output_type": "stream",
     "text": [
      "[    PersonaDimension(\n",
      "        name=\"Societal and Moral Values\",\n",
      "        description=\"The individual's core values, beliefs, and ethical principles regarding the role of technology, human labor, social welfare, fairness, equity, and responsibility in society.\",\n",
      "        level=\"high\",\n",
      "        candidate_values=['prioritizes technological progress', 'prioritizes human labor and social welfare', 'prioritizes individual achievement and responsibility', 'balanced views on technology and social welfare']\n",
      "    ),     PersonaDimension(\n",
      "        name=\"Attitudes Towards Aging and Elderly Care\",\n",
      "        description=\"The person's beliefs, values, and sense of duty regarding the care, independence, and well-being of the elderly population.\",\n",
      "        level=\"high\",\n",
      "        candidate_values=['prioritizes elderly care and independence', 'indifferent to elderly care', 'prioritizes dependence on caregivers']\n",
      "    ),     PersonaDimension(\n",
      "        name=\"Beliefs on Equity and Fairness in Employment and Healthcare\",\n",
      "        description=\"The individual's views on the importance of ensuring fair and equitable practices in hiring, as well as equal access to quality healthcare services.\",\n",
      "        level=\"high\",\n",
      "        candidate_values=['prioritizes fairness and equity', 'less concerned with fairness and equity', 'moderate views on fairness and equity']\n",
      "    )]\n"
     ]
    },
    {
     "name": "stderr",
     "output_type": "stream",
     "text": [
      " 40%|████      | 8/20 [00:35<00:57,  4.81s/it]"
     ]
    },
    {
     "name": "stdout",
     "output_type": "stream",
     "text": [
      "[    PersonaDimension(\n",
      "        name=\"Core Personal Values\",\n",
      "        description=\"The individual's fundamental values, beliefs, and priorities that shape their attitudes towards work, technology, and life in general.\",\n",
      "        level=\"high\",\n",
      "        candidate_values=['values job security', 'values career growth', 'values technological progress', 'values personal fulfillment', 'values work-life balance', 'values human interaction', 'values privacy', 'values efficiency and productivity', 'values tradition and stability']\n",
      "    )]\n"
     ]
    },
    {
     "name": "stderr",
     "output_type": "stream",
     "text": [
      " 45%|████▌     | 9/20 [00:38<00:49,  4.49s/it]"
     ]
    },
    {
     "name": "stdout",
     "output_type": "stream",
     "text": [
      "[    PersonaDimension(\n",
      "        name=\"Beliefs About the Future of Work and Technology\",\n",
      "        description=\"The person's overall perspective and outlook on the long-term impact of automation, robotics, and technological advancements on the job market, employment landscape, and the future of work.\",\n",
      "        level=\"high\",\n",
      "        candidate_values=['optimistic', 'pessimistic', 'neutral/uncertain']\n",
      "    )]\n"
     ]
    },
    {
     "name": "stderr",
     "output_type": "stream",
     "text": [
      " 50%|█████     | 10/20 [00:42<00:41,  4.14s/it]"
     ]
    },
    {
     "name": "stdout",
     "output_type": "stream",
     "text": [
      "[    PersonaDimension(\n",
      "        name=\"Ethical Considerations and Moral Values\",\n",
      "        description=\"The individual's ethical principles, beliefs, and level of concern regarding the moral and ethical implications of using technology such as robots, AI, and automation in sensitive domains like caregiving, healthcare, hiring, and decision-making.\",\n",
      "        level=\"high\",\n",
      "        candidate_values=['high ethical concerns', 'moderate ethical concerns', 'low ethical concerns']\n",
      "    )]\n"
     ]
    },
    {
     "name": "stderr",
     "output_type": "stream",
     "text": [
      " 55%|█████▌    | 11/20 [00:44<00:31,  3.54s/it]"
     ]
    },
    {
     "name": "stdout",
     "output_type": "stream",
     "text": [
      "[    PersonaDimension(\n",
      "        name=\"Worldview and Ideological Beliefs\",\n",
      "        description=\"The individual's broader philosophical, political, and ethical perspectives that shape their views on the role of technology, government regulation, and the balance between individual freedoms, economic efficiency, and social welfare.\",\n",
      "        level=\"high\",\n",
      "        candidate_values=['conservative worldview', 'liberal worldview', 'moderate worldview']\n",
      "    )]\n"
     ]
    },
    {
     "name": "stderr",
     "output_type": "stream",
     "text": [
      " 60%|██████    | 12/20 [00:50<00:33,  4.17s/it]"
     ]
    },
    {
     "name": "stdout",
     "output_type": "stream",
     "text": [
      "[    PersonaDimension(\n",
      "        name=\"Work-Life Balance Priorities\",\n",
      "        description=\"The individual's ability to maintain a healthy balance between their work and personal life, as well as their emphasis on prioritizing work-life balance or work demands.\",\n",
      "        level=\"high\",\n",
      "        candidate_values=['prioritizes work-life balance', 'prioritizes work over personal life']\n",
      "    ),     PersonaDimension(\n",
      "        name=\"Job Satisfaction and Work Personality\",\n",
      "        description=\"The individual's overall level of satisfaction with their job and work environment, as well as their personality traits related to work orientation, ambition, and need for achievement.\",\n",
      "        level=\"high\",\n",
      "        candidate_values=['high job satisfaction and work-oriented personality', 'low job satisfaction and balanced work-life personality']\n",
      "    ),     PersonaDimension(\n",
      "        name=\"Adaptability and Resilience\",\n",
      "        description=\"The individual's ability to adapt to changing circumstances and handle demands, which may be relevant in the context of caregiving or other life situations.\",\n",
      "        level=\"high\",\n",
      "        candidate_values=['highly adaptable', 'less adaptable']\n",
      "    )]\n"
     ]
    },
    {
     "name": "stderr",
     "output_type": "stream",
     "text": [
      " 65%|██████▌   | 13/20 [00:52<00:25,  3.70s/it]"
     ]
    },
    {
     "name": "stdout",
     "output_type": "stream",
     "text": [
      "[    PersonaDimension(\n",
      "        name=\"Personal Values and Priorities\",\n",
      "        description=\"The individual's core values, principles, and priorities that shape their views on the balance between individual freedoms, personal privacy, public safety, environmental sustainability, and societal well-being.\",\n",
      "        level=\"high\",\n",
      "        candidate_values=['prioritizes individual freedoms', 'prioritizes personal privacy', 'prioritizes public safety', 'prioritizes environmental sustainability', 'prioritizes societal well-being']\n",
      "    )]\n"
     ]
    },
    {
     "name": "stderr",
     "output_type": "stream",
     "text": [
      " 70%|███████   | 14/20 [00:55<00:20,  3.33s/it]"
     ]
    },
    {
     "name": "stdout",
     "output_type": "stream",
     "text": [
      "[    PersonaDimension(\n",
      "        name=\"Personality Traits\",\n",
      "        description=\"Individual personality characteristics that may influence attitudes towards technology adoption, automation, and hiring practices.\",\n",
      "        level=\"high\",\n",
      "        candidate_values=['open-minded', 'risk-averse', 'adaptable', 'analytical', 'intuitive']\n",
      "    )]\n"
     ]
    },
    {
     "name": "stderr",
     "output_type": "stream",
     "text": [
      " 75%|███████▌  | 15/20 [00:57<00:15,  3.17s/it]"
     ]
    },
    {
     "name": "stdout",
     "output_type": "stream",
     "text": [
      "[    PersonaDimension(\n",
      "        name=\"Core Personal Values\",\n",
      "        description=\"The individual's fundamental values, beliefs, and priorities that shape their attitudes towards autonomous vehicles, such as safety, convenience, environmental impact, personal control, and technological progressiveness.\",\n",
      "        level=\"high\",\n",
      "        candidate_values=['prioritizes safety', 'prioritizes convenience', 'prioritizes environmental sustainability', 'prioritizes personal control', 'progressive', 'traditional']\n",
      "    )]\n"
     ]
    },
    {
     "name": "stderr",
     "output_type": "stream",
     "text": [
      " 80%|████████  | 16/20 [01:01<00:12,  3.23s/it]"
     ]
    },
    {
     "name": "stdout",
     "output_type": "stream",
     "text": [
      "[    PersonaDimension(\n",
      "        name=\"Personality and Cognitive Traits\",\n",
      "        description=\"The individual's personality characteristics, cognitive processing styles, and openness to new experiences that may influence their preference for and interaction with voice assistants and other voice-controlled technologies.\",\n",
      "        level=\"high\",\n",
      "        candidate_values=['extroverted', 'introverted', 'open to new experiences', 'closed to new experiences', 'verbal cognitive style', 'visual cognitive style']\n",
      "    )]\n"
     ]
    },
    {
     "name": "stderr",
     "output_type": "stream",
     "text": [
      " 85%|████████▌ | 17/20 [01:03<00:08,  2.93s/it]"
     ]
    },
    {
     "name": "stdout",
     "output_type": "stream",
     "text": [
      "[    PersonaDimension(\n",
      "        name=\"Cultural and Social Values\",\n",
      "        description=\"The individual's broader cultural, societal, and personal values, beliefs, and norms that influence their perceptions and expectations regarding the appropriate role of technology in caregiving, parenting, and healthcare.\",\n",
      "        level=\"high\",\n",
      "        candidate_values=['traditional values', 'progressive values']\n",
      "    )]\n"
     ]
    },
    {
     "name": "stderr",
     "output_type": "stream",
     "text": [
      " 90%|█████████ | 18/20 [01:09<00:07,  3.80s/it]"
     ]
    },
    {
     "name": "stdout",
     "output_type": "stream",
     "text": [
      "[    PersonaDimension(\n",
      "        name=\"Attitude Towards Technology\",\n",
      "        description=\"The individual's overall perspective, beliefs, and disposition towards technology, including its role in the workplace, decision-making processes, and society as a whole.\",\n",
      "        level=\"high\",\n",
      "        candidate_values=['technology-embracing', 'technology-skeptical', 'technology-neutral']\n",
      "    )]\n"
     ]
    },
    {
     "name": "stderr",
     "output_type": "stream",
     "text": [
      " 95%|█████████▌| 19/20 [01:13<00:03,  3.74s/it]"
     ]
    },
    {
     "name": "stdout",
     "output_type": "stream",
     "text": [
      "[    PersonaDimension(\n",
      "        name=\"Locus of Control and Autonomy\",\n",
      "        description=\"The extent to which individuals believe they have control over the outcomes in their lives, and their desire for independence, self-reliance, and personal agency.\",\n",
      "        level=\"high\",\n",
      "        candidate_values=['internal locus of control and high autonomy', 'external locus of control and low autonomy']\n",
      "    ),     PersonaDimension(\n",
      "        name=\"Sense of Purpose and Meaning\",\n",
      "        description=\"The importance placed on having a sense of purpose, fulfillment, and meaningful activities in life.\",\n",
      "        level=\"high\",\n",
      "        candidate_values=['high need for purpose', 'low need for purpose']\n",
      "    )]\n"
     ]
    },
    {
     "name": "stderr",
     "output_type": "stream",
     "text": [
      "100%|██████████| 20/20 [01:15<00:00,  3.77s/it]\n"
     ]
    },
    {
     "name": "stdout",
     "output_type": "stream",
     "text": [
      "[    PersonaDimension(\n",
      "        name=\"Risk Tolerance\",\n",
      "        description=\"The individual's general attitude and willingness to accept potential risks and trade-offs associated with new technologies or situations in life.\",\n",
      "        level=\"high\",\n",
      "        candidate_values=['risk-averse', 'risk-tolerant']\n",
      "    )]\n"
     ]
    },
    {
     "name": "stderr",
     "output_type": "stream",
     "text": [
      "  5%|▌         | 1/20 [00:05<01:37,  5.15s/it]"
     ]
    },
    {
     "name": "stdout",
     "output_type": "stream",
     "text": [
      "[    PersonaDimension(\n",
      "        name=\"Life Stage\",\n",
      "        description=\"The individual's current life stage, which may impact their priorities, social connections, community involvement, and availability for neighborhood interactions.\",\n",
      "        level=\"low\",\n",
      "        candidate_values=['student', 'young adult', 'middle-aged', 'retired']\n",
      "    ),     PersonaDimension(\n",
      "        name=\"Financial Preparedness\",\n",
      "        description=\"The individual's financial situation and level of preparedness for retirement, including their ability to save and plan for the future.\",\n",
      "        level=\"low\",\n",
      "        candidate_values=['limited financial resources', 'adequate financial resources', 'unprepared for retirement', 'prepared for retirement']\n",
      "    )]\n"
     ]
    },
    {
     "name": "stderr",
     "output_type": "stream",
     "text": [
      " 10%|█         | 2/20 [00:08<01:14,  4.13s/it]"
     ]
    },
    {
     "name": "stdout",
     "output_type": "stream",
     "text": [
      "[    PersonaDimension(\n",
      "        name=\"Experiences with Gender-Based Discrimination and Societal Pressures\",\n",
      "        description=\"The individual's personal experiences with gender-based discrimination, societal pressures, and expectations related to gender norms, roles, and expression.\",\n",
      "        level=\"low\",\n",
      "        candidate_values=['experienced discrimination/pressure', 'not experienced discrimination/pressure']\n",
      "    )]\n"
     ]
    },
    {
     "name": "stderr",
     "output_type": "stream",
     "text": [
      " 15%|█▌        | 3/20 [00:12<01:07,  3.99s/it]"
     ]
    },
    {
     "name": "stdout",
     "output_type": "stream",
     "text": [
      "[    PersonaDimension(\n",
      "        name=\"Political Orientation\",\n",
      "        description=\"The individual's political affiliation, voting habits, and level of involvement in political processes and movements.\",\n",
      "        level=\"low\",\n",
      "        candidate_values=['Strong Republican', 'Moderate Republican', 'Independent/Non-Partisan', 'Moderate Democrat', 'Strong Democrat']\n",
      "    )]\n"
     ]
    },
    {
     "name": "stderr",
     "output_type": "stream",
     "text": [
      " 20%|██        | 4/20 [00:14<00:49,  3.11s/it]"
     ]
    },
    {
     "name": "stdout",
     "output_type": "stream",
     "text": [
      "[    PersonaDimension(\n",
      "        name=\"Self-Perception\",\n",
      "        description=\"The individual's subjective evaluation of their own intelligence, cognitive abilities, and physical attractiveness.\",\n",
      "        level=\"low\",\n",
      "        candidate_values=['high self-perception', 'moderate self-perception', 'low self-perception']\n",
      "    )]\n"
     ]
    },
    {
     "name": "stderr",
     "output_type": "stream",
     "text": [
      " 25%|██▌       | 5/20 [00:22<01:15,  5.05s/it]"
     ]
    },
    {
     "name": "stdout",
     "output_type": "stream",
     "text": [
      "[    PersonaDimension(\n",
      "        name=\"Gender Identity and Expression\",\n",
      "        description=\"The individual's internal sense and self-perception of being male, female, non-binary, transgender, or another gender identity, as well as how they outwardly express their gender through behavior, appearance, and interests.\",\n",
      "        level=\"low\",\n",
      "        candidate_values=['cisgender male', 'cisgender female', 'transgender/non-binary', 'masculine expression', 'feminine expression', 'androgynous expression']\n",
      "    )]\n"
     ]
    },
    {
     "name": "stderr",
     "output_type": "stream",
     "text": [
      " 30%|███       | 6/20 [00:25<00:59,  4.24s/it]"
     ]
    },
    {
     "name": "stdout",
     "output_type": "stream",
     "text": [
      "[    PersonaDimension(\n",
      "        name=\"Socioeconomic Status\",\n",
      "        description=\"The individual's social and economic standing, including factors such as income, education, and access to resources and opportunities within their community.\",\n",
      "        level=\"low\",\n",
      "        candidate_values=['high', 'middle', 'low']\n",
      "    )]\n"
     ]
    },
    {
     "name": "stderr",
     "output_type": "stream",
     "text": [
      " 35%|███▌      | 7/20 [00:28<00:51,  3.96s/it]"
     ]
    },
    {
     "name": "stdout",
     "output_type": "stream",
     "text": [
      "[    PersonaDimension(\n",
      "        name=\"Smoking and Lifestyle Habits\",\n",
      "        description=\"The participant's overall lifestyle, daily routines, and habits that may influence their smoking behavior, including environmental factors, frequency of smoking, and other health-related behaviors.\",\n",
      "        level=\"low\",\n",
      "        candidate_values=['high-risk habits', 'moderate-risk habits', 'low-risk habits']\n",
      "    )]\n"
     ]
    },
    {
     "name": "stderr",
     "output_type": "stream",
     "text": [
      " 40%|████      | 8/20 [00:32<00:46,  3.91s/it]"
     ]
    },
    {
     "name": "stdout",
     "output_type": "stream",
     "text": [
      "[    PersonaDimension(\n",
      "        name=\"Community and Civic Engagement\",\n",
      "        description=\"The individual's level of involvement, participation, and interest in local community activities, organizations, volunteering, and social or political issues.\",\n",
      "        level=\"low\",\n",
      "        candidate_values=['highly engaged', 'moderately engaged', 'minimally engaged']\n",
      "    )]\n"
     ]
    },
    {
     "name": "stderr",
     "output_type": "stream",
     "text": [
      " 45%|████▌     | 9/20 [00:35<00:40,  3.65s/it]"
     ]
    },
    {
     "name": "stdout",
     "output_type": "stream",
     "text": [
      "[    PersonaDimension(\n",
      "        name=\"Physical and Cognitive Capabilities\",\n",
      "        description=\"The individual's physical fitness, strength, health conditions, cognitive abilities, and access to healthcare services.\",\n",
      "        level=\"low\",\n",
      "        candidate_values=['high capabilities', 'moderate capabilities', 'low capabilities']\n",
      "    )]\n"
     ]
    },
    {
     "name": "stderr",
     "output_type": "stream",
     "text": [
      " 50%|█████     | 10/20 [00:38<00:33,  3.30s/it]"
     ]
    },
    {
     "name": "stdout",
     "output_type": "stream",
     "text": [
      "[    PersonaDimension(\n",
      "        name=\"Interpersonal and Technological Competence\",\n",
      "        description=\"The individual's ability to effectively communicate, work with others, and utilize technology to maintain relationships, even when faced with differences or distance.\",\n",
      "        level=\"low\",\n",
      "        candidate_values=['high competence', 'moderate competence', 'low competence']\n",
      "    )]\n"
     ]
    },
    {
     "name": "stderr",
     "output_type": "stream",
     "text": [
      " 55%|█████▌    | 11/20 [00:42<00:31,  3.53s/it]"
     ]
    },
    {
     "name": "stdout",
     "output_type": "stream",
     "text": [
      "[    PersonaDimension(\n",
      "        name=\"Occupation and Industry\",\n",
      "        description=\"The participant's job or career type, industry sector, and how it may be impacted by factors such as automation, outsourcing, immigration, gender dynamics, foreign trade, and product sales.\",\n",
      "        level=\"low\",\n",
      "        candidate_values=['blue-collar', 'non-blue-collar', 'export-oriented', 'non-export-oriented', 'male-dominated', 'female-dominated', 'gender-balanced', 'highly automated', 'minimally automated', 'outsourceable', 'non-outsourceable', 'high-skilled', 'low-skilled']\n",
      "    )]\n"
     ]
    },
    {
     "name": "stderr",
     "output_type": "stream",
     "text": [
      " 60%|██████    | 12/20 [00:45<00:26,  3.34s/it]"
     ]
    },
    {
     "name": "stdout",
     "output_type": "stream",
     "text": [
      "[    PersonaDimension(\n",
      "        name=\"Educational Background\",\n",
      "        description=\"The level and type of education, including exposure to research and ideas about gender, feminism, and gender equality, which may influence perspectives on gender roles, parenting, and leadership.\",\n",
      "        level=\"low\",\n",
      "        candidate_values=['higher education', 'lower education']\n",
      "    )]\n"
     ]
    },
    {
     "name": "stderr",
     "output_type": "stream",
     "text": [
      " 65%|██████▌   | 13/20 [00:48<00:22,  3.27s/it]"
     ]
    },
    {
     "name": "stdout",
     "output_type": "stream",
     "text": [
      "[    PersonaDimension(\n",
      "        name=\"Formative Life Experiences\",\n",
      "        description=\"The individual's personal experiences, major life events, relationships, and circumstances that have shaped their values, beliefs, worldviews, and perspectives.\",\n",
      "        level=\"low\",\n",
      "        candidate_values=['positive formative experiences', 'negative formative experiences', 'traditional experiences', 'non-traditional experiences']\n",
      "    )]\n"
     ]
    },
    {
     "name": "stderr",
     "output_type": "stream",
     "text": [
      " 70%|███████   | 14/20 [00:51<00:19,  3.33s/it]"
     ]
    },
    {
     "name": "stdout",
     "output_type": "stream",
     "text": [
      "[    PersonaDimension(\n",
      "        name=\"Experiences and Perceptions of Masculinity\",\n",
      "        description=\"Personal experiences with masculinity norms during upbringing, evaluations of one's own masculinity by others, and perceptions of societal attitudes towards traditional masculine traits.\",\n",
      "        level=\"low\",\n",
      "        candidate_values=['Positive personal and societal view of masculinity', 'Negative personal and societal view of masculinity', 'Mixed personal and societal view of masculinity']\n",
      "    )]\n"
     ]
    },
    {
     "name": "stderr",
     "output_type": "stream",
     "text": [
      " 75%|███████▌  | 15/20 [00:53<00:15,  3.03s/it]"
     ]
    },
    {
     "name": "stdout",
     "output_type": "stream",
     "text": [
      "[    PersonaDimension(\n",
      "        name=\"Exposure to Transgender Individuals and LGBTQ+ Community\",\n",
      "        description=\"The level of personal experience, interaction, and connections the individual has with transgender people and the broader LGBTQ+ community.\",\n",
      "        level=\"low\",\n",
      "        candidate_values=['high exposure and close connections', 'limited exposure and connections']\n",
      "    )]\n"
     ]
    },
    {
     "name": "stderr",
     "output_type": "stream",
     "text": [
      " 80%|████████  | 16/20 [00:56<00:11,  2.89s/it]"
     ]
    },
    {
     "name": "stdout",
     "output_type": "stream",
     "text": [
      "[    PersonaDimension(\n",
      "        name=\"Geographic Location and Proximity\",\n",
      "        description=\"The participant's geographic location, including the type of area (urban, suburban, rural), proximity to friends and family, and location of their job or career.\",\n",
      "        level=\"low\",\n",
      "        candidate_values=['urban', 'suburban', 'rural', 'domestic location', 'international location', 'close to friends/family', 'far from friends/family']\n",
      "    )]\n"
     ]
    },
    {
     "name": "stderr",
     "output_type": "stream",
     "text": [
      " 85%|████████▌ | 17/20 [01:01<00:10,  3.57s/it]"
     ]
    },
    {
     "name": "stdout",
     "output_type": "stream",
     "text": [
      "[    PersonaDimension(\n",
      "        name=\"Family Structure and Household Composition\",\n",
      "        description=\"The participant's family situation, including relationship status, presence of children, multi-generational living arrangements, and the number and type of people in the household.\",\n",
      "        level=\"low\",\n",
      "        candidate_values=['single', 'in a relationship', 'with children', 'multi-generational household', 'single-person household', 'multi-person household']\n",
      "    ),     PersonaDimension(\n",
      "        name=\"Parenting Approaches and Family Dynamics\",\n",
      "        description=\"The participant's preferences, practices, and experiences related to raising and socializing children, as well as the dynamics within their family structure.\",\n",
      "        level=\"low\",\n",
      "        candidate_values=['emphasizes emotional expression', 'discourages emotional expression', 'single-parent', 'two-parent', 'extended family']\n",
      "    )]\n"
     ]
    },
    {
     "name": "stderr",
     "output_type": "stream",
     "text": [
      " 90%|█████████ | 18/20 [01:03<00:06,  3.14s/it]"
     ]
    },
    {
     "name": "stdout",
     "output_type": "stream",
     "text": [
      "[    PersonaDimension(\n",
      "        name=\"Lifestyle and Social Behavior\",\n",
      "        description=\"The individual's daily routines, habits, and typical behavior patterns in social situations, which may impact their interactions with others.\",\n",
      "        level=\"low\",\n",
      "        candidate_values=['structured routine', 'unstructured routine', 'dominant', 'submissive']\n",
      "    )]\n"
     ]
    },
    {
     "name": "stderr",
     "output_type": "stream",
     "text": [
      " 95%|█████████▌| 19/20 [01:06<00:02,  2.92s/it]"
     ]
    },
    {
     "name": "stdout",
     "output_type": "stream",
     "text": [
      "[    PersonaDimension(\n",
      "        name=\"Demographic Factors\",\n",
      "        description=\"Personal characteristics such as age, gender, race, socioeconomic status, and geographic location that may influence an individual's views, experiences, and behaviors.\",\n",
      "        level=\"low\",\n",
      "        candidate_values=['young', 'old', 'male', 'female', 'non-binary', 'racial minority', 'white', 'low income', 'high income', 'urban', 'rural']\n",
      "    )]\n"
     ]
    },
    {
     "name": "stderr",
     "output_type": "stream",
     "text": [
      "100%|██████████| 20/20 [01:07<00:00,  3.40s/it]\n"
     ]
    },
    {
     "name": "stdout",
     "output_type": "stream",
     "text": [
      "[    PersonaDimension(\n",
      "        name=\"Media Consumption\",\n",
      "        description=\"The types of media and entertainment that shape perceptions of gender and masculinity.\",\n",
      "        level=\"low\",\n",
      "        candidate_values=['traditional media consumption', 'progressive media consumption']\n",
      "    )]\n"
     ]
    },
    {
     "name": "stderr",
     "output_type": "stream",
     "text": [
      "  5%|▌         | 1/20 [00:04<01:18,  4.16s/it]"
     ]
    },
    {
     "name": "stdout",
     "output_type": "stream",
     "text": [
      "[    PersonaDimension(\n",
      "        name=\"Community Connectedness\",\n",
      "        description=\"The degree to which an individual feels a sense of belonging, trust, and social connection within their local neighborhood or community.\",\n",
      "        level=\"mid\",\n",
      "        candidate_values=['high community connectedness', 'moderate community connectedness', 'low community connectedness']\n",
      "    )]\n"
     ]
    },
    {
     "name": "stderr",
     "output_type": "stream",
     "text": [
      " 10%|█         | 2/20 [00:16<02:38,  8.81s/it]"
     ]
    },
    {
     "name": "stdout",
     "output_type": "stream",
     "text": [
      "[    PersonaDimension(\n",
      "        name=\"Attitudes Towards Gender Equality and Social Change\",\n",
      "        description=\"The individual's beliefs, perceptions, and attitudes towards gender equality, feminism, LGBTQ+ rights, racial equality, and the pace and direction of societal changes related to these issues.\",\n",
      "        level=\"mid\",\n",
      "        candidate_values=['supportive of equality and progress', 'unsupportive of equality and progress', 'ambivalent or uncertain']\n",
      "    ),     PersonaDimension(\n",
      "        name=\"Parenting Beliefs and Approaches\",\n",
      "        description=\"The individual's beliefs, attitudes, and approaches towards raising and encouraging children, particularly regarding gender roles, leadership, assertiveness, and conformity.\",\n",
      "        level=\"mid\",\n",
      "        candidate_values=['emphasizes gender equality and empowerment', 'emphasizes traditional gender roles', 'balanced approach']\n",
      "    ),     PersonaDimension(\n",
      "        name=\"Gender Beliefs and Perceptions\",\n",
      "        description=\"The individual's beliefs and perceptions about the similarities or differences between men and women in various domains, such as cognitive abilities, physical abilities, parenting, and the workplace.\",\n",
      "        level=\"mid\",\n",
      "        candidate_values=['believes in gender similarities', 'believes in gender differences', 'ambivalent or uncertain']\n",
      "    ),     PersonaDimension(\n",
      "        name=\"Perceptions of Gender Discrimination and Workplace Culture\",\n",
      "        description=\"The individual's perceptions of gender discrimination, the prevalence of gender biases, and the culture and environment in their workplace regarding gender dynamics.\",\n",
      "        level=\"mid\",\n",
      "        candidate_values=['perceives gender discrimination and bias', 'does not perceive gender discrimination or bias', 'uncertain or ambivalent']\n",
      "    )]\n"
     ]
    },
    {
     "name": "stderr",
     "output_type": "stream",
     "text": [
      " 15%|█▌        | 3/20 [00:20<01:57,  6.92s/it]"
     ]
    },
    {
     "name": "stdout",
     "output_type": "stream",
     "text": [
      "[    PersonaDimension(\n",
      "        name=\"Civic and Community Engagement\",\n",
      "        description=\"The individual's level of involvement, participation, and interest in local community organizations, political processes, social movements, and civic activities aimed at contributing to and improving their local community.\",\n",
      "        level=\"mid\",\n",
      "        candidate_values=['highly engaged', 'moderately engaged', 'disengaged']\n",
      "    )]\n"
     ]
    },
    {
     "name": "stderr",
     "output_type": "stream",
     "text": [
      " 20%|██        | 4/20 [00:24<01:29,  5.61s/it]"
     ]
    },
    {
     "name": "stdout",
     "output_type": "stream",
     "text": [
      "[    PersonaDimension(\n",
      "        name=\"Attitudes Towards Gender Norms and Roles\",\n",
      "        description=\"Beliefs, attitudes, and perceptions about societal expectations, norms, and roles related to gender, including traditional and progressive views on masculinity, femininity, and appropriate behaviors for men, women, boys, and girls.\",\n",
      "        level=\"mid\",\n",
      "        candidate_values=['traditional gender norms', 'progressive gender norms', 'egalitarian gender roles']\n",
      "    )]\n"
     ]
    },
    {
     "name": "stderr",
     "output_type": "stream",
     "text": [
      " 25%|██▌       | 5/20 [00:27<01:07,  4.52s/it]"
     ]
    },
    {
     "name": "stdout",
     "output_type": "stream",
     "text": [
      "[    PersonaDimension(\n",
      "        name=\"Adaptability and Tolerance for Ambiguity\",\n",
      "        description=\"The individual's ability and willingness to adapt to changes, embrace uncertainty, and adjust to ambiguous or unfamiliar situations in various contexts, such as the workforce, job market, and workplace dynamics.\",\n",
      "        level=\"mid\",\n",
      "        candidate_values=['highly adaptable', 'moderately adaptable', 'resistant to change']\n",
      "    )]\n"
     ]
    }
   ],
   "source": [
    "for survey in surveys:\n",
    "    for level in ['low', 'mid', 'high']:\n",
    "        summarize_clustered_personas(prompt_name=\"summarize_clustered_personas\",\n",
    "                                     survey=survey,\n",
    "                                     level=level,\n",
    "                                     clustering_dir='sm_local/outputs/clustering',\n",
    "                                     output_dir='sm_local/outputs/summarizing',\n",
    "                                     num_clusters=20,\n",
    "                                     print_result=True)"
   ]
  },
  {
   "cell_type": "code",
   "execution_count": null,
   "id": "34f813be-de88-420d-9859-2c6087ed6e8c",
   "metadata": {},
   "outputs": [],
   "source": []
  },
  {
   "cell_type": "code",
   "execution_count": null,
   "id": "e3efded4-6baa-4ff0-83a2-7631436ca88a",
   "metadata": {
    "scrolled": true
   },
   "outputs": [],
   "source": []
  },
  {
   "cell_type": "markdown",
   "id": "df7ea3be-cea0-4e34-91b9-e3e6870da19d",
   "metadata": {},
   "source": [
    "# Cleaning"
   ]
  },
  {
   "cell_type": "code",
   "execution_count": 2,
   "id": "8bf02c00-92a2-4c04-9ad0-8d813b436cfa",
   "metadata": {
    "execution": {
     "iopub.execute_input": "2024-07-12T05:22:13.530252Z",
     "iopub.status.busy": "2024-07-12T05:22:13.529708Z",
     "iopub.status.idle": "2024-07-12T05:22:13.535874Z",
     "shell.execute_reply": "2024-07-12T05:22:13.535230Z",
     "shell.execute_reply.started": "2024-07-12T05:22:13.530228Z"
    }
   },
   "outputs": [],
   "source": [
    "def clean_summarized_personas(prompt_name, survey, level, summarizing_dir, output_dir, num_clusters, print_result):\n",
    "    os.makedirs(output_dir, exist_ok=True)\n",
    "\n",
    "    # Get data\n",
    "    summarized_persona_filename = f\"{summarizing_dir}/summarized_{level}_level_personas_{survey}.json\"\n",
    "    with open(summarized_persona_filename, 'r') as f:\n",
    "        data = json.load(f)\n",
    "    with open(f'prompts/{prompt_name}.txt') as f:\n",
    "        prompt_template = f.read()\n",
    "\n",
    "    # summarize\n",
    "    prompt = prompt_template.format(persona_dimensions='[\\n' + ',\\n'.join(repr(dim) for dim in data) + '\\n]')\n",
    "    response = get_llm_response(prompt, prefill='[', max_tokens=4096)\n",
    "    response = '[' + response\n",
    "\n",
    "    # validate\n",
    "    try:\n",
    "        eval(response)\n",
    "        cleaned_summarized_personas_filename = f\"{output_dir}/cleaned_{level}_level_personas_{survey}.json\"\n",
    "        with open(cleaned_summarized_personas_filename, 'w') as f:\n",
    "            json.dump(response, f, indent=4)\n",
    "        return response\n",
    "    except:\n",
    "        print(f'Cleaned result is not valid. Survey: {survey}, Level: {level}. Response:')\n",
    "        # print(response)\n",
    "        return None"
   ]
  },
  {
   "cell_type": "code",
   "execution_count": null,
   "id": "aa54ea1d-3a91-434c-90e1-a9bb55cf3a5a",
   "metadata": {
    "scrolled": true
   },
   "outputs": [],
   "source": [
    "for survey in surveys:\n",
    "    for level in tqdm(['low', 'mid', 'high']):\n",
    "        cleaned_personas = clean_summarized_personas(prompt_name=\"clean_summarized_personas\",\n",
    "                                                      survey=survey,\n",
    "                                                      level=level,\n",
    "                                                      summarizing_dir='sm_local/outputs/summarizing',\n",
    "                                                      output_dir='sm_local/outputs/cleaned',\n",
    "                                                      num_clusters=20,\n",
    "                                                      print_result=True)\n",
    "        "
   ]
  },
  {
   "cell_type": "code",
   "execution_count": 5,
   "id": "4c7589fe-5f17-4b8d-ac20-acf135f936eb",
   "metadata": {
    "execution": {
     "iopub.execute_input": "2024-07-12T05:36:27.469330Z",
     "iopub.status.busy": "2024-07-12T05:36:27.468854Z",
     "iopub.status.idle": "2024-07-12T05:36:27.494850Z",
     "shell.execute_reply": "2024-07-12T05:36:27.494249Z",
     "shell.execute_reply.started": "2024-07-12T05:36:27.469307Z"
    }
   },
   "outputs": [
    {
     "name": "stderr",
     "output_type": "stream",
     "text": [
      "100%|██████████| 3/3 [00:00<00:00, 518.67it/s]\n",
      "100%|██████████| 3/3 [00:00<00:00, 561.61it/s]\n",
      "100%|██████████| 3/3 [00:00<00:00, 590.39it/s]\n"
     ]
    }
   ],
   "source": [
    "for survey in surveys:\n",
    "    for level in tqdm(['low', 'mid', 'high']):\n",
    "        with open(f'sm_local/outputs/cleaned/cleaned_{level}_level_personas_{survey}.json') as f:\n",
    "            json_string = json.load(f)\n",
    "        response = eval(json_string)\n",
    "\n",
    "        csv_res = []\n",
    "        for entry in response:\n",
    "            csv_res.append(asdict(entry))\n",
    "        df = pd.DataFrame(csv_res)\n",
    "        df.to_csv(f'sm_local/outputs/cleaned/cleaned_{level}_level_personas_{survey}.csv')"
   ]
  },
  {
   "cell_type": "code",
   "execution_count": null,
   "id": "d7c7f740-50da-4dd4-8383-b8375dd9c4b4",
   "metadata": {},
   "outputs": [],
   "source": []
  },
  {
   "cell_type": "code",
   "execution_count": 12,
   "id": "a1bcd67a-2a74-480e-bcc9-72213535e0c0",
   "metadata": {
    "execution": {
     "iopub.execute_input": "2024-07-11T22:29:58.174737Z",
     "iopub.status.busy": "2024-07-11T22:29:58.174296Z",
     "iopub.status.idle": "2024-07-11T22:30:39.546329Z",
     "shell.execute_reply": "2024-07-11T22:30:39.545580Z",
     "shell.execute_reply.started": "2024-07-11T22:29:58.174714Z"
    }
   },
   "outputs": [],
   "source": []
  },
  {
   "cell_type": "code",
   "execution_count": null,
   "id": "8d2a46ae-42f8-431e-b12c-af15a0761f82",
   "metadata": {},
   "outputs": [],
   "source": []
  },
  {
   "cell_type": "code",
   "execution_count": null,
   "id": "2f4792c9-6bb4-49a1-a955-bd0a67f98106",
   "metadata": {},
   "outputs": [],
   "source": []
  },
  {
   "cell_type": "code",
   "execution_count": null,
   "id": "007628e2-f7a9-4304-a15e-2d1405538fcf",
   "metadata": {},
   "outputs": [],
   "source": []
  },
  {
   "cell_type": "code",
   "execution_count": null,
   "id": "4bf575eb-c80e-4412-835c-1abd683ab85e",
   "metadata": {},
   "outputs": [],
   "source": []
  },
  {
   "cell_type": "code",
   "execution_count": null,
   "id": "25c8299c",
   "metadata": {},
   "outputs": [],
   "source": []
  },
  {
   "cell_type": "code",
   "execution_count": null,
   "id": "ed813f95",
   "metadata": {},
   "outputs": [],
   "source": []
  }
 ],
 "metadata": {
  "kernelspec": {
   "display_name": "Python (pump)",
   "language": "python",
   "name": "pump"
  },
  "language_info": {
   "codemirror_mode": {
    "name": "ipython",
    "version": 3
   },
   "file_extension": ".py",
   "mimetype": "text/x-python",
   "name": "python",
   "nbconvert_exporter": "python",
   "pygments_lexer": "ipython3",
   "version": "3.10.14"
  }
 },
 "nbformat": 4,
 "nbformat_minor": 5
}
