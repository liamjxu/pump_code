{
 "cells": [
  {
   "cell_type": "code",
   "execution_count": null,
   "id": "72451ed7-b1ff-4aa8-afcd-014768f128f2",
   "metadata": {},
   "outputs": [
    {
     "name": "stderr",
     "output_type": "stream",
     "text": [
      "/home/sagemaker-user/.conda/envs/pump/lib/python3.10/site-packages/sentence_transformers/cross_encoder/CrossEncoder.py:11: TqdmExperimentalWarning: Using `tqdm.autonotebook.tqdm` in notebook mode. Use `tqdm.tqdm` instead to force console mode (e.g. in jupyter console)\n",
      "  from tqdm.autonotebook import tqdm, trange\n"
     ]
    }
   ],
   "source": [
    "import pandas as pd\n",
    "from sentence_transformers import SentenceTransformer\n",
    "from sklearn.cluster import KMeans\n",
    "from transformers import pipeline\n",
    "\n",
    "# Load your CSV file\n",
    "file_path = 'low.csv'\n",
    "data = pd.read_csv(file_path)\n",
    "model = SentenceTransformer(\"Salesforce/SFR-Embedding-2_R\")\n"
   ]
  },
  {
   "cell_type": "code",
   "execution_count": null,
   "id": "723f355b-96f9-4ffa-aeac-567f2c9e18b5",
   "metadata": {},
   "outputs": [],
   "source": [
    "def get_detailed_instruct(task_description: str, query: str) -> str:\n",
    "    return f'Instruct: {task_description}\\nQuery: {query}'\n",
    "\n",
    "\n",
    "# Each query must come with a one-sentence instruction that describes the task\n",
    "task = 'Given a persona query, retrieve relevant passages that answer the query'\n",
    "queries = [\n",
    "    get_detailed_instruct(task, 'How to bake a chocolate cake'),\n",
    "    get_detailed_instruct(task, 'Symptoms of the flu')\n",
    "]\n",
    "# No need to add instruction for retrieval documents\n",
    "passages = [\n",
    "    \"To bake a delicious chocolate cake, you'll need the following ingredients: all-purpose flour, sugar, cocoa powder, baking powder, baking soda, salt, eggs, milk, vegetable oil, and vanilla extract. Start by preheating your oven to 350°F (175°C). In a mixing bowl, combine the dry ingredients (flour, sugar, cocoa powder, baking powder, baking soda, and salt). In a separate bowl, whisk together the wet ingredients (eggs, milk, vegetable oil, and vanilla extract). Gradually add the wet mixture to the dry ingredients, stirring until well combined. Pour the batter into a greased cake pan and bake for 30-35 minutes. Let it cool before frosting with your favorite chocolate frosting. Enjoy your homemade chocolate cake!\",\n",
    "    \"The flu, or influenza, is an illness caused by influenza viruses. Common symptoms of the flu include a high fever, chills, cough, sore throat, runny or stuffy nose, body aches, headache, fatigue, and sometimes nausea and vomiting. These symptoms can come on suddenly and are usually more severe than the common cold. It's important to get plenty of rest, stay hydrated, and consult a healthcare professional if you suspect you have the flu. In some cases, antiviral medications can help alleviate symptoms and reduce the duration of the illness.\"\n",
    "]\n",
    "\n",
    "embeddings = model.encode(queries + passages)\n",
    "scores = model.similarity(embeddings[:2], embeddings[2:]) * 100\n",
    "print(scores.tolist())\n",
    "# [[40.13203811645508, 25.032546997070312], [15.00684642791748, 39.937339782714844]]\n"
   ]
  },
  {
   "cell_type": "code",
   "execution_count": null,
   "id": "a1bcd67a-2a74-480e-bcc9-72213535e0c0",
   "metadata": {},
   "outputs": [],
   "source": [
    "\n",
    "# Preprocess text\n",
    "model = SentenceTransformer('paraphrase-MiniLM-L6-v2')\n",
    "embeddings = model.encode(data['description'].tolist())\n",
    "\n",
    "# Clustering\n",
    "num_clusters = 10  # Set the appropriate number of clusters\n",
    "clustering_model = KMeans(n_clusters=num_clusters)\n",
    "clustering_model.fit(embeddings)\n",
    "data['cluster'] = clustering_model.labels_\n",
    "\n",
    "# Summarization\n",
    "summarizer = pipeline('summarization')\n",
    "def summarize_text(texts):\n",
    "    combined_text = \" \".join(texts)\n",
    "    summary = summarizer(combined_text, max_length=50, min_length=25, do_sample=False)\n",
    "    return summary[0]['summary_text']\n",
    "\n",
    "data['summary'] = data.groupby('cluster')['candidate_values'].transform(lambda x: summarize_text(x.tolist()))\n",
    "\n",
    "# Save the result\n",
    "data.to_csv('/mnt/data/merged_user_persona_dimensions.csv', index=False)\n"
   ]
  }
 ],
 "metadata": {
  "kernelspec": {
   "display_name": "Python (pump)",
   "language": "python",
   "name": "pump"
  },
  "language_info": {
   "codemirror_mode": {
    "name": "ipython",
    "version": 3
   },
   "file_extension": ".py",
   "mimetype": "text/x-python",
   "name": "python",
   "nbconvert_exporter": "python",
   "pygments_lexer": "ipython3",
   "version": "3.10.14"
  }
 },
 "nbformat": 4,
 "nbformat_minor": 5
}
