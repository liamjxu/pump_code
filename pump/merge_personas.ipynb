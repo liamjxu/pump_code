{
 "cells": [
  {
   "cell_type": "code",
   "execution_count": 1,
   "id": "dfd2e4cf-bf2e-440d-9bb1-9fbcca774919",
   "metadata": {
    "execution": {
     "iopub.execute_input": "2024-07-10T05:01:46.722931Z",
     "iopub.status.busy": "2024-07-10T05:01:46.722712Z",
     "iopub.status.idle": "2024-07-10T05:01:49.286774Z",
     "shell.execute_reply": "2024-07-10T05:01:49.286024Z",
     "shell.execute_reply.started": "2024-07-10T05:01:46.722909Z"
    }
   },
   "outputs": [],
   "source": [
    "import os\n",
    "os.environ['HF_HOME'] = '/mnt/sagemaker-nvme/cache'\n",
    "os.environ['CUDA_VISIBLE_DEVICES'] = '0,1'\n",
    "import torch\n",
    "import pandas as pd\n",
    "from sklearn.cluster import KMeans\n",
    "from utils import last_token_pool, get_detailed_instruct\n",
    "from transformers import AutoTokenizer, AutoModel\n",
    "\n",
    "# Load your CSV file\n",
    "file_path = 'low.csv'\n",
    "data = pd.read_csv(file_path)\n",
    "\n",
    "def get_formatted_persona_dim(row):\n",
    "    task = 'Given a persona dimension description, retrieve semantically similar persona dimension descriptions.'\n",
    "    persona = f\"{row['name']}: {row['description']}. Candidate values: {row['candidate_values']}\"\n",
    "    return get_detailed_instruct(task, persona)\n",
    "\n",
    "data['formatted'] = data.apply(get_formatted_persona_dim, axis=1)"
   ]
  },
  {
   "cell_type": "code",
   "execution_count": 2,
   "id": "d780d42f-46b5-4004-8a57-230d9c841c7e",
   "metadata": {
    "execution": {
     "iopub.execute_input": "2024-07-10T05:01:49.288726Z",
     "iopub.status.busy": "2024-07-10T05:01:49.288139Z",
     "iopub.status.idle": "2024-07-10T05:02:08.203531Z",
     "shell.execute_reply": "2024-07-10T05:02:08.202752Z",
     "shell.execute_reply.started": "2024-07-10T05:01:49.288704Z"
    }
   },
   "outputs": [
    {
     "data": {
      "application/vnd.jupyter.widget-view+json": {
       "model_id": "2783363b71ad454c9e78fba14d0a9fdd",
       "version_major": 2,
       "version_minor": 0
      },
      "text/plain": [
       "Loading checkpoint shards:   0%|          | 0/3 [00:00<?, ?it/s]"
      ]
     },
     "metadata": {},
     "output_type": "display_data"
    }
   ],
   "source": [
    "# Load tokenizer and model\n",
    "tokenizer = AutoTokenizer.from_pretrained('Salesforce/SFR-Embedding-2_R')\n",
    "model = AutoModel.from_pretrained('Salesforce/SFR-Embedding-2_R', device_map='auto')\n"
   ]
  },
  {
   "cell_type": "code",
   "execution_count": 3,
   "id": "da12e651-6b44-45c5-a1ab-149af2490537",
   "metadata": {
    "execution": {
     "iopub.execute_input": "2024-07-10T05:02:08.204747Z",
     "iopub.status.busy": "2024-07-10T05:02:08.204423Z",
     "iopub.status.idle": "2024-07-10T05:02:23.814056Z",
     "shell.execute_reply": "2024-07-10T05:02:23.813112Z",
     "shell.execute_reply.started": "2024-07-10T05:02:08.204725Z"
    }
   },
   "outputs": [
    {
     "name": "stdout",
     "output_type": "stream",
     "text": [
      "tensor([[ 4.1695,  4.6872,  2.8439,  ...,  9.8889,  1.9589,  4.9600],\n",
      "        [ 3.9163,  2.8792, -0.4433,  ..., 13.2968,  3.3441, -3.0337],\n",
      "        [ 0.4857,  2.2519, -1.5539,  ..., 11.8453, -4.5226, -0.2279],\n",
      "        ...,\n",
      "        [-1.2200,  2.7208,  5.6652,  ..., 11.7049, -5.5550, -3.7038],\n",
      "        [-3.4693,  2.8005,  4.0805,  ...,  7.9247, -4.8398,  0.1347],\n",
      "        [ 1.7381, -2.5070,  0.9047,  ...,  8.5441,  0.7178, -6.1294]])\n"
     ]
    }
   ],
   "source": [
    "# Get the embeddings\n",
    "max_length = 4096\n",
    "input_texts = data['formatted'].to_list()\n",
    "batch_dict = tokenizer(input_texts, max_length=max_length, padding=True, truncation=True, return_tensors=\"pt\")\n",
    "\n",
    "with torch.no_grad():\n",
    "    outputs = model(**batch_dict)\n",
    "    embeddings = last_token_pool(outputs.last_hidden_state, batch_dict['attention_mask'])\n",
    "    print(embeddings)"
   ]
  },
  {
   "cell_type": "code",
   "execution_count": 4,
   "id": "19ee6511-e74f-4e3b-803f-b86cb222ee56",
   "metadata": {
    "execution": {
     "iopub.execute_input": "2024-07-10T05:02:23.815650Z",
     "iopub.status.busy": "2024-07-10T05:02:23.815077Z",
     "iopub.status.idle": "2024-07-10T05:02:23.945680Z",
     "shell.execute_reply": "2024-07-10T05:02:23.944940Z",
     "shell.execute_reply.started": "2024-07-10T05:02:23.815627Z"
    },
    "scrolled": true
   },
   "outputs": [],
   "source": [
    "# Clustering\n",
    "num_clusters = 20\n",
    "clustering_model = KMeans(n_clusters=num_clusters)\n",
    "clustering_model.fit(embeddings)\n",
    "data['cluster'] = clustering_model.labels_\n",
    "data = data.sort_values(by='cluster')\n",
    "data.to_csv('low_clustered.csv')"
   ]
  },
  {
   "cell_type": "code",
   "execution_count": null,
   "id": "ad5ee79a-77b4-4257-957a-60961db55ee7",
   "metadata": {},
   "outputs": [],
   "source": []
  },
  {
   "cell_type": "code",
   "execution_count": 6,
   "id": "a1bcd67a-2a74-480e-bcc9-72213535e0c0",
   "metadata": {
    "execution": {
     "iopub.execute_input": "2024-07-10T05:02:23.967560Z",
     "iopub.status.busy": "2024-07-10T05:02:23.966928Z",
     "iopub.status.idle": "2024-07-10T05:02:24.131541Z",
     "shell.execute_reply": "2024-07-10T05:02:24.130731Z",
     "shell.execute_reply.started": "2024-07-10T05:02:23.967534Z"
    }
   },
   "outputs": [
    {
     "ename": "NameError",
     "evalue": "name 'pipeline' is not defined",
     "output_type": "error",
     "traceback": [
      "\u001b[0;31m---------------------------------------------------------------------------\u001b[0m",
      "\u001b[0;31mNameError\u001b[0m                                 Traceback (most recent call last)",
      "Cell \u001b[0;32mIn[6], line 2\u001b[0m\n\u001b[1;32m      1\u001b[0m \u001b[38;5;66;03m# Summarization\u001b[39;00m\n\u001b[0;32m----> 2\u001b[0m summarizer \u001b[38;5;241m=\u001b[39m \u001b[43mpipeline\u001b[49m(\u001b[38;5;124m'\u001b[39m\u001b[38;5;124msummarization\u001b[39m\u001b[38;5;124m'\u001b[39m)\n\u001b[1;32m      3\u001b[0m \u001b[38;5;28;01mdef\u001b[39;00m \u001b[38;5;21msummarize_text\u001b[39m(texts):\n\u001b[1;32m      4\u001b[0m     combined_text \u001b[38;5;241m=\u001b[39m \u001b[38;5;124m\"\u001b[39m\u001b[38;5;124m \u001b[39m\u001b[38;5;124m\"\u001b[39m\u001b[38;5;241m.\u001b[39mjoin(texts)\n",
      "\u001b[0;31mNameError\u001b[0m: name 'pipeline' is not defined"
     ]
    }
   ],
   "source": [
    "\n",
    "\n",
    "# Summarization\n",
    "summarizer = pipeline('summarization')\n",
    "def summarize_text(texts):\n",
    "    combined_text = \" \".join(texts)\n",
    "    summary = summarizer(combined_text, max_length=50, min_length=25, do_sample=False)\n",
    "    return summary[0]['summary_text']\n",
    "\n",
    "data['summary'] = data.groupby('cluster')['candidate_values'].transform(lambda x: summarize_text(x.tolist()))\n",
    "\n",
    "# Save the result\n",
    "data.to_csv('/mnt/data/merged_user_persona_dimensions.csv', index=False)\n"
   ]
  }
 ],
 "metadata": {
  "kernelspec": {
   "display_name": "Python (pump)",
   "language": "python",
   "name": "pump"
  },
  "language_info": {
   "codemirror_mode": {
    "name": "ipython",
    "version": 3
   },
   "file_extension": ".py",
   "mimetype": "text/x-python",
   "name": "python",
   "nbconvert_exporter": "python",
   "pygments_lexer": "ipython3",
   "version": "3.10.14"
  }
 },
 "nbformat": 4,
 "nbformat_minor": 5
}
