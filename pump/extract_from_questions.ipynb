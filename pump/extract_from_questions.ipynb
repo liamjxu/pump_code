{
 "cells": [
  {
   "cell_type": "code",
   "execution_count": 1,
   "id": "d94af237-b409-41ab-bb28-79bda0235a3d",
   "metadata": {
    "execution": {
     "iopub.execute_input": "2024-07-10T06:19:34.966001Z",
     "iopub.status.busy": "2024-07-10T06:19:34.965643Z",
     "iopub.status.idle": "2024-07-10T06:19:37.483468Z",
     "shell.execute_reply": "2024-07-10T06:19:37.482725Z",
     "shell.execute_reply.started": "2024-07-10T06:19:34.965979Z"
    }
   },
   "outputs": [
    {
     "data": {
      "text/plain": [
       "'Hello!'"
      ]
     },
     "execution_count": 1,
     "metadata": {},
     "output_type": "execute_result"
    }
   ],
   "source": [
    "import json\n",
    "import numpy as np\n",
    "import pandas as pd\n",
    "from utils import get_llm_response, get_file, get_topics, list_s3\n",
    "from tqdm import tqdm\n",
    "from typing import Optional\n",
    "from dataclasses import dataclass\n",
    "\n",
    "\n",
    "@dataclass\n",
    "class PersonaDimension:\n",
    "    name: str  # a concise name of the persona aspect\n",
    "    description: str  # a detailed description of the persona aspect\n",
    "    level: str  # the abstractness level of this persona dimension\n",
    "    candidate_values: Optional[str]  # the candidate values of this persona dimension\n",
    "\n",
    "\n",
    "get_llm_response('hi')"
   ]
  },
  {
   "cell_type": "code",
   "execution_count": 2,
   "id": "c170c431",
   "metadata": {
    "execution": {
     "iopub.execute_input": "2024-07-10T06:19:37.484592Z",
     "iopub.status.busy": "2024-07-10T06:19:37.484325Z",
     "iopub.status.idle": "2024-07-10T06:19:37.620010Z",
     "shell.execute_reply": "2024-07-10T06:19:37.619385Z",
     "shell.execute_reply.started": "2024-07-10T06:19:37.484571Z"
    },
    "scrolled": true
   },
   "outputs": [],
   "source": [
    "mapping = np.load(get_file('human_resp/topic_mapping.npy'), allow_pickle=True)\n",
    "mapping = mapping.item()"
   ]
  },
  {
   "cell_type": "code",
   "execution_count": 3,
   "id": "28bfbf41-f9f1-4306-80d2-79f0e94eb8a7",
   "metadata": {
    "execution": {
     "iopub.execute_input": "2024-07-10T06:19:37.621156Z",
     "iopub.status.busy": "2024-07-10T06:19:37.620818Z",
     "iopub.status.idle": "2024-07-10T06:19:37.651856Z",
     "shell.execute_reply": "2024-07-10T06:19:37.651178Z",
     "shell.execute_reply.started": "2024-07-10T06:19:37.621134Z"
    }
   },
   "outputs": [
    {
     "data": {
      "text/plain": [
       "['American_Trends_Panel_W26',\n",
       " 'American_Trends_Panel_W27',\n",
       " 'American_Trends_Panel_W29',\n",
       " 'American_Trends_Panel_W32',\n",
       " 'American_Trends_Panel_W34',\n",
       " 'American_Trends_Panel_W36',\n",
       " 'American_Trends_Panel_W41',\n",
       " 'American_Trends_Panel_W42',\n",
       " 'American_Trends_Panel_W43',\n",
       " 'American_Trends_Panel_W45',\n",
       " 'American_Trends_Panel_W49',\n",
       " 'American_Trends_Panel_W50',\n",
       " 'American_Trends_Panel_W54',\n",
       " 'American_Trends_Panel_W82',\n",
       " 'American_Trends_Panel_W92']"
      ]
     },
     "execution_count": 3,
     "metadata": {},
     "output_type": "execute_result"
    }
   ],
   "source": [
    "surveys = set()\n",
    "for path in list_s3(\"human_resp/\"):\n",
    "    if path.startswith(\"human_resp/American_Trends_Panel\"):\n",
    "        # Extract the folder name\n",
    "        folder = path.split(\"/\")[1]\n",
    "        surveys.add(folder)\n",
    "surveys = sorted(list(surveys))\n",
    "surveys"
   ]
  },
  {
   "cell_type": "code",
   "execution_count": null,
   "id": "d7b4a2fc",
   "metadata": {},
   "outputs": [],
   "source": []
  },
  {
   "cell_type": "code",
   "execution_count": 4,
   "id": "457c9ba6-1399-4353-9415-7f5fedb49b39",
   "metadata": {
    "execution": {
     "iopub.execute_input": "2024-07-10T06:19:37.653109Z",
     "iopub.status.busy": "2024-07-10T06:19:37.652895Z",
     "iopub.status.idle": "2024-07-10T06:19:37.659731Z",
     "shell.execute_reply": "2024-07-10T06:19:37.659116Z",
     "shell.execute_reply.started": "2024-07-10T06:19:37.653089Z"
    }
   },
   "outputs": [],
   "source": [
    "def get_personas_from_survey(info_df, survey):\n",
    "    with open('prompts/get_personas_from_questions_simple.txt') as f:\n",
    "        prompt_template = f.read()\n",
    "\n",
    "    res = []\n",
    "    logs = {}\n",
    "    valid_cnt = 0\n",
    "    for idx, row in tqdm(info_df.iterrows(), total=len(info_df)):\n",
    "        topics = get_topics(mapping, row['question'])\n",
    "        input_dict = {\n",
    "            \"topic_fg\": topics['fg'],\n",
    "            \"topic_cg\": topics['cg'],\n",
    "            \"question\": row['question'],\n",
    "            \"options\": row['references'],\n",
    "        }\n",
    "        prompt = prompt_template.format(**input_dict)\n",
    "        response = get_llm_response(prompt, model_id='anthropic.claude-3-haiku-20240307-v1:0', prefill='[')\n",
    "        response = '[' + response\n",
    "        valid = None\n",
    "        error_msg = None\n",
    "        try:\n",
    "            eval(response)\n",
    "            valid = True\n",
    "            valid_cnt += 1\n",
    "        except Exception as e:\n",
    "            print(e)\n",
    "            valid = False\n",
    "            error_msg = str(e)\n",
    "\n",
    "        res.append({\n",
    "            'valid': valid,\n",
    "            'error_msg': error_msg,\n",
    "            'input_dict': str(input_dict),\n",
    "            'response': response,\n",
    "        })\n",
    "\n",
    "        logs['res_len'] = len(res)\n",
    "        logs['valid_ratio'] = valid_cnt /  len(res)\n",
    "\n",
    "        with open(f'outputs_simple/personas_extracted_from_question_{survey}.json', 'w') as f:\n",
    "            json.dump(res, f, indent=4)\n",
    "        with open(f'outputs_simple/logs_{survey}.json', 'w') as f:\n",
    "            json.dump(logs, f, indent=4)\n",
    "\n",
    "    print(survey)\n",
    "    print(logs)"
   ]
  },
  {
   "cell_type": "code",
   "execution_count": 5,
   "id": "90c0130f-6443-4271-a9d8-3eff3550d48e",
   "metadata": {
    "execution": {
     "iopub.execute_input": "2024-07-10T06:19:37.660863Z",
     "iopub.status.busy": "2024-07-10T06:19:37.660679Z",
     "iopub.status.idle": "2024-07-10T06:25:26.963085Z",
     "shell.execute_reply": "2024-07-10T06:25:26.962485Z",
     "shell.execute_reply.started": "2024-07-10T06:19:37.660844Z"
    }
   },
   "outputs": [
    {
     "name": "stderr",
     "output_type": "stream",
     "text": [
      "100%|██████████| 78/78 [05:49<00:00,  4.48s/it]"
     ]
    },
    {
     "name": "stdout",
     "output_type": "stream",
     "text": [
      "American_Trends_Panel_W26\n",
      "{'res_len': 78, 'valid_ratio': 1.0}\n"
     ]
    },
    {
     "name": "stderr",
     "output_type": "stream",
     "text": [
      "\n"
     ]
    }
   ],
   "source": [
    "for survey in surveys[:1]:\n",
    "    # survey = \"American_Trends_Panel_W26\"\n",
    "    file_key = f\"human_resp/{survey}/info.csv\"\n",
    "    info_df = pd.read_csv(get_file(file_key))\n",
    "    get_personas_from_survey(info_df, survey)\n"
   ]
  },
  {
   "cell_type": "code",
   "execution_count": null,
   "id": "ee58acd1-92d0-4769-8f61-5e97e54cac30",
   "metadata": {},
   "outputs": [],
   "source": []
  }
 ],
 "metadata": {
  "kernelspec": {
   "display_name": "Python (pump)",
   "language": "python",
   "name": "pump"
  },
  "language_info": {
   "codemirror_mode": {
    "name": "ipython",
    "version": 3
   },
   "file_extension": ".py",
   "mimetype": "text/x-python",
   "name": "python",
   "nbconvert_exporter": "python",
   "pygments_lexer": "ipython3",
   "version": "3.10.14"
  }
 },
 "nbformat": 4,
 "nbformat_minor": 5
}
