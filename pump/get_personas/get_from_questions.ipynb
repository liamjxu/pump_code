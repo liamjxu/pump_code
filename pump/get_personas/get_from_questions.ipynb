{
 "cells": [
  {
   "cell_type": "code",
   "execution_count": null,
   "metadata": {},
   "outputs": [],
   "source": [
    "import boto3\n",
    "import json\n",
    "\n",
    "brt = boto3.client(service_name='bedrock-runtime')\n",
    "\n",
    "def get_claude(input_text):\n",
    "    body = json.dumps({\n",
    "        \"anthropic_version\": \"bedrock-2023-05-31\",\n",
    "        \"max_tokens\": 1000,\n",
    "        \"temperature\": 0,\n",
    "        \"messages\": [\n",
    "            {\n",
    "                \"role\": \"user\",\n",
    "                \"content\": [\n",
    "                    {\n",
    "                        \"type\": \"text\",\n",
    "                        \"text\": input_text,\n",
    "                    }\n",
    "                ]\n",
    "            }\n",
    "        ]\n",
    "    })\n",
    "\n",
    "    inputs = {\n",
    "        \"modelId\": \"anthropic.claude-3-sonnet-20240229-v1:0\",\n",
    "        \"contentType\": \"application/json\",\n",
    "        \"accept\": \"application/json\",\n",
    "        \"body\": body\n",
    "    }\n",
    "\n",
    "    response = brt.invoke_model(**inputs)\n",
    "\n",
    "    response_body = json.loads(response.get('body').read())\n",
    "\n",
    "    # text\n",
    "    output = response_body.get('content')[0]['text']\n",
    "    return output"
   ]
  }
 ],
 "metadata": {
  "language_info": {
   "name": "python"
  }
 },
 "nbformat": 4,
 "nbformat_minor": 2
}
