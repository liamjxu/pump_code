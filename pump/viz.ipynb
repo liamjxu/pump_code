{
 "cells": [
  {
   "cell_type": "code",
   "execution_count": 14,
   "id": "e366a78b-7c13-4aaf-9865-4ed3c3f5435d",
   "metadata": {
    "execution": {
     "iopub.execute_input": "2024-07-10T06:25:43.812863Z",
     "iopub.status.busy": "2024-07-10T06:25:43.812594Z",
     "iopub.status.idle": "2024-07-10T06:25:43.817680Z",
     "shell.execute_reply": "2024-07-10T06:25:43.817042Z",
     "shell.execute_reply.started": "2024-07-10T06:25:43.812841Z"
    }
   },
   "outputs": [],
   "source": [
    "import json\n",
    "import pandas as pd\n",
    "from typing import Optional\n",
    "from dataclasses import dataclass, asdict\n",
    "from collections import Counter\n",
    "\n",
    "@dataclass\n",
    "class PersonaDimension:\n",
    "    name: str  # a concise name of the persona aspect\n",
    "    description: str  # a detailed description of the persona aspect\n",
    "    level: str  # the abstractness level of this persona dimension\n",
    "    candidate_values: Optional[str]  # the candidate values of this persona dimension"
   ]
  },
  {
   "cell_type": "code",
   "execution_count": 39,
   "id": "420bb33c-bc4e-4063-a085-31fa8ad77f86",
   "metadata": {
    "execution": {
     "iopub.execute_input": "2024-07-10T06:56:02.518394Z",
     "iopub.status.busy": "2024-07-10T06:56:02.517959Z",
     "iopub.status.idle": "2024-07-10T06:56:02.523530Z",
     "shell.execute_reply": "2024-07-10T06:56:02.522972Z",
     "shell.execute_reply.started": "2024-07-10T06:56:02.518370Z"
    }
   },
   "outputs": [],
   "source": [
    "def get_persona_df(exp_name):\n",
    "    if exp_name == 'low':\n",
    "        personas_from_questions_filename = 'outputs/personas_extracted_from_question_American_Trends_Panel_W26.json'\n",
    "    elif exp_name == 'low_simple':\n",
    "        personas_from_questions_filename = 'outputs_simple/personas_extracted_from_question_American_Trends_Panel_W26.json'\n",
    "    \n",
    "    with open(personas_from_questions_filename, 'r') as f:\n",
    "        data = json.load(f)\n",
    "    \n",
    "    # print(asdict(eval(data[0]['response'])[0]))\n",
    "    # valid_entries = [entry for entry in data if entry['valid']]\n",
    "    # df = pd.DataFrame([asdict(persona_dim) for entry in valid_entries for persona_dim in eval(entry['response'])])\n",
    "    res = []\n",
    "    for entry in data:\n",
    "        if not entry['valid']: continue\n",
    "        for persona_dim in eval(entry['response']):\n",
    "            entry_dict = asdict(persona_dim)\n",
    "            input_dict = eval(entry['input_dict'])\n",
    "            entry_dict['original_question'] = input_dict['question'] + ' ' + input_dict['options']\n",
    "            res.append(entry_dict)\n",
    "    df = pd.DataFrame(res)\n",
    "\n",
    "    df[df['level'] == 'low'].to_csv(f'{exp_name}.csv')\n",
    "    print(Counter(df['level']))\n"
   ]
  },
  {
   "cell_type": "code",
   "execution_count": 40,
   "id": "80980f8c-d0c7-4d7b-b147-267e98cc0d15",
   "metadata": {
    "execution": {
     "iopub.execute_input": "2024-07-10T06:56:03.072133Z",
     "iopub.status.busy": "2024-07-10T06:56:03.071930Z",
     "iopub.status.idle": "2024-07-10T06:56:03.112431Z",
     "shell.execute_reply": "2024-07-10T06:56:03.111877Z",
     "shell.execute_reply.started": "2024-07-10T06:56:03.072112Z"
    }
   },
   "outputs": [
    {
     "name": "stdout",
     "output_type": "stream",
     "text": [
      "Counter({'mid': 229, 'high': 221, 'low': 209})\n"
     ]
    }
   ],
   "source": [
    "get_persona_df('low')"
   ]
  },
  {
   "cell_type": "code",
   "execution_count": 41,
   "id": "344095cf-7433-44c1-abce-514a60d50a29",
   "metadata": {
    "execution": {
     "iopub.execute_input": "2024-07-10T06:56:03.205143Z",
     "iopub.status.busy": "2024-07-10T06:56:03.204829Z",
     "iopub.status.idle": "2024-07-10T06:56:03.232962Z",
     "shell.execute_reply": "2024-07-10T06:56:03.232407Z",
     "shell.execute_reply.started": "2024-07-10T06:56:03.205122Z"
    }
   },
   "outputs": [
    {
     "name": "stdout",
     "output_type": "stream",
     "text": [
      "Counter({'mid': 236, 'high': 119, 'low': 118})\n"
     ]
    }
   ],
   "source": [
    "get_persona_df('low_simple')"
   ]
  },
  {
   "cell_type": "code",
   "execution_count": null,
   "id": "7898e4fb-5406-4a4f-aa8e-4efab326e50e",
   "metadata": {},
   "outputs": [],
   "source": []
  }
 ],
 "metadata": {
  "kernelspec": {
   "display_name": "Python (pump)",
   "language": "python",
   "name": "pump"
  },
  "language_info": {
   "codemirror_mode": {
    "name": "ipython",
    "version": 3
   },
   "file_extension": ".py",
   "mimetype": "text/x-python",
   "name": "python",
   "nbconvert_exporter": "python",
   "pygments_lexer": "ipython3",
   "version": "3.10.14"
  }
 },
 "nbformat": 4,
 "nbformat_minor": 5
}
