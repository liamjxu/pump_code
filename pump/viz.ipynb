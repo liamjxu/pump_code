{
 "cells": [
  {
   "cell_type": "code",
   "execution_count": 6,
   "id": "e366a78b-7c13-4aaf-9865-4ed3c3f5435d",
   "metadata": {},
   "outputs": [],
   "source": [
    "import json\n",
    "import pandas as pd\n",
    "from typing import Optional\n",
    "from dataclasses import dataclass, asdict\n",
    "from collections import Counter\n",
    "\n",
    "@dataclass\n",
    "class PersonaDimension:\n",
    "    name: str  # a concise name of the persona aspect\n",
    "    description: str  # a detailed description of the persona aspect\n",
    "    level: str  # the abstractness level of this persona dimension\n",
    "    candidate_values: Optional[str]  # the candidate values of this persona dimension"
   ]
  },
  {
   "cell_type": "code",
   "execution_count": 2,
   "id": "8e2557de-c3ba-47d8-80c9-d093ae863238",
   "metadata": {},
   "outputs": [],
   "source": [
    "with open('outputs/personas_extracted_from_question_American_Trends_Panel_W26.json', 'r') as f:\n",
    "    data = json.load(f)"
   ]
  },
  {
   "cell_type": "code",
   "execution_count": 3,
   "id": "ea0f49f2-0c08-4ae0-a1c3-7f1d0433c5d0",
   "metadata": {},
   "outputs": [
    {
     "data": {
      "text/plain": [
       "{'name': 'Geographic Location',\n",
       " 'description': 'the specific area or neighborhood where the person lives and their perception of its safety from crime',\n",
       " 'level': 'low',\n",
       " 'candidate_values': ['high-crime area', 'low-crime area']}"
      ]
     },
     "execution_count": 3,
     "metadata": {},
     "output_type": "execute_result"
    }
   ],
   "source": [
    "asdict(eval(data[0]['response'])[0])"
   ]
  },
  {
   "cell_type": "code",
   "execution_count": 4,
   "id": "82690010-e3e3-4b3f-b0bc-cd9b53615124",
   "metadata": {},
   "outputs": [
    {
     "data": {
      "text/html": [
       "<div>\n",
       "<style scoped>\n",
       "    .dataframe tbody tr th:only-of-type {\n",
       "        vertical-align: middle;\n",
       "    }\n",
       "\n",
       "    .dataframe tbody tr th {\n",
       "        vertical-align: top;\n",
       "    }\n",
       "\n",
       "    .dataframe thead th {\n",
       "        text-align: right;\n",
       "    }\n",
       "</style>\n",
       "<table border=\"1\" class=\"dataframe\">\n",
       "  <thead>\n",
       "    <tr style=\"text-align: right;\">\n",
       "      <th></th>\n",
       "      <th>name</th>\n",
       "      <th>description</th>\n",
       "      <th>level</th>\n",
       "      <th>candidate_values</th>\n",
       "    </tr>\n",
       "  </thead>\n",
       "  <tbody>\n",
       "    <tr>\n",
       "      <th>0</th>\n",
       "      <td>Geographic Location</td>\n",
       "      <td>the specific area or neighborhood where the pe...</td>\n",
       "      <td>low</td>\n",
       "      <td>[high-crime area, low-crime area]</td>\n",
       "    </tr>\n",
       "    <tr>\n",
       "      <th>1</th>\n",
       "      <td>Personal Experiences</td>\n",
       "      <td>the person's past experiences with crime or sa...</td>\n",
       "      <td>low</td>\n",
       "      <td>[experienced crime, not experienced crime]</td>\n",
       "    </tr>\n",
       "    <tr>\n",
       "      <th>2</th>\n",
       "      <td>Risk Perception and Assessment</td>\n",
       "      <td>how the person evaluates the likelihood and po...</td>\n",
       "      <td>mid</td>\n",
       "      <td>[high perception of risk, low perception of risk]</td>\n",
       "    </tr>\n",
       "    <tr>\n",
       "      <th>3</th>\n",
       "      <td>Emotional State</td>\n",
       "      <td>the person's feelings of safety, fear, or conc...</td>\n",
       "      <td>mid</td>\n",
       "      <td>[high anxiety, low anxiety]</td>\n",
       "    </tr>\n",
       "    <tr>\n",
       "      <th>4</th>\n",
       "      <td>Community Engagement</td>\n",
       "      <td>the person's level of involvement and connecti...</td>\n",
       "      <td>low</td>\n",
       "      <td>[highly engaged, not engaged]</td>\n",
       "    </tr>\n",
       "    <tr>\n",
       "      <th>...</th>\n",
       "      <td>...</td>\n",
       "      <td>...</td>\n",
       "      <td>...</td>\n",
       "      <td>...</td>\n",
       "    </tr>\n",
       "    <tr>\n",
       "      <th>665</th>\n",
       "      <td>Attitudes Towards Guns</td>\n",
       "      <td>beliefs and opinions about the role of guns in...</td>\n",
       "      <td>mid</td>\n",
       "      <td>[pro-gun, anti-gun, neutral]</td>\n",
       "    </tr>\n",
       "    <tr>\n",
       "      <th>666</th>\n",
       "      <td>Risk Perception</td>\n",
       "      <td>perceived risks and benefits associated with g...</td>\n",
       "      <td>mid</td>\n",
       "      <td>[high risk perception, low risk perception]</td>\n",
       "    </tr>\n",
       "    <tr>\n",
       "      <th>667</th>\n",
       "      <td>Personal Values</td>\n",
       "      <td>prioritization of personal freedom, safety, or...</td>\n",
       "      <td>high</td>\n",
       "      <td>[prioritizes personal freedom, prioritizes pub...</td>\n",
       "    </tr>\n",
       "    <tr>\n",
       "      <th>668</th>\n",
       "      <td>Worldview and Belief System</td>\n",
       "      <td>broader ideological and political views that i...</td>\n",
       "      <td>high</td>\n",
       "      <td>[conservative, liberal, moderate]</td>\n",
       "    </tr>\n",
       "    <tr>\n",
       "      <th>669</th>\n",
       "      <td>Civic Engagement</td>\n",
       "      <td>level of involvement in gun-related political ...</td>\n",
       "      <td>mid</td>\n",
       "      <td>[highly engaged, minimally engaged]</td>\n",
       "    </tr>\n",
       "  </tbody>\n",
       "</table>\n",
       "<p>670 rows × 4 columns</p>\n",
       "</div>"
      ],
      "text/plain": [
       "                               name  \\\n",
       "0               Geographic Location   \n",
       "1              Personal Experiences   \n",
       "2    Risk Perception and Assessment   \n",
       "3                   Emotional State   \n",
       "4              Community Engagement   \n",
       "..                              ...   \n",
       "665          Attitudes Towards Guns   \n",
       "666                 Risk Perception   \n",
       "667                 Personal Values   \n",
       "668     Worldview and Belief System   \n",
       "669                Civic Engagement   \n",
       "\n",
       "                                           description level  \\\n",
       "0    the specific area or neighborhood where the pe...   low   \n",
       "1    the person's past experiences with crime or sa...   low   \n",
       "2    how the person evaluates the likelihood and po...   mid   \n",
       "3    the person's feelings of safety, fear, or conc...   mid   \n",
       "4    the person's level of involvement and connecti...   low   \n",
       "..                                                 ...   ...   \n",
       "665  beliefs and opinions about the role of guns in...   mid   \n",
       "666  perceived risks and benefits associated with g...   mid   \n",
       "667  prioritization of personal freedom, safety, or...  high   \n",
       "668  broader ideological and political views that i...  high   \n",
       "669  level of involvement in gun-related political ...   mid   \n",
       "\n",
       "                                      candidate_values  \n",
       "0                    [high-crime area, low-crime area]  \n",
       "1           [experienced crime, not experienced crime]  \n",
       "2    [high perception of risk, low perception of risk]  \n",
       "3                          [high anxiety, low anxiety]  \n",
       "4                        [highly engaged, not engaged]  \n",
       "..                                                 ...  \n",
       "665                       [pro-gun, anti-gun, neutral]  \n",
       "666        [high risk perception, low risk perception]  \n",
       "667  [prioritizes personal freedom, prioritizes pub...  \n",
       "668                  [conservative, liberal, moderate]  \n",
       "669                [highly engaged, minimally engaged]  \n",
       "\n",
       "[670 rows x 4 columns]"
      ]
     },
     "execution_count": 4,
     "metadata": {},
     "output_type": "execute_result"
    }
   ],
   "source": [
    "valid_entries = [entry for entry in data if entry['valid']]\n",
    "\n",
    "df = pd.DataFrame([asdict(persona_dim) for entry in valid_entries for persona_dim in eval(entry['response'])])\n",
    "\n",
    "df"
   ]
  },
  {
   "cell_type": "code",
   "execution_count": 7,
   "id": "9294043b-058e-430b-8c71-91b748f852af",
   "metadata": {},
   "outputs": [
    {
     "data": {
      "text/plain": [
       "Counter({'mid': 233, 'high': 219, 'low': 218})"
      ]
     },
     "execution_count": 7,
     "metadata": {},
     "output_type": "execute_result"
    }
   ],
   "source": [
    "Counter(df['level'])"
   ]
  },
  {
   "cell_type": "code",
   "execution_count": 8,
   "id": "80980f8c-d0c7-4d7b-b147-267e98cc0d15",
   "metadata": {},
   "outputs": [],
   "source": [
    "df[df['level'] == 'low'].to_csv('low.csv')"
   ]
  },
  {
   "cell_type": "code",
   "execution_count": null,
   "id": "344095cf-7433-44c1-abce-514a60d50a29",
   "metadata": {},
   "outputs": [],
   "source": []
  },
  {
   "cell_type": "code",
   "execution_count": null,
   "id": "7898e4fb-5406-4a4f-aa8e-4efab326e50e",
   "metadata": {},
   "outputs": [],
   "source": []
  }
 ],
 "metadata": {
  "kernelspec": {
   "display_name": "Python (pump)",
   "language": "python",
   "name": "pump"
  },
  "language_info": {
   "codemirror_mode": {
    "name": "ipython",
    "version": 3
   },
   "file_extension": ".py",
   "mimetype": "text/x-python",
   "name": "python",
   "nbconvert_exporter": "python",
   "pygments_lexer": "ipython3",
   "version": "3.10.14"
  }
 },
 "nbformat": 4,
 "nbformat_minor": 5
}
