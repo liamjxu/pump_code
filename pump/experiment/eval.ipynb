{
 "cells": [
  {
   "cell_type": "code",
   "execution_count": 19,
   "metadata": {},
   "outputs": [],
   "source": [
    "import os\n",
    "os.chdir('/home/ubuntu/code/pump_post_midterm/pump')"
   ]
  },
  {
   "cell_type": "code",
   "execution_count": 20,
   "metadata": {},
   "outputs": [
    {
     "name": "stdout",
     "output_type": "stream",
     "text": [
      "['NEIGHINTERB_W32', 'SATLIFEC_W32', 'SUCCESSIMPA_W32', 'COMMIMPE_W32', 'GROWUPUSR_W32']\n"
     ]
    }
   ],
   "source": [
    "# Get test_q_keys\n",
    "import random\n",
    "import pandas as pd\n",
    "from src.utils import get_file_from_s3\n",
    "\n",
    "survey_name = \"American_Trends_Panel_W32\"\n",
    "random.seed(42)\n",
    "survey_df = pd.read_csv(get_file_from_s3(f\"human_resp/{survey_name}/info.csv\"))\n",
    "q_keys = list(survey_df['key'])\n",
    "test_q_keys = random.choices(q_keys, k=5)\n",
    "\n",
    "print(test_q_keys)"
   ]
  },
  {
   "cell_type": "markdown",
   "metadata": {},
   "source": [
    "# Hyper parameters"
   ]
  },
  {
   "cell_type": "code",
   "execution_count": 21,
   "metadata": {},
   "outputs": [],
   "source": [
    "import random\n",
    "random.seed(42)\n",
    "\n",
    "\n",
    "survey_name = \"American_Trends_Panel_W32\"\n",
    "\n",
    "\n",
    "test_q_keys_mapping = {\n",
    "    \"American_Trends_Panel_W26\": ['GUNRESPNOKIDSB_W26', 'WORLDDANGER_W26', 'GUNIDENTITY_W26', 'REASONGUNC_W26', 'GUNRESPKIDSC_W26'],\n",
    "    \"American_Trends_Panel_W27\": ['CAREGIV3A_W27', 'PREDICTA_W27', 'WORK3C_W27', 'CARS10D_W27', 'CAREGIV7_W27'],\n",
    "    \"American_Trends_Panel_W32\": ['NEIGHINTERB_W32', 'SATLIFEC_W32', 'SUCCESSIMPA_W32', 'COMMIMPE_W32', 'GROWUPUSR_W32']\n",
    "}\n",
    "viz_filename = f\"date0826_v10post_midterm_{survey_name}_history_run1.json\""
   ]
  },
  {
   "cell_type": "markdown",
   "metadata": {},
   "source": [
    "# Get Accuracy"
   ]
  },
  {
   "cell_type": "code",
   "execution_count": 22,
   "metadata": {},
   "outputs": [
    {
     "data": {
      "text/html": [
       "<div>\n",
       "<style scoped>\n",
       "    .dataframe tbody tr th:only-of-type {\n",
       "        vertical-align: middle;\n",
       "    }\n",
       "\n",
       "    .dataframe tbody tr th {\n",
       "        vertical-align: top;\n",
       "    }\n",
       "\n",
       "    .dataframe thead th {\n",
       "        text-align: right;\n",
       "    }\n",
       "</style>\n",
       "<table border=\"1\" class=\"dataframe\">\n",
       "  <thead>\n",
       "    <tr style=\"text-align: right;\">\n",
       "      <th></th>\n",
       "      <th>acc_cnt</th>\n",
       "      <th>acc</th>\n",
       "    </tr>\n",
       "  </thead>\n",
       "  <tbody>\n",
       "    <tr>\n",
       "      <th>history_demo_persona_run1</th>\n",
       "      <td>=261/595</td>\n",
       "      <td>0.438655</td>\n",
       "    </tr>\n",
       "  </tbody>\n",
       "</table>\n",
       "</div>"
      ],
      "text/plain": [
       "                            acc_cnt       acc\n",
       "history_demo_persona_run1  =261/595  0.438655"
      ]
     },
     "execution_count": 22,
     "metadata": {},
     "output_type": "execute_result"
    }
   ],
   "source": [
    "import json\n",
    "import os\n",
    "import pandas as pd\n",
    "import numpy as np\n",
    "\n",
    "res = {}\n",
    "for filename in os.listdir(f'opinions_qa/output/{survey_name}/'):\n",
    "    if any(_ not in filename for _ in ['v10']):\n",
    "        continue\n",
    "    # if any(_ in filename for _ in ['fix']):\n",
    "    #     continue\n",
    "    exp = filename[len(f\"date0826_v10post_midterm_{survey_name}_\"):-len('.json')]\n",
    "    if exp not in res:\n",
    "        res[exp] = []\n",
    "        \n",
    "    with open(f\"opinions_qa/output/{survey_name}/{filename}\", 'r') as f:\n",
    "        data = json.load(f)\n",
    "    # res[exp] += [f\"={sum([_['is_correct'] for _ in data])}/{len(data)}\", f\"{sum([_['is_correct'] for _ in data])/len(data):.4f}\"]\n",
    "    res[exp] += [f\"={sum([_['is_correct'] for _ in data])}/{len(data)}\", sum([_['is_correct'] for _ in data])/len(data)]\n",
    "\n",
    "df = pd.DataFrame(res)\n",
    "df = df[sorted(df.columns)]\n",
    "df = df.transpose()\n",
    "\n",
    "# df['acc_avg'] = df.apply(lambda x: np.mean(x[[1,3,5]]), axis=1)\n",
    "# df['acc_var'] = df.apply(lambda x: np.var(x[[1,3,5]]), axis=1)\n",
    "# df['acc_std'] = df.apply(lambda x: np.std(x[[1,3,5]]), axis=1)\n",
    "# df['acc_avg%'] = df.apply(lambda x: f\"{100*x['acc_avg']:.2f}%\", axis=1)\n",
    "# df['acc_std%'] = df.apply(lambda x: f\"{100*np.std(x[[1,3,5]]):.2f}%\", axis=1)\n",
    "\n",
    "acc_df = df\n",
    "acc_df = acc_df.rename(columns={0: \"acc_cnt\", 1: \"acc\"})\n",
    "acc_df"
   ]
  },
  {
   "cell_type": "code",
   "execution_count": null,
   "metadata": {},
   "outputs": [],
   "source": []
  },
  {
   "cell_type": "code",
   "execution_count": null,
   "metadata": {},
   "outputs": [],
   "source": []
  },
  {
   "cell_type": "code",
   "execution_count": null,
   "metadata": {},
   "outputs": [],
   "source": []
  },
  {
   "cell_type": "markdown",
   "metadata": {},
   "source": [
    "# Get 1-WD"
   ]
  },
  {
   "cell_type": "code",
   "execution_count": 23,
   "metadata": {},
   "outputs": [
    {
     "data": {
      "text/plain": [
       "{'SATLIFEC_W32': {'Very satisfied': 1.0,\n",
       "  'Somewhat satisfied': 2.0,\n",
       "  'Somewhat dissatisfied': 3.0,\n",
       "  'Very dissatisfied': 4.0},\n",
       " 'COMMIMPE_W32': {'Very important': 1.0,\n",
       "  'Somewhat important': 2.0,\n",
       "  'Not too important': 3.0,\n",
       "  'Not at all important': 4.0},\n",
       " 'SUCCESSIMPA_W32': {'Essential': 1.0,\n",
       "  'Important but not essential': 2.0,\n",
       "  'Not important': 3.0},\n",
       " 'NEIGHINTERB_W32': {'Every day': 1.0,\n",
       "  'Several times a week': 2.0,\n",
       "  'About once a week': 3.0,\n",
       "  'About once a month': 4.0,\n",
       "  'Less than once a month': 5.0,\n",
       "  'Never': 6.0},\n",
       " 'GROWUPUSR_W32': {'Urban': 1.0, 'Suburban': 2.0, 'Rural': 3.0}}"
      ]
     },
     "execution_count": 23,
     "metadata": {},
     "output_type": "execute_result"
    }
   ],
   "source": [
    "import pandas as pd\n",
    "from src.utils import get_file_from_s3\n",
    "\n",
    "test_q_keys = test_q_keys_mapping[survey_name]\n",
    "survey_df = pd.read_csv(get_file_from_s3(f\"human_resp/{survey_name}/info.csv\"))\n",
    "sub_df = survey_df[survey_df['key'].isin(test_q_keys)]\n",
    "\n",
    "wd_question_mappings = {row['key']: dict(zip(eval(row['references']), eval(row['option_ordinal']))) for _, row in sub_df.iterrows()}\n",
    "wd_question_mappings"
   ]
  },
  {
   "cell_type": "markdown",
   "metadata": {},
   "source": [
    "## Question level"
   ]
  },
  {
   "cell_type": "code",
   "execution_count": 24,
   "metadata": {},
   "outputs": [
    {
     "data": {
      "text/html": [
       "<div>\n",
       "<style scoped>\n",
       "    .dataframe tbody tr th:only-of-type {\n",
       "        vertical-align: middle;\n",
       "    }\n",
       "\n",
       "    .dataframe tbody tr th {\n",
       "        vertical-align: top;\n",
       "    }\n",
       "\n",
       "    .dataframe thead th {\n",
       "        text-align: right;\n",
       "    }\n",
       "</style>\n",
       "<table border=\"1\" class=\"dataframe\">\n",
       "  <thead>\n",
       "    <tr style=\"text-align: right;\">\n",
       "      <th></th>\n",
       "      <th>q_1wd_cnt</th>\n",
       "      <th>q_1wd</th>\n",
       "    </tr>\n",
       "  </thead>\n",
       "  <tbody>\n",
       "    <tr>\n",
       "      <th>history_demo_persona_run1</th>\n",
       "      <td>{1.0: 253, 0.0: 261, 3.0: 12, 4.0: 8, 2.0: 60}</td>\n",
       "      <td>0.742424</td>\n",
       "    </tr>\n",
       "  </tbody>\n",
       "</table>\n",
       "</div>"
      ],
      "text/plain": [
       "                                                                q_1wd_cnt  \\\n",
       "history_demo_persona_run1  {1.0: 253, 0.0: 261, 3.0: 12, 4.0: 8, 2.0: 60}   \n",
       "\n",
       "                              q_1wd  \n",
       "history_demo_persona_run1  0.742424  "
      ]
     },
     "execution_count": 24,
     "metadata": {},
     "output_type": "execute_result"
    }
   ],
   "source": [
    "import random\n",
    "from collections import Counter\n",
    "\n",
    "records = {}\n",
    "for filename in os.listdir(f'opinions_qa/output/{survey_name}/'):\n",
    "    if any(_ not in filename for _ in ['v10']): continue\n",
    "    with open(f\"opinions_qa/output/{survey_name}/{filename}\", 'r') as f:\n",
    "        data = json.load(f)\n",
    "    \n",
    "    exp = filename[len(f\"date0826_v10post_midterm_{survey_name}_\"):-len('.json')]\n",
    "\n",
    "    res = []\n",
    "    for entry in data:\n",
    "        q_idx = entry['q_idx']\n",
    "        q_key = test_q_keys[q_idx]\n",
    "        pos_mapping = wd_question_mappings[q_key]\n",
    "        prediction = entry['prediction']\n",
    "        gold_answer = entry['gold_answer']\n",
    "        if gold_answer not in pos_mapping: continue\n",
    "        if prediction not in pos_mapping:\n",
    "            prediction = random.choice(list(pos_mapping.keys()))\n",
    "        pred_pos = pos_mapping[prediction]\n",
    "        gold_pos = pos_mapping[gold_answer]\n",
    "        res.append(abs(pred_pos-gold_pos))\n",
    "    records[exp] = [Counter(res), np.mean(res)]\n",
    "\n",
    "q_wd_df = pd.DataFrame(records)\n",
    "q_wd_df = q_wd_df[sorted(q_wd_df.columns)].transpose()\n",
    "q_wd_df = q_wd_df.rename(columns={0: \"q_1wd_cnt\", 1: \"q_1wd\"})\n",
    "q_wd_df"
   ]
  },
  {
   "cell_type": "markdown",
   "metadata": {},
   "source": [
    "## Survey level"
   ]
  },
  {
   "cell_type": "code",
   "execution_count": 25,
   "metadata": {},
   "outputs": [
    {
     "data": {
      "text/html": [
       "<div>\n",
       "<style scoped>\n",
       "    .dataframe tbody tr th:only-of-type {\n",
       "        vertical-align: middle;\n",
       "    }\n",
       "\n",
       "    .dataframe tbody tr th {\n",
       "        vertical-align: top;\n",
       "    }\n",
       "\n",
       "    .dataframe thead th {\n",
       "        text-align: right;\n",
       "    }\n",
       "</style>\n",
       "<table border=\"1\" class=\"dataframe\">\n",
       "  <thead>\n",
       "    <tr style=\"text-align: right;\">\n",
       "      <th></th>\n",
       "      <th>s_1wd</th>\n",
       "    </tr>\n",
       "  </thead>\n",
       "  <tbody>\n",
       "    <tr>\n",
       "      <th>history_demo_persona_run1</th>\n",
       "      <td>41.652781</td>\n",
       "    </tr>\n",
       "  </tbody>\n",
       "</table>\n",
       "</div>"
      ],
      "text/plain": [
       "                               s_1wd\n",
       "history_demo_persona_run1  41.652781"
      ]
     },
     "execution_count": 25,
     "metadata": {},
     "output_type": "execute_result"
    }
   ],
   "source": [
    "import json\n",
    "import os\n",
    "import pandas as pd\n",
    "import matplotlib.pyplot as plt\n",
    "import numpy as np\n",
    "from scipy.stats import wasserstein_distance\n",
    "\n",
    "\n",
    "def get_1wd_from_df(df, ref_ord_mapping):\n",
    "    pred_df = df[df['Type'] == 'Prediction']\n",
    "    pred_dict = {row['Answer']: row['Count'] for idx, row in pred_df.iterrows() if row['Answer'] != 'Refused'}\n",
    "    gold_df = df[df['Type'] == 'Gold']\n",
    "    gold_dict = {row['Answer']: row['Count'] for idx, row in gold_df.iterrows() if row['Answer'] != 'Refused'}\n",
    "\n",
    "    pred_dict = {k: v for k, v in pred_dict.items() if k in ref_ord_mapping}\n",
    "\n",
    "    distribution_1 = pred_dict\n",
    "    distribution_2 = gold_dict\n",
    "\n",
    "    # Get the union of keys\n",
    "    all_keys = sorted(list(set(distribution_1.keys()).union(set(distribution_2.keys()))))\n",
    "\n",
    "    # Create aligned frequency arrays\n",
    "    freqs_1 = np.array([distribution_1.get(key, 0) for key in all_keys])\n",
    "    freqs_2 = np.array([distribution_2.get(key, 0) for key in all_keys])\n",
    "\n",
    "    # Normalize the frequencies to get probabilities\n",
    "    probs_1 = freqs_1 / freqs_1.sum()\n",
    "    probs_2 = freqs_2 / freqs_2.sum()\n",
    "\n",
    "    # # Compute the cumulative distribution functions\n",
    "    cdf_1 = np.cumsum(probs_1)\n",
    "    cdf_2 = np.cumsum(probs_2)\n",
    "\n",
    "    # Compute the 1-Wasserstein distance\n",
    "\n",
    "    positions = [ref_ord_mapping[k] for k in all_keys]  # Positions in the sorted key space\n",
    "\n",
    "    wd_distance = wasserstein_distance(positions, positions, u_weights=probs_1, v_weights=probs_2)\n",
    "    # wd_distance = wasserstein_distance(positions, positions, u_weights=cdf_1, v_weights=cdf_2)\n",
    "    # print(positions)\n",
    "    # print(wd_distance)\n",
    "\n",
    "    return wd_distance\n",
    "\n",
    "\n",
    "# Load the data\n",
    "record = {}\n",
    "for filename in os.listdir(f'opinions_qa/output/{survey_name}/'):\n",
    "    if any(_ not in filename for _ in ['v10']): continue\n",
    "    exp = filename[len(f\"date0826_v10post_midterm_{survey_name}_\"):-len('.json')]\n",
    "    res = [{\"pred\": [], \"gold\": []} for _ in range(5)]\n",
    "    if exp not in record: record[exp] = []\n",
    "\n",
    "    with open(f\"opinions_qa/output/{survey_name}/{filename}\", 'r') as f:\n",
    "        data = json.load(f)\n",
    "\n",
    "    for entry in data:\n",
    "        q_idx = entry['q_idx']\n",
    "        prediction = entry['prediction']\n",
    "        gold_answer = entry['gold_answer']\n",
    "        res[q_idx]['pred'].append(prediction)\n",
    "        res[q_idx]['gold'].append(gold_answer)\n",
    "\n",
    "    # Create dataframes for visualization\n",
    "    dataframes = []\n",
    "    for i in range(5):\n",
    "        df_pred = pd.Series(res[i]['pred']).value_counts().reset_index()\n",
    "        df_pred.columns = ['Answer', 'Count']\n",
    "        df_pred['Type'] = 'Prediction'\n",
    "        df_pred['Question'] = f'Question {i+1}'\n",
    "        \n",
    "        df_gold = pd.Series(res[i]['gold']).value_counts().reset_index()\n",
    "        df_gold.columns = ['Answer', 'Count']\n",
    "        df_gold['Type'] = 'Gold'\n",
    "        df_gold['Question'] = f'Question {i+1}'\n",
    "        \n",
    "        dataframes.append(pd.concat([df_pred, df_gold]))\n",
    "\n",
    "    wd = []\n",
    "    for q_idx, df in enumerate(dataframes):\n",
    "        key = test_q_keys[q_idx]\n",
    "        ref_ord_mapping = wd_question_mappings[key]\n",
    "        wd.append(get_1wd_from_df(df, ref_ord_mapping))\n",
    "\n",
    "    record[exp].append(np.mean(wd) * 100)\n",
    "\n",
    "s_wd_df = pd.DataFrame(record)\n",
    "s_wd_df = s_wd_df[sorted(s_wd_df.columns)].transpose()\n",
    "\n",
    "# s_wd_df['wd_avg'] = s_wd_df.apply(lambda x: f\"{np.mean(x[[0,1,2]]):.2f}\", axis=1)\n",
    "# s_wd_df['wd_std'] = s_wd_df.apply(lambda x: f\"{np.std(x[[0,1,2]]):.2f}\", axis=1)\n",
    "s_wd_df = s_wd_df.rename(columns={0: 's_1wd'})\n",
    "s_wd_df"
   ]
  },
  {
   "cell_type": "markdown",
   "metadata": {},
   "source": [
    "# Full Results"
   ]
  },
  {
   "cell_type": "code",
   "execution_count": 26,
   "metadata": {},
   "outputs": [
    {
     "data": {
      "text/html": [
       "<div>\n",
       "<style scoped>\n",
       "    .dataframe tbody tr th:only-of-type {\n",
       "        vertical-align: middle;\n",
       "    }\n",
       "\n",
       "    .dataframe tbody tr th {\n",
       "        vertical-align: top;\n",
       "    }\n",
       "\n",
       "    .dataframe thead th {\n",
       "        text-align: right;\n",
       "    }\n",
       "</style>\n",
       "<table border=\"1\" class=\"dataframe\">\n",
       "  <thead>\n",
       "    <tr style=\"text-align: right;\">\n",
       "      <th></th>\n",
       "      <th>acc_cnt</th>\n",
       "      <th>acc</th>\n",
       "      <th>q_1wd_cnt</th>\n",
       "      <th>q_1wd</th>\n",
       "      <th>s_1wd</th>\n",
       "    </tr>\n",
       "  </thead>\n",
       "  <tbody>\n",
       "    <tr>\n",
       "      <th>history_demo_persona_run1</th>\n",
       "      <td>=261/595</td>\n",
       "      <td>0.438655</td>\n",
       "      <td>{1.0: 253, 0.0: 261, 3.0: 12, 4.0: 8, 2.0: 60}</td>\n",
       "      <td>0.742424</td>\n",
       "      <td>41.652781</td>\n",
       "    </tr>\n",
       "  </tbody>\n",
       "</table>\n",
       "</div>"
      ],
      "text/plain": [
       "                            acc_cnt       acc  \\\n",
       "history_demo_persona_run1  =261/595  0.438655   \n",
       "\n",
       "                                                                q_1wd_cnt  \\\n",
       "history_demo_persona_run1  {1.0: 253, 0.0: 261, 3.0: 12, 4.0: 8, 2.0: 60}   \n",
       "\n",
       "                              q_1wd      s_1wd  \n",
       "history_demo_persona_run1  0.742424  41.652781  "
      ]
     },
     "execution_count": 26,
     "metadata": {},
     "output_type": "execute_result"
    }
   ],
   "source": [
    "merged_df = pd.merge(acc_df, q_wd_df, left_index=True, right_index=True)\n",
    "merged_df = pd.merge(merged_df, s_wd_df, left_index=True, right_index=True)\n",
    "# merged_df = merged_df[['wd_avg', 'wd_std', 'acc_avg', 'acc_std']]\n",
    "\n",
    "# merged_df.sort_values(by='acc_avg', ascending=False)\n",
    "# merged_df.sort_values(by='wd_avg', ascending=True)\n",
    "merged_df = merged_df.sort_values(by='q_1wd', ascending=True)\n",
    "\n",
    "merged_df"
   ]
  },
  {
   "cell_type": "code",
   "execution_count": null,
   "metadata": {},
   "outputs": [],
   "source": []
  },
  {
   "cell_type": "code",
   "execution_count": null,
   "metadata": {},
   "outputs": [],
   "source": []
  },
  {
   "cell_type": "code",
   "execution_count": null,
   "metadata": {},
   "outputs": [],
   "source": []
  },
  {
   "cell_type": "code",
   "execution_count": null,
   "metadata": {},
   "outputs": [],
   "source": []
  },
  {
   "cell_type": "code",
   "execution_count": null,
   "metadata": {},
   "outputs": [],
   "source": []
  },
  {
   "cell_type": "markdown",
   "metadata": {},
   "source": [
    "# Get distribution of responses by question"
   ]
  },
  {
   "cell_type": "code",
   "execution_count": 27,
   "metadata": {},
   "outputs": [
    {
     "name": "stdout",
     "output_type": "stream",
     "text": [
      "    key              question                                                                                                             references\n",
      "--  ---------------  -------------------------------------------------------------------------------------------------------------------  ------------------------------------------------------------------------------------------------------------------------------\n",
      " 2  SATLIFEC_W32     Please tell us whether you are satisfied or dissatisfied with your personal financial situation.                     ['Very satisfied', 'Somewhat satisfied', 'Somewhat dissatisfied', 'Very dissatisfied', 'Refused']\n",
      "21  COMMIMPE_W32     How important is it to you, personally, to live in a community with access to recreational and outdoor activities    ['Very important', 'Somewhat important', 'Not too important', 'Not at all important', 'Refused']\n",
      "26  SUCCESSIMPA_W32  How important, if at all, do you think a college education is in helping a young person succeed in the world today?  ['Essential', 'Important but not essential', 'Not important', 'Refused']\n",
      "62  NEIGHINTERB_W32  In general, how often, if ever, would you say you talk on the phone with any of your neighbors                       ['Every day', 'Several times a week', 'About once a week', 'About once a month', 'Less than once a month', 'Never', 'Refused']\n",
      "72  GROWUPUSR_W32    How would you describe the community where you spent the majority of time when you were growing up?                  ['Urban', 'Suburban', 'Rural', 'Refused']\n"
     ]
    }
   ],
   "source": [
    "import pandas as pd\n",
    "from src.utils import get_file_from_s3\n",
    "from tabulate import tabulate\n",
    "\n",
    "test_q_keys = test_q_keys_mapping[survey_name]\n",
    "survey_df = pd.read_csv(get_file_from_s3(f\"human_resp/{survey_name}/info.csv\"))\n",
    "sub_df = survey_df[survey_df['key'].isin(test_q_keys)][['key', 'question', 'references']]\n",
    "\n",
    "print(tabulate(sub_df, headers=\"keys\"))"
   ]
  },
  {
   "cell_type": "code",
   "execution_count": 28,
   "metadata": {},
   "outputs": [
    {
     "name": "stdout",
     "output_type": "stream",
     "text": [
      "{'SATLIFEC_W32': 'Please tell us whether you are satisfied or dissatisfied with your personal financial situation.', 'COMMIMPE_W32': 'How important is it to you, personally, to live in a community with access to recreational and outdoor activities', 'SUCCESSIMPA_W32': 'How important, if at all, do you think a college education is in helping a young person succeed in the world today?', 'NEIGHINTERB_W32': 'In general, how often, if ever, would you say you talk on the phone with any of your neighbors', 'GROWUPUSR_W32': 'How would you describe the community where you spent the majority of time when you were growing up?'}\n",
      "['In general, how often, if ever, would you say you talk on the phone with any of your neighbors', 'Please tell us whether you are satisfied or dissatisfied with your personal financial situation.', 'How important, if at all, do you think a college education is in helping a young person succeed in the world today?', 'How important is it to you, personally, to live in a community with access to recreational and outdoor activities', 'How would you describe the community where you spent the majority of time when you were growing up?']\n"
     ]
    }
   ],
   "source": [
    "q_key_to_q_text = dict(zip(sub_df['key'], sub_df['question']))\n",
    "q_texts = [q_key_to_q_text[key] for key in test_q_keys]\n",
    "\n",
    "print(q_key_to_q_text)\n",
    "print(q_texts)"
   ]
  },
  {
   "cell_type": "code",
   "execution_count": 29,
   "metadata": {},
   "outputs": [
    {
     "ename": "FileNotFoundError",
     "evalue": "[Errno 2] No such file or directory: 'opinions_qa/output/American_Trends_Panel_W32/date0826_v10post_midterm_American_Trends_Panel_W32_history_run1.json'",
     "output_type": "error",
     "traceback": [
      "\u001b[0;31m---------------------------------------------------------------------------\u001b[0m",
      "\u001b[0;31mFileNotFoundError\u001b[0m                         Traceback (most recent call last)",
      "Cell \u001b[0;32mIn[29], line 12\u001b[0m\n\u001b[1;32m      9\u001b[0m res \u001b[38;5;241m=\u001b[39m [{\u001b[38;5;124m\"\u001b[39m\u001b[38;5;124mpred\u001b[39m\u001b[38;5;124m\"\u001b[39m: [], \u001b[38;5;124m\"\u001b[39m\u001b[38;5;124mgold\u001b[39m\u001b[38;5;124m\"\u001b[39m: []} \u001b[38;5;28;01mfor\u001b[39;00m _ \u001b[38;5;129;01min\u001b[39;00m \u001b[38;5;28mrange\u001b[39m(\u001b[38;5;241m5\u001b[39m)]\n\u001b[1;32m     10\u001b[0m \u001b[38;5;28;01mfor\u001b[39;00m filename \u001b[38;5;129;01min\u001b[39;00m os\u001b[38;5;241m.\u001b[39mlistdir(\u001b[38;5;124mf\u001b[39m\u001b[38;5;124m'\u001b[39m\u001b[38;5;124mopinions_qa/output/\u001b[39m\u001b[38;5;132;01m{\u001b[39;00msurvey_name\u001b[38;5;132;01m}\u001b[39;00m\u001b[38;5;124m'\u001b[39m):\n\u001b[0;32m---> 12\u001b[0m     \u001b[38;5;28;01mwith\u001b[39;00m \u001b[38;5;28;43mopen\u001b[39;49m\u001b[43m(\u001b[49m\u001b[38;5;124;43mf\u001b[39;49m\u001b[38;5;124;43m\"\u001b[39;49m\u001b[38;5;124;43mopinions_qa/output/\u001b[39;49m\u001b[38;5;132;43;01m{\u001b[39;49;00m\u001b[43msurvey_name\u001b[49m\u001b[38;5;132;43;01m}\u001b[39;49;00m\u001b[38;5;124;43m/\u001b[39;49m\u001b[38;5;132;43;01m{\u001b[39;49;00m\u001b[43mviz_filename\u001b[49m\u001b[38;5;132;43;01m}\u001b[39;49;00m\u001b[38;5;124;43m\"\u001b[39;49m\u001b[43m,\u001b[49m\u001b[43m \u001b[49m\u001b[38;5;124;43m'\u001b[39;49m\u001b[38;5;124;43mr\u001b[39;49m\u001b[38;5;124;43m'\u001b[39;49m\u001b[43m)\u001b[49m \u001b[38;5;28;01mas\u001b[39;00m f:\n\u001b[1;32m     13\u001b[0m         data \u001b[38;5;241m=\u001b[39m json\u001b[38;5;241m.\u001b[39mload(f)\n\u001b[1;32m     15\u001b[0m     \u001b[38;5;28;01mfor\u001b[39;00m entry \u001b[38;5;129;01min\u001b[39;00m data:\n",
      "File \u001b[0;32m~/miniconda3/envs/pump/lib/python3.10/site-packages/IPython/core/interactiveshell.py:324\u001b[0m, in \u001b[0;36m_modified_open\u001b[0;34m(file, *args, **kwargs)\u001b[0m\n\u001b[1;32m    317\u001b[0m \u001b[38;5;28;01mif\u001b[39;00m file \u001b[38;5;129;01min\u001b[39;00m {\u001b[38;5;241m0\u001b[39m, \u001b[38;5;241m1\u001b[39m, \u001b[38;5;241m2\u001b[39m}:\n\u001b[1;32m    318\u001b[0m     \u001b[38;5;28;01mraise\u001b[39;00m \u001b[38;5;167;01mValueError\u001b[39;00m(\n\u001b[1;32m    319\u001b[0m         \u001b[38;5;124mf\u001b[39m\u001b[38;5;124m\"\u001b[39m\u001b[38;5;124mIPython won\u001b[39m\u001b[38;5;124m'\u001b[39m\u001b[38;5;124mt let you open fd=\u001b[39m\u001b[38;5;132;01m{\u001b[39;00mfile\u001b[38;5;132;01m}\u001b[39;00m\u001b[38;5;124m by default \u001b[39m\u001b[38;5;124m\"\u001b[39m\n\u001b[1;32m    320\u001b[0m         \u001b[38;5;124m\"\u001b[39m\u001b[38;5;124mas it is likely to crash IPython. If you know what you are doing, \u001b[39m\u001b[38;5;124m\"\u001b[39m\n\u001b[1;32m    321\u001b[0m         \u001b[38;5;124m\"\u001b[39m\u001b[38;5;124myou can use builtins\u001b[39m\u001b[38;5;124m'\u001b[39m\u001b[38;5;124m open.\u001b[39m\u001b[38;5;124m\"\u001b[39m\n\u001b[1;32m    322\u001b[0m     )\n\u001b[0;32m--> 324\u001b[0m \u001b[38;5;28;01mreturn\u001b[39;00m \u001b[43mio_open\u001b[49m\u001b[43m(\u001b[49m\u001b[43mfile\u001b[49m\u001b[43m,\u001b[49m\u001b[43m \u001b[49m\u001b[38;5;241;43m*\u001b[39;49m\u001b[43margs\u001b[49m\u001b[43m,\u001b[49m\u001b[43m \u001b[49m\u001b[38;5;241;43m*\u001b[39;49m\u001b[38;5;241;43m*\u001b[39;49m\u001b[43mkwargs\u001b[49m\u001b[43m)\u001b[49m\n",
      "\u001b[0;31mFileNotFoundError\u001b[0m: [Errno 2] No such file or directory: 'opinions_qa/output/American_Trends_Panel_W32/date0826_v10post_midterm_American_Trends_Panel_W32_history_run1.json'"
     ]
    }
   ],
   "source": [
    "import textwrap\n",
    "import json\n",
    "import os\n",
    "import pandas as pd\n",
    "import seaborn as sns\n",
    "import matplotlib.pyplot as plt\n",
    "\n",
    "# Load the data\n",
    "res = [{\"pred\": [], \"gold\": []} for _ in range(5)]\n",
    "for filename in os.listdir(f'opinions_qa/output/{survey_name}'):\n",
    "\n",
    "    with open(f\"opinions_qa/output/{survey_name}/{viz_filename}\", 'r') as f:\n",
    "        data = json.load(f)\n",
    "\n",
    "    for entry in data:\n",
    "        q_idx = entry['q_idx']\n",
    "        prediction = entry['prediction']\n",
    "        gold_answer = entry['gold_answer']\n",
    "        res[q_idx]['pred'].append(prediction)\n",
    "        res[q_idx]['gold'].append(gold_answer)\n",
    "\n",
    "\n",
    "\n",
    "# Create dataframes for visualization\n",
    "dataframes = []\n",
    "for i in range(5):\n",
    "    df_pred = pd.Series(res[i]['pred']).value_counts().reset_index()\n",
    "    df_pred.columns = ['Answer', 'Count']\n",
    "    df_pred['Type'] = 'Prediction'\n",
    "    df_pred['Question'] = f'Question {i+1}'\n",
    "    \n",
    "    df_gold = pd.Series(res[i]['gold']).value_counts().reset_index()\n",
    "    df_gold.columns = ['Answer', 'Count']\n",
    "    df_gold['Type'] = 'Gold'\n",
    "    df_gold['Question'] = f'Question {i+1}'\n",
    "    \n",
    "    dataframes.append(pd.concat([df_pred, df_gold]))\n",
    "\n",
    "# Plotting\n",
    "sns.set(style=\"whitegrid\")\n",
    "\n",
    "# Function to plot the data\n",
    "def plot_question(df, question_idx):\n",
    "    plt.figure(figsize=(10, 6))\n",
    "    ax = sns.barplot(data=df, x=\"Answer\", y=\"Count\", hue=\"Type\", palette=[\"#a6cee3\", \"#1f78b4\"], alpha=0.7)\n",
    "    for p in ax.patches:\n",
    "        height = p.get_height()\n",
    "        if height > 0:\n",
    "            ax.annotate(f'{int(height)}', \n",
    "                        (p.get_x() + p.get_width() / 2., height), \n",
    "                        ha = 'center', va = 'center', \n",
    "                        xytext = (0, 10), \n",
    "                        textcoords = 'offset points',\n",
    "                        fontsize=10)\n",
    "    wrapped_title = \"\\n\".join(textwrap.wrap(q_texts[question_idx], width=80))\n",
    "    plt.title(wrapped_title, fontsize=16, pad=20)\n",
    "    plt.xticks(rotation=45, ha='right', fontsize=12)\n",
    "    plt.yticks(fontsize=12)\n",
    "    plt.xlabel('Answer', fontsize=12)\n",
    "    plt.ylabel('Count', fontsize=12)\n",
    "    plt.legend(title='Type', title_fontsize='13', fontsize='11')\n",
    "    plt.show()\n",
    "\n",
    "# Draw the graphs one by one\n",
    "for i in range(5):\n",
    "    plot_question(dataframes[i], i)\n"
   ]
  },
  {
   "cell_type": "code",
   "execution_count": null,
   "metadata": {},
   "outputs": [],
   "source": []
  },
  {
   "cell_type": "code",
   "execution_count": null,
   "metadata": {},
   "outputs": [],
   "source": []
  },
  {
   "cell_type": "code",
   "execution_count": null,
   "metadata": {},
   "outputs": [],
   "source": []
  },
  {
   "cell_type": "code",
   "execution_count": null,
   "metadata": {},
   "outputs": [],
   "source": []
  },
  {
   "cell_type": "code",
   "execution_count": null,
   "metadata": {},
   "outputs": [],
   "source": []
  },
  {
   "cell_type": "code",
   "execution_count": null,
   "metadata": {},
   "outputs": [],
   "source": []
  },
  {
   "cell_type": "code",
   "execution_count": null,
   "metadata": {},
   "outputs": [],
   "source": []
  },
  {
   "cell_type": "code",
   "execution_count": null,
   "metadata": {},
   "outputs": [],
   "source": []
  },
  {
   "cell_type": "code",
   "execution_count": null,
   "metadata": {},
   "outputs": [],
   "source": []
  }
 ],
 "metadata": {
  "kernelspec": {
   "display_name": "pump",
   "language": "python",
   "name": "python3"
  },
  "language_info": {
   "codemirror_mode": {
    "name": "ipython",
    "version": 3
   },
   "file_extension": ".py",
   "mimetype": "text/x-python",
   "name": "python",
   "nbconvert_exporter": "python",
   "pygments_lexer": "ipython3",
   "version": "3.10.14"
  }
 },
 "nbformat": 4,
 "nbformat_minor": 2
}
