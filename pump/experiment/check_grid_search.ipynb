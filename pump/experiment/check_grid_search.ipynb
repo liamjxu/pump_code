{
 "cells": [
  {
   "cell_type": "code",
   "execution_count": 53,
   "metadata": {},
   "outputs": [],
   "source": [
    "survey_name = \"American_Trends_Panel_W34\"\n",
    "# survey_name = \"American_Trends_Panel_W41\"\n",
    "# survey_name = \"American_Trends_Panel_W82\"\n",
    "\n",
    "survey_grid_search_mapping = {\n",
    "    # \"American_Trends_Panel_W34\": \"date0904_personas_full_personadb_bn_hcbds_hp_grid_search.json\",\n",
    "    # \"American_Trends_Panel_W34\": \"date0904_personas_full_personadb_bn_hcbic_grid_search.json\",\n",
    "    \"American_Trends_Panel_W34\": \"date0904_personas_full_personadb_bn_hcbdeu_grid_search.json\",\n",
    "    \n",
    "    # \"American_Trends_Panel_W41\": \"date0909_personas_full_personadb_bn_hcbds_grid_search.json\",\n",
    "    # \"American_Trends_Panel_W41\": \"date0904_personas_full_personadb_bn_hcbdeu_grid_search.json\",\n",
    "    \"American_Trends_Panel_W41\": \"date0904_personas_full_personadb_bn_hcbic_grid_search.json\",\n",
    "    \n",
    "    # \"American_Trends_Panel_W82\": \"date0909_personas_full_personadb_bn_hcbds_grid_search.json\"  # best is only 57.9\n",
    "    # \"American_Trends_Panel_W82\": \"date0904_personas_full_personadb_bn_hcbdeu_grid_search.json\"\n",
    "    \"American_Trends_Panel_W82\": \"date0904_personas_full_personadb_bn_hcbic_grid_search.json\"  # best is 58.5/58.1\n",
    "}"
   ]
  },
  {
   "cell_type": "code",
   "execution_count": 54,
   "metadata": {},
   "outputs": [
    {
     "name": "stdout",
     "output_type": "stream",
     "text": [
      "156\n",
      "+-----+--------------+---------+--------------+----------------------+----------------------------+\n",
      "|     | setting      |   top_k |   skew_thres |   most_is_gold_ratio |   gold_concentration_ratio |\n",
      "|-----+--------------+---------+--------------+----------------------+----------------------------|\n",
      "| 107 | demo_persona |      80 |           10 |                0.656 |                   0.535248 |\n",
      "| 120 | demo_persona |      80 |            7 |                0.656 |                   0.535248 |\n",
      "| 132 | demo_persona |      60 |            3 |                0.649 |                   0.539289 |\n",
      "| 108 | demo_persona |     100 |           10 |                0.649 |                   0.53354  |\n",
      "| 121 | demo_persona |     100 |            7 |                0.649 |                   0.53354  |\n",
      "| 106 | demo_persona |      60 |           10 |                0.648 |                   0.535065 |\n",
      "| 119 | demo_persona |      60 |            7 |                0.648 |                   0.535065 |\n",
      "| 131 | demo_persona |      40 |            3 |                0.647 |                   0.541442 |\n",
      "|  94 | demo_persona |      80 |           15 |                0.647 |                   0.534405 |\n",
      "| 134 | demo_persona |     100 |            3 |                0.647 |                   0.537158 |\n",
      "| 147 | demo_persona |     100 |            2 |                0.647 |                   0.536554 |\n",
      "| 145 | demo_persona |      60 |            2 |                0.647 |                   0.53807  |\n",
      "|  82 | demo_persona |     100 |          100 |                0.646 |                   0.53164  |\n",
      "| 148 | demo_persona |     120 |            2 |                0.646 |                   0.5349   |\n",
      "| 135 | demo_persona |     120 |            3 |                0.645 |                   0.535425 |\n",
      "|  92 | demo_persona |      40 |           15 |                0.645 |                   0.539106 |\n",
      "|  96 | demo_persona |     120 |           15 |                0.645 |                   0.532999 |\n",
      "|  95 | demo_persona |     100 |           15 |                0.645 |                   0.533568 |\n",
      "|  83 | demo_persona |     120 |          100 |                0.644 |                   0.530922 |\n",
      "| 133 | demo_persona |      80 |            3 |                0.644 |                   0.538722 |\n",
      "|  79 | demo_persona |      40 |          100 |                0.643 |                   0.536076 |\n",
      "| 124 | demo_persona |     160 |            7 |                0.643 |                   0.530023 |\n",
      "| 110 | demo_persona |     140 |           10 |                0.643 |                   0.531113 |\n",
      "| 111 | demo_persona |     160 |           10 |                0.643 |                   0.530023 |\n",
      "| 123 | demo_persona |     140 |            7 |                0.643 |                   0.531113 |\n",
      "|  81 | demo_persona |      80 |          100 |                0.643 |                   0.532729 |\n",
      "| 154 | demo_persona |     320 |            2 |                0.643 |                   0.527037 |\n",
      "| 146 | demo_persona |      80 |            2 |                0.643 |                   0.536606 |\n",
      "| 118 | demo_persona |      40 |            7 |                0.642 |                   0.534996 |\n",
      "| 105 | demo_persona |      40 |           10 |                0.642 |                   0.534996 |\n",
      "| 136 | demo_persona |     140 |            3 |                0.642 |                   0.533969 |\n",
      "|  80 | demo_persona |      60 |          100 |                0.642 |                   0.532481 |\n",
      "| 153 | demo_persona |     280 |            2 |                0.641 |                   0.527958 |\n",
      "| 149 | demo_persona |     140 |            2 |                0.641 |                   0.533576 |\n",
      "| 113 | demo_persona |     240 |           10 |                0.64  |                   0.526651 |\n",
      "| 116 | demo_persona |     360 |           10 |                0.64  |                   0.523678 |\n",
      "| 129 | demo_persona |     360 |            7 |                0.64  |                   0.523678 |\n",
      "| 126 | demo_persona |     240 |            7 |                0.64  |                   0.526651 |\n",
      "| 109 | demo_persona |     120 |           10 |                0.639 |                   0.53231  |\n",
      "|  84 | demo_persona |     140 |          100 |                0.639 |                   0.52921  |\n",
      "| 102 | demo_persona |     320 |           15 |                0.639 |                   0.524837 |\n",
      "| 122 | demo_persona |     120 |            7 |                0.639 |                   0.53231  |\n",
      "| 125 | demo_persona |     200 |            7 |                0.638 |                   0.528028 |\n",
      "|  86 | demo_persona |     200 |          100 |                0.638 |                   0.5271   |\n",
      "|  73 | persona_only |     200 |            2 |                0.638 |                   0.528004 |\n",
      "| 137 | demo_persona |     160 |            3 |                0.638 |                   0.533145 |\n",
      "| 128 | demo_persona |     320 |            7 |                0.638 |                   0.524517 |\n",
      "| 115 | demo_persona |     320 |           10 |                0.638 |                   0.524517 |\n",
      "| 112 | demo_persona |     200 |           10 |                0.638 |                   0.528028 |\n",
      "| 138 | demo_persona |     200 |            3 |                0.638 |                   0.531569 |\n",
      "|  85 | demo_persona |     160 |          100 |                0.637 |                   0.528859 |\n",
      "| 152 | demo_persona |     240 |            2 |                0.637 |                   0.528693 |\n",
      "|  97 | demo_persona |     140 |           15 |                0.637 |                   0.531082 |\n",
      "| 143 | demo_persona |      20 |            2 |                0.637 |                   0.540939 |\n",
      "| 140 | demo_persona |     280 |            3 |                0.637 |                   0.528735 |\n",
      "|  89 | demo_persona |     320 |          100 |                0.636 |                   0.523638 |\n",
      "|  99 | demo_persona |     200 |           15 |                0.636 |                   0.528918 |\n",
      "| 103 | demo_persona |     360 |           15 |                0.636 |                   0.524246 |\n",
      "|  91 | demo_persona |      20 |           15 |                0.636 |                   0.540428 |\n",
      "| 150 | demo_persona |     160 |            2 |                0.636 |                   0.532255 |\n",
      "|  90 | demo_persona |     360 |          100 |                0.636 |                   0.52299  |\n",
      "|  88 | demo_persona |     280 |          100 |                0.636 |                   0.524496 |\n",
      "| 155 | demo_persona |     360 |            2 |                0.635 |                   0.526036 |\n",
      "|  93 | demo_persona |      60 |           15 |                0.635 |                   0.53571  |\n",
      "| 114 | demo_persona |     280 |           10 |                0.635 |                   0.525237 |\n",
      "| 127 | demo_persona |     280 |            7 |                0.635 |                   0.525237 |\n",
      "| 100 | demo_persona |     240 |           15 |                0.634 |                   0.526715 |\n",
      "| 101 | demo_persona |     280 |           15 |                0.634 |                   0.525795 |\n",
      "| 130 | demo_persona |      20 |            3 |                0.634 |                   0.542924 |\n",
      "| 139 | demo_persona |     240 |            3 |                0.634 |                   0.530011 |\n",
      "| 144 | demo_persona |      40 |            2 |                0.634 |                   0.538228 |\n",
      "| 151 | demo_persona |     200 |            2 |                0.634 |                   0.530295 |\n",
      "| 104 | demo_persona |      20 |           10 |                0.633 |                   0.538596 |\n",
      "| 117 | demo_persona |      20 |            7 |                0.633 |                   0.538596 |\n",
      "|  78 | demo_persona |      20 |          100 |                0.633 |                   0.538977 |\n",
      "|  71 | persona_only |     140 |            2 |                0.633 |                   0.52835  |\n",
      "| 142 | demo_persona |     360 |            3 |                0.632 |                   0.526897 |\n",
      "| 141 | demo_persona |     320 |            3 |                0.632 |                   0.527603 |\n",
      "|  98 | demo_persona |     160 |           15 |                0.632 |                   0.530162 |\n",
      "|  87 | demo_persona |     240 |          100 |                0.631 |                   0.525522 |\n",
      "|  74 | persona_only |     240 |            2 |                0.63  |                   0.52685  |\n",
      "|  55 | persona_only |      80 |            3 |                0.63  |                   0.530203 |\n",
      "|  72 | persona_only |     160 |            2 |                0.629 |                   0.528627 |\n",
      "|  60 | persona_only |     200 |            3 |                0.629 |                   0.525995 |\n",
      "|  75 | persona_only |     280 |            2 |                0.628 |                   0.52523  |\n",
      "|  69 | persona_only |     100 |            2 |                0.627 |                   0.525396 |\n",
      "|  77 | persona_only |     360 |            2 |                0.626 |                   0.524351 |\n",
      "|  62 | persona_only |     280 |            3 |                0.625 |                   0.525088 |\n",
      "|  59 | persona_only |     160 |            3 |                0.625 |                   0.527434 |\n",
      "|  34 | persona_only |     200 |           10 |                0.624 |                   0.522347 |\n",
      "|  47 | persona_only |     200 |            7 |                0.624 |                   0.522347 |\n",
      "|  51 | persona_only |     360 |            7 |                0.623 |                   0.521146 |\n",
      "|  38 | persona_only |     360 |           10 |                0.623 |                   0.521146 |\n",
      "|  41 | persona_only |      60 |            7 |                0.622 |                   0.528894 |\n",
      "|  76 | persona_only |     320 |            2 |                0.622 |                   0.524405 |\n",
      "|  28 | persona_only |      60 |           10 |                0.622 |                   0.528894 |\n",
      "|  61 | persona_only |     240 |            3 |                0.621 |                   0.525796 |\n",
      "|  56 | persona_only |     100 |            3 |                0.621 |                   0.528399 |\n",
      "|  30 | persona_only |     100 |           10 |                0.621 |                   0.524543 |\n",
      "|  32 | persona_only |     140 |           10 |                0.621 |                   0.523327 |\n",
      "|  43 | persona_only |     100 |            7 |                0.621 |                   0.524543 |\n",
      "|  45 | persona_only |     140 |            7 |                0.621 |                   0.523327 |\n",
      "|  37 | persona_only |     320 |           10 |                0.62  |                   0.521269 |\n",
      "|  50 | persona_only |     320 |            7 |                0.62  |                   0.521269 |\n",
      "|  35 | persona_only |     240 |           10 |                0.619 |                   0.521628 |\n",
      "|  64 | persona_only |     360 |            3 |                0.619 |                   0.523466 |\n",
      "|  36 | persona_only |     280 |           10 |                0.619 |                   0.521111 |\n",
      "|  44 | persona_only |     120 |            7 |                0.619 |                   0.523403 |\n",
      "|  49 | persona_only |     280 |            7 |                0.619 |                   0.521111 |\n",
      "|  48 | persona_only |     240 |            7 |                0.619 |                   0.521628 |\n",
      "|  31 | persona_only |     120 |           10 |                0.619 |                   0.523403 |\n",
      "|  70 | persona_only |     120 |            2 |                0.618 |                   0.526081 |\n",
      "|  54 | persona_only |      60 |            3 |                0.618 |                   0.530669 |\n",
      "|  58 | persona_only |     140 |            3 |                0.618 |                   0.529166 |\n",
      "|  29 | persona_only |      80 |           10 |                0.617 |                   0.525523 |\n",
      "|  33 | persona_only |     160 |           10 |                0.617 |                   0.522061 |\n",
      "|  63 | persona_only |     320 |            3 |                0.617 |                   0.524347 |\n",
      "|  46 | persona_only |     160 |            7 |                0.617 |                   0.522061 |\n",
      "|  67 | persona_only |      60 |            2 |                0.617 |                   0.525021 |\n",
      "|  65 | persona_only |      20 |            2 |                0.617 |                   0.535414 |\n",
      "|  42 | persona_only |      80 |            7 |                0.617 |                   0.525523 |\n",
      "|  57 | persona_only |     120 |            3 |                0.616 |                   0.528417 |\n",
      "|  52 | persona_only |      20 |            3 |                0.615 |                   0.53147  |\n",
      "|  66 | persona_only |      40 |            2 |                0.615 |                   0.528456 |\n",
      "|  22 | persona_only |     240 |           15 |                0.614 |                   0.522842 |\n",
      "|  21 | persona_only |     200 |           15 |                0.614 |                   0.52209  |\n",
      "|  15 | persona_only |      60 |           15 |                0.613 |                   0.52513  |\n",
      "|  68 | persona_only |      80 |            2 |                0.613 |                   0.52406  |\n",
      "|  25 | persona_only |     360 |           15 |                0.613 |                   0.522032 |\n",
      "|   8 | persona_only |     200 |          100 |                0.612 |                   0.520339 |\n",
      "|   7 | persona_only |     160 |          100 |                0.612 |                   0.521214 |\n",
      "|  40 | persona_only |      40 |            7 |                0.612 |                   0.530093 |\n",
      "|  27 | persona_only |      40 |           10 |                0.612 |                   0.530093 |\n",
      "|  53 | persona_only |      40 |            3 |                0.612 |                   0.53204  |\n",
      "|  24 | persona_only |     320 |           15 |                0.611 |                   0.523041 |\n",
      "|  20 | persona_only |     160 |           15 |                0.611 |                   0.523875 |\n",
      "|  16 | persona_only |      80 |           15 |                0.611 |                   0.525939 |\n",
      "|   2 | persona_only |      60 |          100 |                0.61  |                   0.523717 |\n",
      "|  23 | persona_only |     280 |           15 |                0.609 |                   0.522799 |\n",
      "|   1 | persona_only |      40 |          100 |                0.609 |                   0.526424 |\n",
      "|   0 | persona_only |      20 |          100 |                0.608 |                   0.528324 |\n",
      "|  17 | persona_only |     100 |           15 |                0.608 |                   0.524821 |\n",
      "|   6 | persona_only |     140 |          100 |                0.607 |                   0.521399 |\n",
      "|   5 | persona_only |     120 |          100 |                0.606 |                   0.521491 |\n",
      "|   4 | persona_only |     100 |          100 |                0.606 |                   0.521977 |\n",
      "|  12 | persona_only |     360 |          100 |                0.605 |                   0.520138 |\n",
      "|   9 | persona_only |     240 |          100 |                0.605 |                   0.520309 |\n",
      "|  18 | persona_only |     120 |           15 |                0.603 |                   0.524525 |\n",
      "|  19 | persona_only |     140 |           15 |                0.602 |                   0.524041 |\n",
      "|  11 | persona_only |     320 |          100 |                0.601 |                   0.519858 |\n",
      "|  10 | persona_only |     280 |          100 |                0.601 |                   0.520069 |\n",
      "|  14 | persona_only |      40 |           15 |                0.6   |                   0.525094 |\n",
      "|  13 | persona_only |      20 |           15 |                0.6   |                   0.525936 |\n",
      "|  26 | persona_only |      20 |           10 |                0.6   |                   0.524354 |\n",
      "|  39 | persona_only |      20 |            7 |                0.6   |                   0.524354 |\n",
      "|   3 | persona_only |      80 |          100 |                0.599 |                   0.522111 |\n",
      "+-----+--------------+---------+--------------+----------------------+----------------------------+\n"
     ]
    }
   ],
   "source": [
    "import os\n",
    "import json\n",
    "\n",
    "os.chdir('/home/ubuntu/code/pump_post_midterm/pump')\n",
    "\n",
    "with open(f'opinions_qa/similar_users/{survey_name}/{survey_grid_search_mapping[survey_name]}') as f:\n",
    "    search = json.load(f)\n",
    "\n",
    "import pandas as pd\n",
    "import tabulate\n",
    "\n",
    "df = pd.DataFrame(search)\n",
    "\n",
    "subdf = df[['setting', 'top_k', 'skew_thres', 'most_is_gold_ratio', 'gold_concentration_ratio']].sort_values(by='most_is_gold_ratio', ascending=False)\n",
    "print(len(subdf))\n",
    "print(tabulate.tabulate(subdf, headers='keys', tablefmt='psql'))\n",
    "\n",
    "setting_mapping = {\n",
    "    \"demo_persona\": \"querydp\",\n",
    "    \"demo_only\": \"querydonly\",\n",
    "    \"persona_only\": \"queryponly\",\n",
    "}"
   ]
  },
  {
   "cell_type": "markdown",
   "metadata": {},
   "source": [
    "# Output a mapping"
   ]
  },
  {
   "cell_type": "code",
   "execution_count": 55,
   "metadata": {},
   "outputs": [
    {
     "name": "stdout",
     "output_type": "stream",
     "text": [
      "opinions_qa/similar_users/American_Trends_Panel_W34/date0905_personas_full_personadb_bn_hcbdeu_querydp_trainAll_top80_skew10_withname.json\n"
     ]
    }
   ],
   "source": [
    "row = df.iloc[107]\n",
    "\n",
    "date = '0905'\n",
    "\n",
    "mapping_name = f\"date{date}_personas_full_personadb_bn_hcbdeu_{setting_mapping[row['setting']]}_trainAll_top{row['top_k']}_skew{row['skew_thres']}_withname.json\"\n",
    "path = f'opinions_qa/similar_users/{survey_name}/{mapping_name}'\n",
    "print(path)\n",
    "with open(path, 'w') as f:\n",
    "    json.dump(row['similar_user_mapping'], f, indent=4)"
   ]
  },
  {
   "cell_type": "code",
   "execution_count": 46,
   "metadata": {},
   "outputs": [],
   "source": [
    "# row = df.iloc[133]\n",
    "\n",
    "# date = '0905'\n",
    "\n",
    "# mapping_name = f\"date{date}_personas_full_personadb_{setting_mapping[row['setting']]}_trainAll_top{row['top_k']}_skew{row['skew_thres']}_withname.json\"\n",
    "# print(mapping_name)\n",
    "# with open(f'opinions_qa/similar_users/{survey_name}/{mapping_name}', 'w') as f:\n",
    "#     json.dump(row['similar_user_mapping'], f, indent=4)"
   ]
  },
  {
   "cell_type": "markdown",
   "metadata": {},
   "source": [
    "# Check value of majority"
   ]
  },
  {
   "cell_type": "code",
   "execution_count": 47,
   "metadata": {},
   "outputs": [],
   "source": [
    "from src.utils import get_file_from_s3\n",
    "from collections import Counter"
   ]
  },
  {
   "cell_type": "code",
   "execution_count": 48,
   "metadata": {},
   "outputs": [],
   "source": [
    "resp_df = pd.read_csv(get_file_from_s3(f\"human_resp/{survey_name}/responses.csv\"))\n",
    "with open(f'experiment/data/human_resp/{survey_name}/user_test_q_key_mapping.json', 'r') as f:\n",
    "    user_test_q_key_mapping = json.load(f)\n",
    "test_user_list = list(user_test_q_key_mapping.keys())\n",
    "train_user_list = [str(_) for _ in range(len(resp_df)) if str(_) not in test_user_list]"
   ]
  },
  {
   "cell_type": "code",
   "execution_count": 49,
   "metadata": {},
   "outputs": [
    {
     "data": {
      "text/plain": [
       "(1689, 848)"
      ]
     },
     "execution_count": 49,
     "metadata": {},
     "output_type": "execute_result"
    }
   ],
   "source": [
    "len(train_user_list), len(test_user_list)"
   ]
  },
  {
   "cell_type": "code",
   "execution_count": 50,
   "metadata": {},
   "outputs": [],
   "source": [
    "train_user_list = [int(_) for _ in train_user_list]"
   ]
  },
  {
   "cell_type": "code",
   "execution_count": 51,
   "metadata": {},
   "outputs": [
    {
     "name": "stdout",
     "output_type": "stream",
     "text": [
      "Accuracy: 0.596\n"
     ]
    }
   ],
   "source": [
    "cnt = []\n",
    "for test_user in test_user_list:\n",
    "    for test_q in user_test_q_key_mapping[test_user]:\n",
    "        gold = resp_df[test_q].iloc[int(test_user)]\n",
    "\n",
    "        population = resp_df[test_q][resp_df['index'].isin(train_user_list)].dropna()\n",
    "        try:\n",
    "            majority = Counter(population).most_common(1)[0][0]\n",
    "        except:\n",
    "            print(Counter(population))\n",
    "            break\n",
    "        if majority == gold:\n",
    "            cnt.append(1)\n",
    "        else:\n",
    "            cnt.append(0)\n",
    "print('Accuracy:', sum(cnt)/len(cnt))"
   ]
  },
  {
   "cell_type": "code",
   "execution_count": null,
   "metadata": {},
   "outputs": [],
   "source": []
  },
  {
   "cell_type": "code",
   "execution_count": null,
   "metadata": {},
   "outputs": [],
   "source": []
  },
  {
   "cell_type": "markdown",
   "metadata": {},
   "source": [
    "# Check how many could be correct"
   ]
  },
  {
   "cell_type": "code",
   "execution_count": 52,
   "metadata": {},
   "outputs": [
    {
     "name": "stdout",
     "output_type": "stream",
     "text": [
      "0.646\n"
     ]
    }
   ],
   "source": [
    "import os\n",
    "os.chdir(\"/home/ubuntu/code/pump_post_midterm/pump\")\n",
    "\n",
    "from collections import Counter \n",
    "\n",
    "# path = \"opinions_qa/review/American_Trends_Panel_W34/date0905_v17_personadb_surveys_bdemo_American_Trends_Panel_W34_haikupred_prompt3_history_demo_persona_rag_run1\"\n",
    "# path = \"opinions_qa/review/American_Trends_Panel_W34/date0905_v17_personadb_surveys_bdemo_mostcommon40_American_Trends_Panel_W34_haikupred_prompt3_history_demo_persona_rag_run1\"\n",
    "path = \"opinions_qa/review/American_Trends_Panel_W34/date0905_v17_personadb_surveys_bdemo_mostcommon40_American_Trends_Panel_W34_haikupred_prompt3_history_demo_persona_rag_run1\"\n",
    "\n",
    "# Usage example\n",
    "start_marker = \"# Similar users' answers\"\n",
    "# start_marker = \"# Similar users' most common answer\"\n",
    "end_marker = \"# Your Prediction of the Participant's Response (answer with given options verbatim, no formatting, no punctuations or linebreaks at the end, don't explain)\"\n",
    "\n",
    "\n",
    "def extract_text_between_markers(file_path, start_marker, end_marker):\n",
    "    with open(file_path, 'r') as file:\n",
    "        lines = file.readlines()\n",
    "    gold = lines[-1][len(\"Gold: \"):]\n",
    "\n",
    "    # Initialize variables to track whether we are within the markers\n",
    "    capturing = False\n",
    "    extracted_lines = []\n",
    "\n",
    "    for line in lines:\n",
    "        if start_marker in line:\n",
    "            capturing = True\n",
    "            continue  # Skip the start marker line itself\n",
    "        elif end_marker in line:\n",
    "            capturing = False\n",
    "            break  # Stop once we reach the end marker line\n",
    "\n",
    "        if capturing:\n",
    "            extracted_lines.append(line.strip())  # Strip any surrounding whitespace\n",
    "\n",
    "    return gold, \"\\n\".join(extracted_lines)\n",
    "\n",
    "correct, total = 0, 0\n",
    "for filename in os.listdir(path):\n",
    "    file_path = f\"{path}/{filename}\"\n",
    "    gold, extracted_text = extract_text_between_markers(file_path, start_marker, end_marker)\n",
    "    most = Counter(extracted_text.split(\"\\n\")).most_common(1)[0][0]\n",
    "    if most == gold: correct += 1\n",
    "    total += 1\n",
    "print(correct/total)"
   ]
  },
  {
   "cell_type": "code",
   "execution_count": null,
   "metadata": {},
   "outputs": [],
   "source": []
  },
  {
   "cell_type": "code",
   "execution_count": null,
   "metadata": {},
   "outputs": [],
   "source": []
  },
  {
   "cell_type": "code",
   "execution_count": null,
   "metadata": {},
   "outputs": [],
   "source": []
  },
  {
   "cell_type": "code",
   "execution_count": null,
   "metadata": {},
   "outputs": [],
   "source": []
  }
 ],
 "metadata": {
  "kernelspec": {
   "display_name": "pump",
   "language": "python",
   "name": "python3"
  },
  "language_info": {
   "codemirror_mode": {
    "name": "ipython",
    "version": 3
   },
   "file_extension": ".py",
   "mimetype": "text/x-python",
   "name": "python",
   "nbconvert_exporter": "python",
   "pygments_lexer": "ipython3",
   "version": "3.10.14"
  }
 },
 "nbformat": 4,
 "nbformat_minor": 2
}
