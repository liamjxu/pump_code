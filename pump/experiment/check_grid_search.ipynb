{
 "cells": [
  {
   "cell_type": "code",
   "execution_count": 30,
   "metadata": {},
   "outputs": [],
   "source": [
    "survey_name = \"American_Trends_Panel_W34\"\n",
    "# survey_name = \"American_Trends_Panel_W41\"\n",
    "# survey_name = \"American_Trends_Panel_W82\"\n",
    "\n",
    "survey_grid_search_mapping = {\n",
    "    # \"American_Trends_Panel_W34\": \"date0904_personas_full_personadb_bn_hcbds_hp_grid_search.json\",\n",
    "    # \"American_Trends_Panel_W34\": \"date0904_personas_full_personadb_bn_hcbdeu_grid_search.json\",\n",
    "    \"American_Trends_Panel_W34\": \"date0904_personas_full_personadb_grid_search.json\",\n",
    "    # \"American_Trends_Panel_W34\": \"date0904_personas_full_personadb_bn_hcbic_grid_search.json\",\n",
    "    \n",
    "    # \"American_Trends_Panel_W41\": \"date0909_personas_full_personadb_bn_hcbds_grid_search.json\",\n",
    "    # \"American_Trends_Panel_W41\": \"date0904_personas_full_personadb_bn_hcbdeu_grid_search.json\",\n",
    "    \"American_Trends_Panel_W41\": \"date0904_personas_full_personadb_bn_hcbic_grid_search.json\",\n",
    "    \n",
    "    # \"American_Trends_Panel_W82\": \"date0909_personas_full_personadb_bn_hcbds_grid_search.json\" \n",
    "    \"American_Trends_Panel_W82\": \"date0904_personas_full_personadb_bn_hcbdeu_grid_search.json\" \n",
    "    # \"American_Trends_Panel_W82\": \"date0904_personas_full_personadb_bn_hcbic_grid_search.json\"\n",
    "}"
   ]
  },
  {
   "cell_type": "code",
   "execution_count": 31,
   "metadata": {},
   "outputs": [
    {
     "name": "stdout",
     "output_type": "stream",
     "text": [
      "81\n",
      "+----+--------------+---------+--------------+----------------------+----------------------------+\n",
      "|    | setting      |   top_k |   skew_thres |   most_is_gold_ratio |   gold_concentration_ratio |\n",
      "|----+--------------+---------+--------------+----------------------+----------------------------|\n",
      "|  2 | demo_persona |      80 |           10 |                0.648 |                   0.532919 |\n",
      "|  1 | demo_persona |      60 |           10 |                0.647 |                   0.534025 |\n",
      "|  6 | demo_persona |     250 |           10 |                0.646 |                   0.526903 |\n",
      "| 26 | demo_persona |     350 |            3 |                0.646 |                   0.524607 |\n",
      "| 28 | persona_only |      60 |           10 |                0.646 |                   0.53764  |\n",
      "|  9 | demo_persona |      40 |            5 |                0.645 |                   0.536219 |\n",
      "|  3 | demo_persona |     100 |           10 |                0.644 |                   0.531054 |\n",
      "|  7 | demo_persona |     300 |           10 |                0.643 |                   0.526277 |\n",
      "| 17 | demo_persona |     350 |            5 |                0.643 |                   0.525094 |\n",
      "| 29 | persona_only |      80 |           10 |                0.642 |                   0.536833 |\n",
      "| 25 | demo_persona |     300 |            3 |                0.642 |                   0.525504 |\n",
      "| 16 | demo_persona |     300 |            5 |                0.642 |                   0.526197 |\n",
      "| 34 | persona_only |     300 |           10 |                0.641 |                   0.525767 |\n",
      "| 11 | demo_persona |      80 |            5 |                0.64  |                   0.533796 |\n",
      "|  5 | demo_persona |     200 |           10 |                0.64  |                   0.527891 |\n",
      "| 23 | demo_persona |     200 |            3 |                0.639 |                   0.527001 |\n",
      "|  8 | demo_persona |     350 |           10 |                0.639 |                   0.525234 |\n",
      "| 19 | demo_persona |      60 |            3 |                0.639 |                   0.534015 |\n",
      "| 24 | demo_persona |     250 |            3 |                0.639 |                   0.525725 |\n",
      "| 35 | persona_only |     350 |           10 |                0.639 |                   0.52432  |\n",
      "| 10 | demo_persona |      60 |            5 |                0.638 |                   0.535426 |\n",
      "| 51 | persona_only |     250 |            3 |                0.637 |                   0.523902 |\n",
      "| 52 | persona_only |     300 |            3 |                0.637 |                   0.52279  |\n",
      "|  0 | demo_persona |      40 |           10 |                0.637 |                   0.534829 |\n",
      "| 14 | demo_persona |     200 |            5 |                0.637 |                   0.52813  |\n",
      "| 13 | demo_persona |     150 |            5 |                0.637 |                   0.53016  |\n",
      "| 12 | demo_persona |     100 |            5 |                0.637 |                   0.532044 |\n",
      "|  4 | demo_persona |     150 |           10 |                0.637 |                   0.52922  |\n",
      "| 15 | demo_persona |     250 |            5 |                0.636 |                   0.526664 |\n",
      "| 18 | demo_persona |      40 |            3 |                0.636 |                   0.533562 |\n",
      "| 41 | persona_only |     200 |            5 |                0.635 |                   0.523359 |\n",
      "| 20 | demo_persona |      80 |            3 |                0.635 |                   0.531507 |\n",
      "| 44 | persona_only |     350 |            5 |                0.635 |                   0.5205   |\n",
      "| 30 | persona_only |     100 |           10 |                0.635 |                   0.535611 |\n",
      "| 33 | persona_only |     250 |           10 |                0.635 |                   0.527599 |\n",
      "| 53 | persona_only |     350 |            3 |                0.634 |                   0.521598 |\n",
      "| 42 | persona_only |     250 |            5 |                0.634 |                   0.52256  |\n",
      "| 59 | demo_only    |     200 |           10 |                0.633 |                   0.520686 |\n",
      "| 68 | demo_only    |     200 |            5 |                0.633 |                   0.520686 |\n",
      "| 77 | demo_only    |     200 |            3 |                0.633 |                   0.520686 |\n",
      "| 62 | demo_only    |     350 |           10 |                0.632 |                   0.519739 |\n",
      "| 71 | demo_only    |     350 |            5 |                0.632 |                   0.519739 |\n",
      "| 43 | persona_only |     300 |            5 |                0.632 |                   0.520902 |\n",
      "| 80 | demo_only    |     350 |            3 |                0.632 |                   0.519739 |\n",
      "| 31 | persona_only |     150 |           10 |                0.632 |                   0.531979 |\n",
      "| 22 | demo_persona |     150 |            3 |                0.632 |                   0.528497 |\n",
      "| 21 | demo_persona |     100 |            3 |                0.631 |                   0.530809 |\n",
      "| 49 | persona_only |     150 |            3 |                0.631 |                   0.527335 |\n",
      "| 50 | persona_only |     200 |            3 |                0.631 |                   0.525888 |\n",
      "| 75 | demo_only    |     100 |            3 |                0.631 |                   0.520444 |\n",
      "| 57 | demo_only    |     100 |           10 |                0.631 |                   0.520444 |\n",
      "| 66 | demo_only    |     100 |            5 |                0.631 |                   0.520444 |\n",
      "| 46 | persona_only |      60 |            3 |                0.63  |                   0.534336 |\n",
      "| 36 | persona_only |      40 |            5 |                0.63  |                   0.532326 |\n",
      "| 60 | demo_only    |     250 |           10 |                0.629 |                   0.520863 |\n",
      "| 78 | demo_only    |     250 |            3 |                0.629 |                   0.520863 |\n",
      "| 76 | demo_only    |     150 |            3 |                0.629 |                   0.521908 |\n",
      "| 69 | demo_only    |     250 |            5 |                0.629 |                   0.520863 |\n",
      "| 67 | demo_only    |     150 |            5 |                0.629 |                   0.521908 |\n",
      "| 40 | persona_only |     150 |            5 |                0.629 |                   0.524904 |\n",
      "| 48 | persona_only |     100 |            3 |                0.629 |                   0.5309   |\n",
      "| 58 | demo_only    |     150 |           10 |                0.629 |                   0.521908 |\n",
      "| 38 | persona_only |      80 |            5 |                0.628 |                   0.528612 |\n",
      "| 27 | persona_only |      40 |           10 |                0.627 |                   0.539371 |\n",
      "| 32 | persona_only |     200 |           10 |                0.626 |                   0.529795 |\n",
      "| 64 | demo_only    |      60 |            5 |                0.626 |                   0.522358 |\n",
      "| 65 | demo_only    |      80 |            5 |                0.626 |                   0.520998 |\n",
      "| 56 | demo_only    |      80 |           10 |                0.626 |                   0.520998 |\n",
      "| 55 | demo_only    |      60 |           10 |                0.626 |                   0.522358 |\n",
      "| 73 | demo_only    |      60 |            3 |                0.626 |                   0.522358 |\n",
      "| 74 | demo_only    |      80 |            3 |                0.626 |                   0.520998 |\n",
      "| 37 | persona_only |      60 |            5 |                0.625 |                   0.529384 |\n",
      "| 63 | demo_only    |      40 |            5 |                0.625 |                   0.525374 |\n",
      "| 54 | demo_only    |      40 |           10 |                0.625 |                   0.525374 |\n",
      "| 72 | demo_only    |      40 |            3 |                0.625 |                   0.525374 |\n",
      "| 39 | persona_only |     100 |            5 |                0.624 |                   0.527565 |\n",
      "| 45 | persona_only |      40 |            3 |                0.624 |                   0.535894 |\n",
      "| 61 | demo_only    |     300 |           10 |                0.623 |                   0.520181 |\n",
      "| 79 | demo_only    |     300 |            3 |                0.623 |                   0.520181 |\n",
      "| 70 | demo_only    |     300 |            5 |                0.623 |                   0.520181 |\n",
      "| 47 | persona_only |      80 |            3 |                0.619 |                   0.532274 |\n",
      "+----+--------------+---------+--------------+----------------------+----------------------------+\n"
     ]
    }
   ],
   "source": [
    "import os\n",
    "import json\n",
    "\n",
    "os.chdir('/home/ubuntu/code/pump_post_midterm/pump')\n",
    "\n",
    "with open(f'opinions_qa/similar_users/{survey_name}/{survey_grid_search_mapping[survey_name]}') as f:\n",
    "    search = json.load(f)\n",
    "\n",
    "import pandas as pd\n",
    "import tabulate\n",
    "\n",
    "df = pd.DataFrame(search)\n",
    "\n",
    "subdf = df[['setting', 'top_k', 'skew_thres', 'most_is_gold_ratio', 'gold_concentration_ratio']].sort_values(by='most_is_gold_ratio', ascending=False)\n",
    "print(len(subdf))\n",
    "print(tabulate.tabulate(subdf, headers='keys', tablefmt='psql'))\n",
    "\n",
    "setting_mapping = {\n",
    "    \"demo_persona\": \"querydp\",\n",
    "    \"demo_only\": \"querydonly\",\n",
    "    \"persona_only\": \"queryponly\",\n",
    "}"
   ]
  },
  {
   "cell_type": "markdown",
   "metadata": {},
   "source": [
    "# Output a mapping"
   ]
  },
  {
   "cell_type": "code",
   "execution_count": 32,
   "metadata": {},
   "outputs": [
    {
     "name": "stdout",
     "output_type": "stream",
     "text": [
      "no\n",
      "opinions_qa/similar_users/American_Trends_Panel_W34/date0912_personas_full_personadb_idx1_querydp_trainAll_top60_skew10_withname.json\n"
     ]
    }
   ],
   "source": [
    "idx = 1\n",
    "date = '0912'\n",
    "\n",
    "if 'hcbds' in survey_grid_search_mapping[survey_name]: bn = 'bds'\n",
    "elif 'hcbdeu' in survey_grid_search_mapping[survey_name]: bn = 'bdeu'\n",
    "elif 'hcbic' in survey_grid_search_mapping[survey_name]: bn = 'bic'\n",
    "else: bn = 'no'\n",
    "\n",
    "row = df.iloc[idx]\n",
    "if bn == 'no':\n",
    "    mapping_name = f\"date{date}_personas_full_personadb_idx{idx}_{setting_mapping[row['setting']]}_trainAll_top{row['top_k']}_skew{row['skew_thres']}_withname.json\"\n",
    "else:\n",
    "    mapping_name = f\"date{date}_personas_full_personadb_bn_hc{bn}_idx{idx}_{setting_mapping[row['setting']]}_trainAll_top{row['top_k']}_skew{row['skew_thres']}_withname.json\"\n",
    "path = f'opinions_qa/similar_users/{survey_name}/{mapping_name}'\n",
    "print(bn)\n",
    "print(path)\n",
    "with open(path, 'w') as f:\n",
    "    json.dump(row['similar_user_mapping'], f, indent=4)"
   ]
  },
  {
   "cell_type": "code",
   "execution_count": null,
   "metadata": {},
   "outputs": [],
   "source": []
  },
  {
   "cell_type": "code",
   "execution_count": 3,
   "metadata": {},
   "outputs": [
    {
     "data": {
      "text/plain": [
       "0.28674417556808585"
      ]
     },
     "execution_count": 3,
     "metadata": {},
     "output_type": "execute_result"
    }
   ],
   "source": [
    "import numpy as np\n",
    "\n",
    "np.std([51.5, 51.2, 51.9])"
   ]
  },
  {
   "cell_type": "code",
   "execution_count": null,
   "metadata": {},
   "outputs": [],
   "source": []
  },
  {
   "cell_type": "markdown",
   "metadata": {},
   "source": [
    "# Check value of majority"
   ]
  },
  {
   "cell_type": "code",
   "execution_count": 33,
   "metadata": {},
   "outputs": [],
   "source": [
    "from src.utils import get_file_from_s3\n",
    "from collections import Counter"
   ]
  },
  {
   "cell_type": "code",
   "execution_count": 34,
   "metadata": {},
   "outputs": [],
   "source": [
    "resp_df = pd.read_csv(get_file_from_s3(f\"human_resp/{survey_name}/responses.csv\"))\n",
    "with open(f'experiment/data/human_resp/{survey_name}/user_test_q_key_mapping.json', 'r') as f:\n",
    "    user_test_q_key_mapping = json.load(f)\n",
    "test_user_list = list(user_test_q_key_mapping.keys())\n",
    "train_user_list = [str(_) for _ in range(len(resp_df)) if str(_) not in test_user_list]"
   ]
  },
  {
   "cell_type": "code",
   "execution_count": 35,
   "metadata": {},
   "outputs": [
    {
     "data": {
      "text/plain": [
       "(1689, 848)"
      ]
     },
     "execution_count": 35,
     "metadata": {},
     "output_type": "execute_result"
    }
   ],
   "source": [
    "len(train_user_list), len(test_user_list)"
   ]
  },
  {
   "cell_type": "code",
   "execution_count": 36,
   "metadata": {},
   "outputs": [],
   "source": [
    "train_user_list = [int(_) for _ in train_user_list]"
   ]
  },
  {
   "cell_type": "code",
   "execution_count": 37,
   "metadata": {},
   "outputs": [
    {
     "name": "stdout",
     "output_type": "stream",
     "text": [
      "Accuracy: 0.596\n"
     ]
    }
   ],
   "source": [
    "cnt = []\n",
    "for test_user in test_user_list:\n",
    "    for test_q in user_test_q_key_mapping[test_user]:\n",
    "        gold = resp_df[test_q].iloc[int(test_user)]\n",
    "\n",
    "        population = resp_df[test_q][resp_df['index'].isin(train_user_list)].dropna()\n",
    "        try:\n",
    "            majority = Counter(population).most_common(1)[0][0]\n",
    "        except:\n",
    "            print(Counter(population))\n",
    "            break\n",
    "        if majority == gold:\n",
    "            cnt.append(1)\n",
    "        else:\n",
    "            cnt.append(0)\n",
    "print('Accuracy:', sum(cnt)/len(cnt))"
   ]
  },
  {
   "cell_type": "code",
   "execution_count": null,
   "metadata": {},
   "outputs": [],
   "source": []
  },
  {
   "cell_type": "code",
   "execution_count": null,
   "metadata": {},
   "outputs": [],
   "source": []
  },
  {
   "cell_type": "markdown",
   "metadata": {},
   "source": [
    "# Check how many could be correct"
   ]
  },
  {
   "cell_type": "code",
   "execution_count": 38,
   "metadata": {},
   "outputs": [
    {
     "name": "stdout",
     "output_type": "stream",
     "text": [
      "0.646\n"
     ]
    }
   ],
   "source": [
    "import os\n",
    "os.chdir(\"/home/ubuntu/code/pump_post_midterm/pump\")\n",
    "\n",
    "from collections import Counter \n",
    "\n",
    "# path = \"opinions_qa/review/American_Trends_Panel_W34/date0905_v17_personadb_surveys_bdemo_American_Trends_Panel_W34_haikupred_prompt3_history_demo_persona_rag_run1\"\n",
    "# path = \"opinions_qa/review/American_Trends_Panel_W34/date0905_v17_personadb_surveys_bdemo_mostcommon40_American_Trends_Panel_W34_haikupred_prompt3_history_demo_persona_rag_run1\"\n",
    "path = \"opinions_qa/review/American_Trends_Panel_W34/date0905_v17_personadb_surveys_bdemo_mostcommon40_American_Trends_Panel_W34_haikupred_prompt3_history_demo_persona_rag_run1\"\n",
    "\n",
    "# Usage example\n",
    "start_marker = \"# Similar users' answers\"\n",
    "# start_marker = \"# Similar users' most common answer\"\n",
    "end_marker = \"# Your Prediction of the Participant's Response (answer with given options verbatim, no formatting, no punctuations or linebreaks at the end, don't explain)\"\n",
    "\n",
    "\n",
    "def extract_text_between_markers(file_path, start_marker, end_marker):\n",
    "    with open(file_path, 'r') as file:\n",
    "        lines = file.readlines()\n",
    "    gold = lines[-1][len(\"Gold: \"):]\n",
    "\n",
    "    # Initialize variables to track whether we are within the markers\n",
    "    capturing = False\n",
    "    extracted_lines = []\n",
    "\n",
    "    for line in lines:\n",
    "        if start_marker in line:\n",
    "            capturing = True\n",
    "            continue  # Skip the start marker line itself\n",
    "        elif end_marker in line:\n",
    "            capturing = False\n",
    "            break  # Stop once we reach the end marker line\n",
    "\n",
    "        if capturing:\n",
    "            extracted_lines.append(line.strip())  # Strip any surrounding whitespace\n",
    "\n",
    "    return gold, \"\\n\".join(extracted_lines)\n",
    "\n",
    "correct, total = 0, 0\n",
    "for filename in os.listdir(path):\n",
    "    file_path = f\"{path}/{filename}\"\n",
    "    gold, extracted_text = extract_text_between_markers(file_path, start_marker, end_marker)\n",
    "    most = Counter(extracted_text.split(\"\\n\")).most_common(1)[0][0]\n",
    "    if most == gold: correct += 1\n",
    "    total += 1\n",
    "print(correct/total)"
   ]
  },
  {
   "cell_type": "code",
   "execution_count": null,
   "metadata": {},
   "outputs": [],
   "source": []
  },
  {
   "cell_type": "code",
   "execution_count": null,
   "metadata": {},
   "outputs": [],
   "source": []
  },
  {
   "cell_type": "code",
   "execution_count": null,
   "metadata": {},
   "outputs": [],
   "source": []
  },
  {
   "cell_type": "code",
   "execution_count": null,
   "metadata": {},
   "outputs": [],
   "source": []
  }
 ],
 "metadata": {
  "kernelspec": {
   "display_name": "pump",
   "language": "python",
   "name": "python3"
  },
  "language_info": {
   "codemirror_mode": {
    "name": "ipython",
    "version": 3
   },
   "file_extension": ".py",
   "mimetype": "text/x-python",
   "name": "python",
   "nbconvert_exporter": "python",
   "pygments_lexer": "ipython3",
   "version": "3.10.14"
  }
 },
 "nbformat": 4,
 "nbformat_minor": 2
}
