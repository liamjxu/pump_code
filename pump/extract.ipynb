{
 "cells": [
  {
   "cell_type": "code",
   "execution_count": 1,
   "id": "d94af237-b409-41ab-bb28-79bda0235a3d",
   "metadata": {},
   "outputs": [
    {
     "data": {
      "text/plain": [
       "'Hello!'"
      ]
     },
     "execution_count": 1,
     "metadata": {},
     "output_type": "execute_result"
    }
   ],
   "source": [
    "from utils import get_llm_response, get_file, get_topics\n",
    "from tqdm import tqdm\n",
    "import numpy as np\n",
    "import pandas as pd\n",
    "\n",
    "get_llm_response('hi')"
   ]
  },
  {
   "cell_type": "code",
   "execution_count": 2,
   "id": "c170c431",
   "metadata": {
    "scrolled": true
   },
   "outputs": [],
   "source": [
    "mapping = np.load(get_file('human_resp/topic_mapping.npy'), allow_pickle=True)\n",
    "mapping = mapping.item()"
   ]
  },
  {
   "cell_type": "code",
   "execution_count": 3,
   "id": "d7b4a2fc",
   "metadata": {},
   "outputs": [],
   "source": [
    "from utils import get_file\n",
    "file_key = \"human_resp/American_Trends_Panel_W26/info.csv\"\n",
    "info_df = pd.read_csv(get_file(file_key))"
   ]
  },
  {
   "cell_type": "code",
   "execution_count": 8,
   "id": "457c9ba6-1399-4353-9415-7f5fedb49b39",
   "metadata": {},
   "outputs": [
    {
     "name": "stderr",
     "output_type": "stream",
     "text": [
      "0it [00:00, ?it/s]"
     ]
    },
    {
     "name": "stdout",
     "output_type": "stream",
     "text": [
      "{'topic_fg': ['community health'], 'topic_cg': ['community health'], 'question': 'How safe, if at all, would you say your local community is from crime? Would you say it is', 'options': \"['Very safe', 'Somewhat safe', 'Not too safe', 'Not at all safe', 'Refused']\"}\n"
     ]
    },
    {
     "name": "stderr",
     "output_type": "stream",
     "text": [
      "1it [00:03,  3.71s/it]"
     ]
    },
    {
     "name": "stdout",
     "output_type": "stream",
     "text": [
      "[\n",
      "    PersonaDimension(\n",
      "        name=\"Geographic Location\",\n",
      "        description=\"the specific area or neighborhood where the person lives\",\n",
      "        level=\"low\",\n",
      "        candidate_values=[\"urban\", \"suburban\", \"rural\"]\n",
      "    ),\n",
      "    PersonaDimension(\n",
      "        name=\"Socioeconomic Status\",\n",
      "        description=\"the person's income, education, and social standing, which can affect their perception of community safety\",\n",
      "        level=\"low\",\n",
      "        candidate_values=[\"high\", \"middle\", \"low\"]\n",
      "    ),\n",
      "    PersonaDimension(\n",
      "        name=\"Personal Experiences\",\n",
      "        description=\"the person's direct or indirect experiences with crime in their local community\",\n",
      "        level=\"low\",\n",
      "        candidate_values=[\"high crime exposure\", \"low crime exposure\"]\n",
      "    ),\n",
      "    PersonaDimension(\n",
      "        name=\"Risk Perception and Assessment\",\n",
      "        description=\"how the person evaluates the likelihood and potential impact of crime in their community\",\n",
      "        level=\"mid\",\n",
      "        candidate_values=[\"high perception of risk\", \"low perception of risk\"]\n",
      "    ),\n",
      "    PersonaDimension(\n",
      "        name=\"Emotional State\",\n",
      "        description=\"the person's levels of anxiety, fear, or concern about crime in their community\",\n",
      "        level=\"mid\",\n",
      "        candidate_values=[\"high anxiety\", \"low anxiety\"]\n",
      "    ),\n",
      "    PersonaDimension(\n",
      "        name=\"Personal Values\",\n",
      "        description=\"the person's prioritization of safety, security, or community cohesion\",\n",
      "        level=\"mid\",\n",
      "        candidate_values=[\"prioritizes safety\", \"prioritizes community\"]\n",
      "    ),\n",
      "    PersonaDimension(\n",
      "        name=\"Worldview and Belief System\",\n",
      "        description=\"the person's attitudes towards law enforcement, crime prevention, or social justice\",\n",
      "        level=\"high\",\n",
      "        candidate_values=[\"conservative worldview\", \"liberal worldview\", \"moderate worldview\"]\n",
      "    ),\n",
      "    PersonaDimension(\n",
      "        name=\"Personality Traits\",\n",
      "        description=\"the person's risk-averse or risk-taking tendencies, resilience, or optimism\",\n",
      "        level=\"high\",\n",
      "        candidate_values=[\"risk-averse\", \"risk-taking\"]\n",
      "    ),\n",
      "    PersonaDimension(\n",
      "        name=\"Psychological Factors\",\n",
      "        description=\"the person's levels of trust in authorities, sense of control, or coping mechanisms\",\n",
      "        level=\"high\",\n",
      "        candidate_values=[\"high trust\", \"low trust\"]\n",
      "    )\n",
      "]\n",
      "{'topic_fg': ['job/career'], 'topic_cg': ['job/career'], 'question': 'How much, if at all, do you worry about the following happening to you? Losing your job', 'options': \"['Worry a lot', 'Worry a little', 'Do not worry at all', 'Refused']\"}\n"
     ]
    },
    {
     "name": "stderr",
     "output_type": "stream",
     "text": [
      "5it [00:08,  1.54s/it]"
     ]
    },
    {
     "name": "stdout",
     "output_type": "stream",
     "text": [
      "[\n",
      "    PersonaDimension(\n",
      "        name=\"Job Security\",\n",
      "        description=\"perceived stability and risk of job loss\",\n",
      "        level=\"low\",\n",
      "        candidate_values=[\"high job security\", \"low job security\"]\n",
      "    ),\n",
      "    PersonaDimension(\n",
      "        name=\"Financial Situation\",\n",
      "        description=\"dependence on current income and ability to withstand job loss\",\n",
      "        level=\"low\",\n",
      "        candidate_values=[\"financially stable\", \"financially vulnerable\"]\n",
      "    ),\n",
      "    PersonaDimension(\n",
      "        name=\"Industry and Sector\",\n",
      "        description=\"the economic conditions and job market in the participant's industry\",\n",
      "        level=\"low\",\n",
      "        candidate_values=[\"high-risk industry\", \"low-risk industry\"]\n",
      "    ),\n",
      "    PersonaDimension(\n",
      "        name=\"Skill Set and Employability\",\n",
      "        description=\"the participant's confidence in their ability to find a new job\",\n",
      "        level=\"mid\",\n",
      "        candidate_values=[\"highly employable\", \"less employable\"]\n",
      "    ),\n",
      "    PersonaDimension(\n",
      "        name=\"Family and Dependents\",\n",
      "        description=\"the participant's financial responsibilities and support system\",\n",
      "        level=\"mid\",\n",
      "        candidate_values=[\"high dependents\", \"low dependents\"]\n",
      "    ),\n",
      "    PersonaDimension(\n",
      "        name=\"Risk Tolerance\",\n",
      "        description=\"the participant's willingness to take on job-related risks\",\n",
      "        level=\"mid\",\n",
      "        candidate_values=[\"risk-averse\", \"risk-tolerant\"]\n",
      "    ),\n",
      "    PersonaDimension(\n",
      "        name=\"Career Aspirations\",\n",
      "        description=\"the participant's long-term career goals and plans\",\n",
      "        level=\"high\",\n",
      "        candidate_values=[\"ambitious\", \"content\"]\n",
      "    ),\n",
      "    PersonaDimension(\n",
      "        name=\"Worldview and Beliefs\",\n",
      "        description=\"the participant's attitudes towards job security, economic conditions, and the role of government\",\n",
      "        level=\"high\",\n",
      "        candidate_values=[\"optimistic\", \"pessimistic\"]\n",
      "    ),\n",
      "    PersonaDimension(\n",
      "        name=\"Coping Mechanisms\",\n",
      "        description=\"the participant's strategies and resources for dealing with job loss\",\n",
      "        level=\"high\",\n",
      "        candidate_values=[\"proactive\", \"reactive\"]\n",
      "    )\n",
      "]\n",
      "{'topic_fg': ['healthcare system: healthcare system other'], 'topic_cg': ['healthcare system'], 'question': 'How much, if at all, do you worry about the following happening to you? Having a personal health crisis', 'options': \"['Worry a lot', 'Worry a little', 'Do not worry at all', 'Refused']\"}\n"
     ]
    },
    {
     "name": "stderr",
     "output_type": "stream",
     "text": [
      "10it [00:11,  1.16s/it]"
     ]
    },
    {
     "name": "stdout",
     "output_type": "stream",
     "text": [
      "[\n",
      "    PersonaDimension(\n",
      "        name=\"Health Status\",\n",
      "        description=\"current physical and mental health condition\",\n",
      "        level=\"low\",\n",
      "        candidate_values=[\"good health\", \"poor health\"]\n",
      "    ),\n",
      "    PersonaDimension(\n",
      "        name=\"Access to Healthcare\",\n",
      "        description=\"availability and affordability of healthcare services\",\n",
      "        level=\"low\",\n",
      "        candidate_values=[\"good access\", \"poor access\"]\n",
      "    ),\n",
      "    PersonaDimension(\n",
      "        name=\"Health Insurance Coverage\",\n",
      "        description=\"level of health insurance coverage and financial protection\",\n",
      "        level=\"low\",\n",
      "        candidate_values=[\"comprehensive coverage\", \"limited coverage\"]\n",
      "    ),\n",
      "    PersonaDimension(\n",
      "        name=\"Risk Perception and Assessment\",\n",
      "        description=\"perceived likelihood and potential impact of a personal health crisis\",\n",
      "        level=\"mid\",\n",
      "        candidate_values=[\"high perception\", \"low perception\"]\n",
      "    ),\n",
      "    PersonaDimension(\n",
      "        name=\"Emotional State\",\n",
      "        description=\"levels of anxiety, fear, or concern about a personal health crisis\",\n",
      "        level=\"mid\",\n",
      "        candidate_values=[\"high anxiety\", \"low anxiety\"]\n",
      "    ),\n",
      "    PersonaDimension(\n",
      "        name=\"Personal Values\",\n",
      "        description=\"prioritizing health, well-being, or financial security\",\n",
      "        level=\"mid\",\n",
      "        candidate_values=[\"prioritizes health\", \"prioritizes finances\"]\n",
      "    ),\n",
      "    PersonaDimension(\n",
      "        name=\"Worldview and Belief System\",\n",
      "        description=\"attitudes towards healthcare, personal responsibility, or government's role\",\n",
      "        level=\"high\",\n",
      "        candidate_values=[\"conservative worldview\", \"liberal worldview\", \"moderate worldview\"]\n",
      "    ),\n",
      "    PersonaDimension(\n",
      "        name=\"Personality Traits\",\n",
      "        description=\"risk-averse or risk-taking tendencies, resilience, or optimism\",\n",
      "        level=\"high\",\n",
      "        candidate_values=[\"risk-averse\", \"risk-taking\"]\n",
      "    ),\n",
      "    PersonaDimension(\n",
      "        name=\"Psychological Factors\",\n",
      "        description=\"levels of trust in healthcare system, sense of control, or coping mechanisms\",\n",
      "        level=\"high\",\n",
      "        candidate_values=[\"high trust\", \"low trust\"]\n",
      "    )\n",
      "]\n"
     ]
    },
    {
     "name": "stderr",
     "output_type": "stream",
     "text": [
      "\n"
     ]
    }
   ],
   "source": [
    "with open('prompts/get_personas_from_questions.txt') as f:\n",
    "    prompt_template = f.read()\n",
    "\n",
    "for idx, row in tqdm(info_df[:10].iterrows()):\n",
    "    topics = get_topics(mapping, row['question'])\n",
    "    input_dict = {\n",
    "        \"topic_fg\": topics['fg'],\n",
    "        \"topic_cg\": topics['cg'],\n",
    "        \"question\": row['question'],\n",
    "        \"options\": row['references'],\n",
    "    }\n",
    "    prompt = prompt_template.format(**input_dict)\n",
    "    if idx % 4 == 0:\n",
    "        print(input_dict)\n",
    "        print(get_llm_response(prompt, model_id='anthropic.claude-3-haiku-20240307-v1:0'))"
   ]
  },
  {
   "cell_type": "code",
   "execution_count": null,
   "id": "90c0130f-6443-4271-a9d8-3eff3550d48e",
   "metadata": {},
   "outputs": [],
   "source": []
  },
  {
   "cell_type": "code",
   "execution_count": null,
   "id": "ee58acd1-92d0-4769-8f61-5e97e54cac30",
   "metadata": {},
   "outputs": [],
   "source": []
  },
  {
   "cell_type": "code",
   "execution_count": null,
   "id": "ce47a302",
   "metadata": {},
   "outputs": [],
   "source": []
  },
  {
   "cell_type": "code",
   "execution_count": null,
   "id": "3a522c86",
   "metadata": {},
   "outputs": [],
   "source": []
  }
 ],
 "metadata": {
  "kernelspec": {
   "display_name": "Python 3 (ipykernel)",
   "language": "python",
   "name": "python3"
  },
  "language_info": {
   "codemirror_mode": {
    "name": "ipython",
    "version": 3
   },
   "file_extension": ".py",
   "mimetype": "text/x-python",
   "name": "python",
   "nbconvert_exporter": "python",
   "pygments_lexer": "ipython3",
   "version": "3.10.14"
  }
 },
 "nbformat": 4,
 "nbformat_minor": 5
}
