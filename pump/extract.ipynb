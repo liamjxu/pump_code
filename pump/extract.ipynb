{
 "cells": [
  {
   "cell_type": "code",
   "execution_count": 6,
   "id": "d94af237-b409-41ab-bb28-79bda0235a3d",
   "metadata": {},
   "outputs": [
    {
     "data": {
      "text/plain": [
       "'Hello!'"
      ]
     },
     "execution_count": 6,
     "metadata": {},
     "output_type": "execute_result"
    }
   ],
   "source": [
    "from utils import get_llm_response, get_file, get_topics\n",
    "from tqdm import tqdm\n",
    "import numpy as np\n",
    "import pandas as pd\n",
    "\n",
    "get_llm_response('hi')"
   ]
  },
  {
   "cell_type": "code",
   "execution_count": null,
   "id": "c170c431",
   "metadata": {},
   "outputs": [],
   "source": [
    "mapping = np.load(get_file('human_resp/topic_mapping.npy'), allow_pickle=True)\n",
    "mapping = mapping.item()\n",
    "mapping"
   ]
  },
  {
   "cell_type": "code",
   "execution_count": null,
   "id": "d7b4a2fc",
   "metadata": {},
   "outputs": [],
   "source": [
    "from utils import get_file\n",
    "file_key = \"human_resp/American_Trends_Panel_W26/info.csv\"\n",
    "info_df = pd.read_csv(get_file(file_key))"
   ]
  },
  {
   "cell_type": "code",
   "execution_count": 11,
   "id": "457c9ba6-1399-4353-9415-7f5fedb49b39",
   "metadata": {},
   "outputs": [
    {
     "name": "stderr",
     "output_type": "stream",
     "text": [
      "0it [00:00, ?it/s]"
     ]
    },
    {
     "name": "stdout",
     "output_type": "stream",
     "text": [
      "How much, if at all, do you worry about the following happening to you? Being the victim of a terrorist attack\n"
     ]
    },
    {
     "name": "stderr",
     "output_type": "stream",
     "text": [
      "1it [00:14, 14.02s/it]"
     ]
    },
    {
     "name": "stdout",
     "output_type": "stream",
     "text": [
      "This question can reveal different aspects of the participants' personas at various levels:\n",
      "\n",
      "Low-level personas (concrete):\n",
      "- Geographic location (e.g., living in an area with a higher or lower risk of terrorist attacks)\n",
      "- Personal experiences (e.g., having been affected by a terrorist attack in the past)\n",
      "- Occupation (e.g., working in a high-risk environment or for a potential target)\n",
      "\n",
      "Mid-level personas:\n",
      "- Risk perception and assessment (e.g., how they evaluate the likelihood and potential impact of a terrorist attack)\n",
      "- Emotional state (e.g., levels of anxiety, fear, or concern)\n",
      "- Personal values (e.g., prioritizing safety, security, or freedom from fear)\n",
      "\n",
      "High-level personas (abstract):\n",
      "- Worldview and belief system (e.g., attitudes towards terrorism, political ideologies, or cultural values)\n",
      "- Personality traits (e.g., risk-averse or risk-taking tendencies, resilience, or optimism)\n",
      "- Psychological factors (e.g., levels of trust in authorities, sense of control, or coping mechanisms)\n",
      "\n",
      "By analyzing the responses to this question, researchers may gain insights into various aspects of the participants' personas, ranging from concrete factors like their living environment to more abstract elements like their belief systems and psychological traits.\n",
      "Do you currently or have you ever owned a shotgun?\n"
     ]
    },
    {
     "name": "stderr",
     "output_type": "stream",
     "text": [
      "5it [00:21,  3.68s/it]"
     ]
    },
    {
     "name": "stdout",
     "output_type": "stream",
     "text": [
      "This question can reveal various aspects of the participants' personas at different levels:\n",
      "\n",
      "Low-level personas (concrete):\n",
      "- Gun ownership status (current or past)\n",
      "- Specific type of firearm owned (shotgun)\n",
      "\n",
      "Mid-level personas:\n",
      "- Interest in hunting or shooting sports\n",
      "- Involvement in activities that may require a shotgun (e.g., home defense, law enforcement, military service)\n",
      "- Familiarity with firearms and gun culture\n",
      "\n",
      "High-level personas (abstract):\n",
      "- Attitudes towards gun ownership and gun control laws\n",
      "- Personal values related to self-defense, personal liberty, or public safety\n",
      "- Cultural or regional influences on gun ownership\n",
      "\n",
      "The low-level personas are directly related to the factual information being asked, while the mid-level personas provide insights into potential interests, hobbies, or occupations associated with shotgun ownership. The high-level personas delve into the participants' broader beliefs, values, and cultural backgrounds that may shape their perspectives on gun ownership.\n",
      "Please indicate whether the following is a major reason, a minor reason, or not a reason why you own a gun. As part of a gun collection\n"
     ]
    },
    {
     "name": "stderr",
     "output_type": "stream",
     "text": [
      "10it [00:30,  3.00s/it]"
     ]
    },
    {
     "name": "stdout",
     "output_type": "stream",
     "text": [
      "This question can reveal different aspects of the participants' personas at various levels:\n",
      "\n",
      "Low-level personas (concrete):\n",
      "- Gun owner or non-gun owner\n",
      "- Collector or non-collector\n",
      "- Hobbyist or non-hobbyist\n",
      "\n",
      "Mid-level personas:\n",
      "- Interest in firearms or weapons\n",
      "- Appreciation for historical or cultural significance of guns\n",
      "- Desire for personal protection or self-defense\n",
      "- Participation in shooting sports or hunting activities\n",
      "\n",
      "High-level personas (abstract):\n",
      "- Valuing personal freedom or individual rights\n",
      "- Concern for safety and security\n",
      "- Appreciation for craftsmanship or engineering\n",
      "- Pursuit of leisure or recreational activities\n",
      "- Connection to cultural or historical traditions\n",
      "\n",
      "By asking about the reasons for owning a gun as part of a collection, the question can uncover various aspects of the participants' personas, ranging from concrete details like their ownership status and collecting habits, to more abstract traits and values related to their interests, beliefs, and lifestyles.\n"
     ]
    },
    {
     "name": "stderr",
     "output_type": "stream",
     "text": [
      "\n"
     ]
    }
   ],
   "source": [
    "with open('prompts/get_personas_from_questions.txt') as f:\n",
    "    prompt_template = f.read()\n",
    "\n",
    "for idx, row in tqdm(info_df[:10].iterrows()):\n",
    "    topics = get_topics(mapping, row['question'])\n",
    "    prompt = prompt_template.format(\n",
    "        topic_fg=topics['fg'],\n",
    "        topic_cg=topics['cg'],\n",
    "        question=row['question'],\n",
    "        options=row['references'],\n",
    "    )\n",
    "    if idx % 4 == 0:\n",
    "        print(get_llm_response(prompt))"
   ]
  },
  {
   "cell_type": "code",
   "execution_count": null,
   "id": "90c0130f-6443-4271-a9d8-3eff3550d48e",
   "metadata": {},
   "outputs": [],
   "source": []
  },
  {
   "cell_type": "code",
   "execution_count": null,
   "id": "ee58acd1-92d0-4769-8f61-5e97e54cac30",
   "metadata": {},
   "outputs": [],
   "source": []
  },
  {
   "cell_type": "code",
   "execution_count": null,
   "id": "ce47a302",
   "metadata": {},
   "outputs": [],
   "source": []
  },
  {
   "cell_type": "code",
   "execution_count": null,
   "id": "3a522c86",
   "metadata": {},
   "outputs": [],
   "source": []
  }
 ],
 "metadata": {
  "kernelspec": {
   "display_name": "Python 3 (ipykernel)",
   "language": "python",
   "name": "python3"
  },
  "language_info": {
   "codemirror_mode": {
    "name": "ipython",
    "version": 3
   },
   "file_extension": ".py",
   "mimetype": "text/x-python",
   "name": "python",
   "nbconvert_exporter": "python",
   "pygments_lexer": "ipython3",
   "version": "3.10.14"
  }
 },
 "nbformat": 4,
 "nbformat_minor": 5
}
