{
 "cells": [
  {
   "cell_type": "code",
   "execution_count": null,
   "metadata": {},
   "outputs": [],
   "source": [
    "data_string = '''\n",
    "[PersonaDimension(name='Political Ideology on Gun Ownership and Regulation', description=\"The participant's political beliefs and ideologies that influence their views on gun ownership, gun control, gun rights, and related regulations.\", level='high', candidate_values=['conservative', 'liberal', 'moderate']), PersonaDimension(name='Core Personal Values', description=\"The participant's fundamental values and priorities in life, such as safety, security, personal freedom, responsibility, self-reliance, and protection of self and family.\", level='high', candidate_values=['prioritizes safety and security', 'prioritizes personal freedom', 'prioritizes responsibility and self-reliance']), PersonaDimension(name='Risk Attitudes and Personality Traits', description=\"The individual's general tendencies towards risk-averse or risk-taking behavior, resilience, optimism, and personality characteristics that may influence attitudes towards guns and personal safety.\", level='high', candidate_values=['risk-averse', 'risk-taking', 'resilient', 'conscientious', 'open', 'agreeable', 'neurotic', 'extroverted', 'introverted']), PersonaDimension(name='Lifestyle Preferences', description='Inclination towards outdoor, rural, or urban lifestyles.', level='high', candidate_values=['outdoor lifestyle preference', 'urban lifestyle preference']), PersonaDimension(name='Locus of Control and Life Philosophy', description='The extent to which individuals believe they have control over their life outcomes, and their overall approach to life, such as living for the present or planning for the future.', level='high', candidate_values=['internal locus of control', 'external locus of control', 'present-oriented', 'future-oriented']), PersonaDimension(name='Career Aspirations and Resilience', description='Their long-term career goals, ambitions, and ability to cope with and bounce back from setbacks or challenges.', level='high', candidate_values=['ambitious career goals', 'modest career goals', 'highly resilient', 'less resilient']), PersonaDimension(name='Cultural Attitudes Towards Firearms', description=\"The cultural and societal norms, traditions, and attitudes surrounding gun ownership, use, and safety within the person's cultural context.\", level='high', candidate_values=['pro-gun culture', 'anti-gun culture']), PersonaDimension(name='Worldview and Belief System', description=\"The participant's overall worldview, belief system, and attitudes towards societal issues such as crime, violence, gun control, political ideologies, cultural values, environmental conservation, and the role of government.\", level='high', candidate_values=['conservative', 'liberal', 'moderate', 'optimistic', 'pessimistic', 'individualistic', 'collectivistic', 'authoritarian', 'libertarian', 'pro-environmental', 'anti-environmental']), PersonaDimension(name='Human Values', description='Principles and standards of behavior that are considered important in human interactions and societal functioning', level='high', candidate_values=['Conformity', 'Tradition', 'Security', 'Power', 'Achievement', 'Hedonism', 'Stimulation', 'Self-Direction', 'Universalism', 'Benevolence']), PersonaDimension(name='Political and Ideological Views on Guns', description=\"The person's overall worldview, belief system, and political ideology regarding gun ownership, gun rights, and gun control.\", level='high', candidate_values=['pro-gun rights', 'pro-gun control', 'neutral']), PersonaDimension(name='Trust in Institutions and Authorities', description='The level of trust in government, law enforcement, regulatory bodies, and the justice system regarding gun policies, regulations, and public safety.', level='high', candidate_values=['high trust', 'low trust']), PersonaDimension(name='Sense of Responsibility', description=\"The individual's sense of personal accountability and responsibility towards ensuring safety, preventing accidents, and prioritizing the well-being of others and society.\", level='high', candidate_values=['high responsibility', 'low responsibility'])]\n",
    "'''"
   ]
  },
  {
   "cell_type": "code",
   "execution_count": null,
   "metadata": {},
   "outputs": [],
   "source": []
  }
 ],
 "metadata": {
  "language_info": {
   "name": "python"
  }
 },
 "nbformat": 4,
 "nbformat_minor": 2
}
