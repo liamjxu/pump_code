{
 "cells": [
  {
   "cell_type": "code",
   "execution_count": 2,
   "metadata": {},
   "outputs": [],
   "source": [
    "import json"
   ]
  },
  {
   "cell_type": "code",
   "execution_count": 5,
   "metadata": {},
   "outputs": [],
   "source": [
    "def get_exp(exp):\n",
    "    root_dir = f'sm_local/outputs_{exp}'\n",
    "    loggings = f\"{root_dir}/loggings.json\"\n",
    "    with open(loggings, 'r') as f:\n",
    "        loggings = json.load(f)\n",
    "\n",
    "    extraction = loggings['extraction']\n",
    "    avg_ext_valid = sum([_['valid_ratio'] * _['num_questions_used'] for _ in extraction]) / sum([_['num_questions_used'] for _ in extraction])\n",
    "    avg_ext_num_persona = sum([_['total_num_personas_extracted'] for _ in extraction]) / len(extraction)\n",
    "    avg_ext_time = sum([_['extraction_time'] for _ in extraction]) / len(extraction)\n",
    "    # print('num_personas:', avg_ext_num_persona)\n",
    "    # print('valid_ratio:', avg_ext_valid)\n",
    "    # print('time:', avg_ext_time)\n",
    "    # print()\n",
    "\n",
    "    clustering = loggings['clustering']\n",
    "    avg_cluster_time = sum([_['clustering_time'] for _ in clustering]) / len(clustering)\n",
    "\n",
    "    # print('time:', avg_cluster_time)\n",
    "    # print()\n",
    "\n",
    "    summarizing = loggings['summarizing']\n",
    "    avg_cluster_generated = sum([_['num_of_clusters'] for _ in summarizing]) / len(summarizing)\n",
    "    avg_sum_persona_generated = sum([_['num_of_personas'] for _ in summarizing]) / len(summarizing)\n",
    "    avg_sum_valid = sum([_['valid_ratio'] for _ in summarizing]) / len(summarizing)\n",
    "    avg_sum_time = sum([_['summarizing_time'] for _ in summarizing]) / len(summarizing)\n",
    "    # print('valid_ratio:', avg_sum_valid)\n",
    "    # print('time:', avg_sum_time)\n",
    "    # print()\n",
    "\n",
    "    cleaning = loggings['cleaning']\n",
    "    avg_clean_valid = sum([_['is_successful'] for _ in cleaning]) / len(cleaning)\n",
    "    avg_clean_num_persona = sum([_['num_final_personas'] for _ in cleaning]) / len(cleaning)\n",
    "    avg_clean_time = sum([_['cleaning_time'] for _ in cleaning]) / len(cleaning)\n",
    "    # print('num_personas:', avg_clean_num_persona)\n",
    "    # print('valid_ratio:', avg_clean_valid)\n",
    "    # print('time:', avg_clean_time)\n",
    "\n",
    "    res = [\n",
    "        avg_ext_valid,\n",
    "        avg_ext_num_persona,\n",
    "        avg_ext_time,\n",
    "        avg_cluster_generated,\n",
    "        avg_cluster_time,\n",
    "        avg_sum_persona_generated,\n",
    "        avg_sum_valid,\n",
    "        avg_sum_time,\n",
    "        avg_clean_valid,\n",
    "        avg_clean_num_persona,\n",
    "        avg_clean_time\n",
    "    ]\n",
    "\n",
    "    return res"
   ]
  },
  {
   "cell_type": "code",
   "execution_count": 9,
   "metadata": {},
   "outputs": [
    {
     "name": "stdout",
     "output_type": "stream",
     "text": [
      "haiku;kmeans;10;single;example;1.000;737.600;383.647;10.000;81.111;41.467;0.960;29.767;0.867;33.000;35.057\n",
      "haiku;kmeans;10;single;description;1.000;290.000;183.585;10.000;37.716;26.200;1.000;18.241;0.933;21.400;19.838\n",
      "haiku;kmeans;20;single;example;1.000;740.000;385.673;20.000;81.937;47.667;1.000;34.058;0.667;22.733;51.028\n",
      "haiku;gmm;10;single;example;1.000;734.400;382.350;10.000;363.321;39.400;0.960;29.717;0.800;27.133;38.241\n",
      "haiku;dbscan;-1;single;example;1.000;740.000;395.318;5.133;81.221;5.467;0.933;5.103;0.933;5.333;4.848\n",
      "haiku;kmeans;10;same_topic;example;1.000;2822.000;1487.892;10.000;310.600;46.000;0.800;48.685;0.667;22.000;50.041\n",
      "sonnet;kmeans;10;single;example;1.000;682.600;1058.366;10.000;66.282;20.533;1.000;55.342;0.867;17.133;40.706\n",
      "sonnet;kmeans;10;single;description;0.998;247.400;534.450;10.000;31.378;13.533;0.967;40.696;0.933;11.933;27.270\n",
      "sonnet;kmeans;20;single;example;1.000;682.000;1060.253;20.000;66.026;26.000;1.000;77.472;0.867;21.800;52.923\n",
      "sonnet;gmm;10;single;example;1.000;682.600;1067.014;10.000;350.474;19.200;0.993;52.437;0.867;16.333;40.385\n",
      "sonnet;dbscan;-1;single;example;0.998;682.200;1023.026;5.400;65.888;5.600;1.000;16.606;1.000;5.067;8.923\n",
      "sonnet;kmeans;10;same_topic;example;1.000;2622.000;3803.404;10.000;252.929;21.667;0.967;82.551;1.000;21.000;40.549\n"
     ]
    }
   ],
   "source": [
    "for llm in ['haiku', 'sonnet']:\n",
    "    kmeans = 10\n",
    "    survey = 'single'\n",
    "    extraction_type = 'example'\n",
    "    exp = f'{llm}_kmeans{kmeans}_{survey}_{extraction_type}'\n",
    "    avg_ext_valid, avg_ext_num_persona, avg_ext_time, avg_cluster_generated, avg_cluster_time, avg_sum_persona_generated, avg_sum_valid, avg_sum_time, avg_clean_valid, avg_clean_num_persona, avg_clean_time = get_exp(exp)\n",
    "    print(f\"{llm};kmeans;{kmeans};{survey};{extraction_type};{avg_ext_valid:.3f};{avg_ext_num_persona:.3f};{avg_ext_time:.3f};{avg_cluster_generated:.3f};{avg_cluster_time:.3f};{avg_sum_persona_generated:.3f};{avg_sum_valid:.3f};{avg_sum_time:.3f};{avg_clean_valid:.3f};{avg_clean_num_persona:.3f};{avg_clean_time:.3f}\")\n",
    "    \n",
    "    kmeans = 10\n",
    "    survey = 'single'\n",
    "    extraction_type = 'description'\n",
    "    exp = f'{llm}_kmeans{kmeans}_{survey}_{extraction_type}'\n",
    "    avg_ext_valid, avg_ext_num_persona, avg_ext_time, avg_cluster_generated, avg_cluster_time, avg_sum_persona_generated, avg_sum_valid, avg_sum_time, avg_clean_valid, avg_clean_num_persona, avg_clean_time = get_exp(exp)\n",
    "    print(f\"{llm};kmeans;{kmeans};{survey};{extraction_type};{avg_ext_valid:.3f};{avg_ext_num_persona:.3f};{avg_ext_time:.3f};{avg_cluster_generated:.3f};{avg_cluster_time:.3f};{avg_sum_persona_generated:.3f};{avg_sum_valid:.3f};{avg_sum_time:.3f};{avg_clean_valid:.3f};{avg_clean_num_persona:.3f};{avg_clean_time:.3f}\")\n",
    "   \n",
    "    kmeans = 20\n",
    "    survey = 'single'\n",
    "    extraction_type = 'example'\n",
    "    exp = f'{llm}_kmeans{kmeans}_{survey}_{extraction_type}'\n",
    "    avg_ext_valid, avg_ext_num_persona, avg_ext_time, avg_cluster_generated, avg_cluster_time, avg_sum_persona_generated, avg_sum_valid, avg_sum_time, avg_clean_valid, avg_clean_num_persona, avg_clean_time = get_exp(exp)\n",
    "    print(f\"{llm};kmeans;{kmeans};{survey};{extraction_type};{avg_ext_valid:.3f};{avg_ext_num_persona:.3f};{avg_ext_time:.3f};{avg_cluster_generated:.3f};{avg_cluster_time:.3f};{avg_sum_persona_generated:.3f};{avg_sum_valid:.3f};{avg_sum_time:.3f};{avg_clean_valid:.3f};{avg_clean_num_persona:.3f};{avg_clean_time:.3f}\")\n",
    "   \n",
    "    gmm = 10\n",
    "    survey = 'single'\n",
    "    extraction_type = 'example'\n",
    "    exp = f'{llm}_gmm{gmm}_{survey}_{extraction_type}'\n",
    "    avg_ext_valid, avg_ext_num_persona, avg_ext_time, avg_cluster_generated, avg_cluster_time, avg_sum_persona_generated, avg_sum_valid, avg_sum_time, avg_clean_valid, avg_clean_num_persona, avg_clean_time = get_exp(exp)\n",
    "    print(f\"{llm};gmm;{gmm};{survey};{extraction_type};{avg_ext_valid:.3f};{avg_ext_num_persona:.3f};{avg_ext_time:.3f};{avg_cluster_generated:.3f};{avg_cluster_time:.3f};{avg_sum_persona_generated:.3f};{avg_sum_valid:.3f};{avg_sum_time:.3f};{avg_clean_valid:.3f};{avg_clean_num_persona:.3f};{avg_clean_time:.3f}\")\n",
    "\n",
    "    survey = 'single'\n",
    "    extraction_type = 'example'\n",
    "    exp = f'{llm}_dbscan_{survey}_{extraction_type}_test'\n",
    "    avg_ext_valid, avg_ext_num_persona, avg_ext_time, avg_cluster_generated, avg_cluster_time, avg_sum_persona_generated, avg_sum_valid, avg_sum_time, avg_clean_valid, avg_clean_num_persona, avg_clean_time = get_exp(exp)\n",
    "    print(f\"{llm};dbscan;-1;{survey};{extraction_type};{avg_ext_valid:.3f};{avg_ext_num_persona:.3f};{avg_ext_time:.3f};{avg_cluster_generated:.3f};{avg_cluster_time:.3f};{avg_sum_persona_generated:.3f};{avg_sum_valid:.3f};{avg_sum_time:.3f};{avg_clean_valid:.3f};{avg_clean_num_persona:.3f};{avg_clean_time:.3f}\")\n",
    "\n",
    "    kmeans = 10\n",
    "    survey = 'same_topic'\n",
    "    extraction_type = 'example'\n",
    "    exp = f'{llm}_kmeans{kmeans}_{survey}_{extraction_type}'\n",
    "    avg_ext_valid, avg_ext_num_persona, avg_ext_time, avg_cluster_generated, avg_cluster_time, avg_sum_persona_generated, avg_sum_valid, avg_sum_time, avg_clean_valid, avg_clean_num_persona, avg_clean_time = get_exp(exp)\n",
    "    print(f\"{llm};kmeans;{kmeans};{survey};{extraction_type};{avg_ext_valid:.3f};{avg_ext_num_persona:.3f};{avg_ext_time:.3f};{avg_cluster_generated:.3f};{avg_cluster_time:.3f};{avg_sum_persona_generated:.3f};{avg_sum_valid:.3f};{avg_sum_time:.3f};{avg_clean_valid:.3f};{avg_clean_num_persona:.3f};{avg_clean_time:.3f}\")\n",
    "    \n",
    "    # kmeans = 10\n",
    "    # survey = 'same_topic'\n",
    "    # extraction_type = 'description'\n",
    "    # exp = f'{llm}_kmeans{kmeans}_{survey}_{extraction_type}'\n",
    "    # avg_ext_valid, avg_ext_num_persona, avg_ext_time, avg_cluster_time, avg_sum_valid, avg_sum_time, avg_clean_valid, avg_clean_num_persona, avg_clean_time = get_exp(exp)\n",
    "    # print(f\"{llm};kmeans;{kmeans};{survey};{extraction_type};{avg_ext_valid:.3f};{avg_ext_num_persona:.3f};{avg_ext_time:.3f};{avg_cluster_time:.3f};{avg_sum_valid:.3f};{avg_sum_time:.3f};{avg_clean_valid:.3f};{avg_clean_num_persona:.3f};{avg_clean_time:.3f}\")\n",
    "    \n",
    "\n",
    "    "
   ]
  },
  {
   "cell_type": "code",
   "execution_count": 12,
   "metadata": {},
   "outputs": [],
   "source": [
    "import pandas as pd\n",
    "\n",
    "# get file path under sm_local\n",
    "model = 'haiku'\n",
    "for kmeans in ['10']:\n",
    "    for level in ['high','mid','low']:\n",
    "        file_name = f\"sm_local/outputs_{model}_kmeans{kmeans}_single_example/cleaned/cleaned_{level}_level_personas_American_Trends_Panel_W26.json\"\n",
    "        df = pd.read_json(file_name)\n",
    "        df.to_csv(f'{model}_kmeans_{kmeans}_single_example_W26_{level}.csv')"
   ]
  },
  {
   "cell_type": "code",
   "execution_count": 17,
   "metadata": {},
   "outputs": [
    {
     "data": {
      "text/plain": [
       "['outputs_haiku_kmeans20_single_example',\n",
       " 'outputs_sonnet_kmeans10_single_example',\n",
       " 'outputs_haiku_dbscan_single_example_test',\n",
       " 'outputs_sonnet_gmm10_single_example',\n",
       " 'outputs_sonnet_kmeans10_same_topic_description',\n",
       " 'outputs_sonnet_kmeans20_single_example',\n",
       " 'outputs_sonnet_kmeans10_single_description',\n",
       " 'outputs_haiku_gmm10_single_example',\n",
       " 'outputs_haiku_kmeans10_same_topic_description',\n",
       " 'outputs_haiku_kmeans10_same_topic_example',\n",
       " 'outputs_haiku_kmeans10_single_example',\n",
       " 'outputs_haiku_kmeans10_single_description',\n",
       " 'outputs_sonnet_kmeans10_same_topic_example',\n",
       " 'outputs_sonnet_dbscan_single_example_test']"
      ]
     },
     "execution_count": 17,
     "metadata": {},
     "output_type": "execute_result"
    }
   ],
   "source": [
    "# list all folders in 'pump/sm_local'\n",
    "\n",
    "import os\n",
    "\n",
    "folders = [_ for _ in os.listdir('sm_local') if _.startswith('outputs') and 'meanshift' not in _]\n",
    "folders"
   ]
  },
  {
   "cell_type": "code",
   "execution_count": 27,
   "metadata": {},
   "outputs": [
    {
     "name": "stdout",
     "output_type": "stream",
     "text": [
      "sm_local/outputs_haiku_kmeans20_single_example/cleaned\n",
      "sm_local/outputs_sonnet_kmeans10_single_example/cleaned\n",
      "sm_local/outputs_haiku_dbscan_single_example_test/cleaned\n",
      "sm_local/outputs_sonnet_gmm10_single_example/cleaned\n",
      "sm_local/outputs_sonnet_kmeans10_same_topic_description/cleaned\n",
      "sm_local/outputs_sonnet_kmeans20_single_example/cleaned\n",
      "sm_local/outputs_sonnet_kmeans10_single_description/cleaned\n",
      "sm_local/outputs_haiku_gmm10_single_example/cleaned\n",
      "sm_local/outputs_haiku_kmeans10_same_topic_description/cleaned\n",
      "sm_local/outputs_haiku_kmeans10_same_topic_example/cleaned\n",
      "sm_local/outputs_haiku_kmeans10_single_example/cleaned\n",
      "sm_local/outputs_haiku_kmeans10_single_description/cleaned\n",
      "sm_local/outputs_sonnet_kmeans10_same_topic_example/cleaned\n",
      "sm_local/outputs_sonnet_dbscan_single_example_test/cleaned\n"
     ]
    }
   ],
   "source": [
    "for config in folders:\n",
    "    cleaned_dir = f\"sm_local/{config}/cleaned\"\n",
    "    print(cleaned_dir)\n",
    "\n",
    "    for filename in os.listdir(cleaned_dir):\n",
    "        exp = filename[:-5]\n",
    "        os.makedirs(f\"sm_local/results/{config}/\", exist_ok=True)\n",
    "        df = pd.read_json(f\"sm_local/{config}/cleaned/{exp}.json\")\n",
    "        df.to_csv(f\"sm_local/results/{config}/{exp}.csv\")\n",
    "        df.to_json(f\"sm_local/results/{config}/{exp}.json\", indent=4, orient=\"records\")"
   ]
  },
  {
   "cell_type": "code",
   "execution_count": null,
   "metadata": {},
   "outputs": [],
   "source": []
  }
 ],
 "metadata": {
  "kernelspec": {
   "display_name": "pump",
   "language": "python",
   "name": "python3"
  },
  "language_info": {
   "codemirror_mode": {
    "name": "ipython",
    "version": 3
   },
   "file_extension": ".py",
   "mimetype": "text/x-python",
   "name": "python",
   "nbconvert_exporter": "python",
   "pygments_lexer": "ipython3",
   "version": "3.10.14"
  }
 },
 "nbformat": 4,
 "nbformat_minor": 2
}
