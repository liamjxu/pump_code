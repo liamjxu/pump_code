{
 "cells": [
  {
   "cell_type": "code",
   "execution_count": 1,
   "metadata": {},
   "outputs": [],
   "source": [
    "import json"
   ]
  },
  {
   "cell_type": "code",
   "execution_count": null,
   "metadata": {},
   "outputs": [],
   "source": []
  },
  {
   "cell_type": "code",
   "execution_count": 2,
   "metadata": {},
   "outputs": [],
   "source": [
    "def get_exp(exp):\n",
    "    root_dir = f'sm_local/outputs_{exp}'\n",
    "    loggings = f\"{root_dir}/loggings.json\"\n",
    "    with open(loggings, 'r') as f:\n",
    "        loggings = json.load(f)\n",
    "\n",
    "    extraction = loggings['extraction']\n",
    "    avg_ext_valid = sum([_['valid_ratio'] * _['num_questions_used'] for _ in extraction]) / sum([_['num_questions_used'] for _ in extraction])\n",
    "    avg_ext_num_persona = sum([_['total_num_personas_extracted'] for _ in extraction]) / len(extraction)\n",
    "    avg_ext_time = sum([_['extraction_time'] for _ in extraction]) / len(extraction)\n",
    "    # print('num_personas:', avg_ext_num_persona)\n",
    "    # print('valid_ratio:', avg_ext_valid)\n",
    "    # print('time:', avg_ext_time)\n",
    "    # print()\n",
    "\n",
    "    clustering = loggings['clustering']\n",
    "    avg_cluster_time = sum([_['clustering_time'] for _ in clustering]) / len(clustering)\n",
    "    # print('time:', avg_cluster_time)\n",
    "    # print()\n",
    "\n",
    "    summarizing = loggings['summarizing']\n",
    "    avg_sum_valid = sum([_['valid_ratio'] for _ in summarizing]) / len(summarizing)\n",
    "    avg_sum_time = sum([_['summarizing_time'] for _ in summarizing]) / len(summarizing)\n",
    "    # print('valid_ratio:', avg_sum_valid)\n",
    "    # print('time:', avg_sum_time)\n",
    "    # print()\n",
    "\n",
    "    cleaning = loggings['cleaning']\n",
    "    avg_clean_valid = sum([_['is_successful'] for _ in cleaning]) / len(cleaning)\n",
    "    avg_clean_num_persona = sum([_['num_final_personas'] for _ in cleaning]) / len(cleaning)\n",
    "    avg_clean_time = sum([_['cleaning_time'] for _ in cleaning]) / len(cleaning)\n",
    "    # print('num_personas:', avg_clean_num_persona)\n",
    "    # print('valid_ratio:', avg_clean_valid)\n",
    "    # print('time:', avg_clean_time)\n",
    "\n",
    "    res = [\n",
    "        avg_ext_valid, avg_ext_num_persona, avg_ext_time, avg_cluster_time, avg_sum_valid, avg_sum_time, avg_clean_valid, avg_clean_num_persona, avg_clean_time\n",
    "    ]\n",
    "\n",
    "    return res"
   ]
  },
  {
   "cell_type": "code",
   "execution_count": 4,
   "metadata": {},
   "outputs": [
    {
     "name": "stdout",
     "output_type": "stream",
     "text": [
      "haiku;kmeans;20;single;example;1.000;752.800;436.514;85.202;0.993;44.802;0.600;21.600;69.847\n",
      "haiku;kmeans;single;example;0.998;759.600;433.564;86.788;0.967;36.395;0.867;31.000;40.443\n",
      "haiku;kmeans;single;description;0.716;225.200;225.480;30.138;0.987;18.987;1.000;18.867;13.228\n",
      "sonnet;kmeans;20;single;example;0.998;725.600;1142.642;71.220;1.000;84.603;1.000;25.800;70.975\n",
      "sonnet;kmeans;single;example;0.998;727.600;1060.569;71.632;0.993;58.143;0.933;16.533;40.472\n"
     ]
    },
    {
     "ename": "KeyError",
     "evalue": "'clustering'",
     "output_type": "error",
     "traceback": [
      "\u001b[0;31m---------------------------------------------------------------------------\u001b[0m",
      "\u001b[0;31mKeyError\u001b[0m                                  Traceback (most recent call last)",
      "Cell \u001b[0;32mIn[4], line 19\u001b[0m\n\u001b[1;32m     17\u001b[0m extraction_type \u001b[38;5;241m=\u001b[39m \u001b[38;5;124m'\u001b[39m\u001b[38;5;124mdescription\u001b[39m\u001b[38;5;124m'\u001b[39m\n\u001b[1;32m     18\u001b[0m exp \u001b[38;5;241m=\u001b[39m \u001b[38;5;124mf\u001b[39m\u001b[38;5;124m'\u001b[39m\u001b[38;5;132;01m{\u001b[39;00mllm\u001b[38;5;132;01m}\u001b[39;00m\u001b[38;5;124m_kmeans\u001b[39m\u001b[38;5;132;01m{\u001b[39;00mkmeans\u001b[38;5;132;01m}\u001b[39;00m\u001b[38;5;124m_\u001b[39m\u001b[38;5;132;01m{\u001b[39;00msurvey\u001b[38;5;132;01m}\u001b[39;00m\u001b[38;5;124m_\u001b[39m\u001b[38;5;132;01m{\u001b[39;00mextraction_type\u001b[38;5;132;01m}\u001b[39;00m\u001b[38;5;124m'\u001b[39m\n\u001b[0;32m---> 19\u001b[0m avg_ext_valid, avg_ext_num_persona, avg_ext_time, avg_cluster_time, avg_sum_valid, avg_sum_time, avg_clean_valid, avg_clean_num_persona, avg_clean_time \u001b[38;5;241m=\u001b[39m \u001b[43mget_exp\u001b[49m\u001b[43m(\u001b[49m\u001b[43mexp\u001b[49m\u001b[43m)\u001b[49m\n\u001b[1;32m     20\u001b[0m \u001b[38;5;28mprint\u001b[39m(\u001b[38;5;124mf\u001b[39m\u001b[38;5;124m\"\u001b[39m\u001b[38;5;132;01m{\u001b[39;00mllm\u001b[38;5;132;01m}\u001b[39;00m\u001b[38;5;124m;kmeans;\u001b[39m\u001b[38;5;132;01m{\u001b[39;00msurvey\u001b[38;5;132;01m}\u001b[39;00m\u001b[38;5;124m;\u001b[39m\u001b[38;5;132;01m{\u001b[39;00mextraction_type\u001b[38;5;132;01m}\u001b[39;00m\u001b[38;5;124m;\u001b[39m\u001b[38;5;132;01m{\u001b[39;00mavg_ext_valid\u001b[38;5;132;01m:\u001b[39;00m\u001b[38;5;124m.3f\u001b[39m\u001b[38;5;132;01m}\u001b[39;00m\u001b[38;5;124m;\u001b[39m\u001b[38;5;132;01m{\u001b[39;00mavg_ext_num_persona\u001b[38;5;132;01m:\u001b[39;00m\u001b[38;5;124m.3f\u001b[39m\u001b[38;5;132;01m}\u001b[39;00m\u001b[38;5;124m;\u001b[39m\u001b[38;5;132;01m{\u001b[39;00mavg_ext_time\u001b[38;5;132;01m:\u001b[39;00m\u001b[38;5;124m.3f\u001b[39m\u001b[38;5;132;01m}\u001b[39;00m\u001b[38;5;124m;\u001b[39m\u001b[38;5;132;01m{\u001b[39;00mavg_cluster_time\u001b[38;5;132;01m:\u001b[39;00m\u001b[38;5;124m.3f\u001b[39m\u001b[38;5;132;01m}\u001b[39;00m\u001b[38;5;124m;\u001b[39m\u001b[38;5;132;01m{\u001b[39;00mavg_sum_valid\u001b[38;5;132;01m:\u001b[39;00m\u001b[38;5;124m.3f\u001b[39m\u001b[38;5;132;01m}\u001b[39;00m\u001b[38;5;124m;\u001b[39m\u001b[38;5;132;01m{\u001b[39;00mavg_sum_time\u001b[38;5;132;01m:\u001b[39;00m\u001b[38;5;124m.3f\u001b[39m\u001b[38;5;132;01m}\u001b[39;00m\u001b[38;5;124m;\u001b[39m\u001b[38;5;132;01m{\u001b[39;00mavg_clean_valid\u001b[38;5;132;01m:\u001b[39;00m\u001b[38;5;124m.3f\u001b[39m\u001b[38;5;132;01m}\u001b[39;00m\u001b[38;5;124m;\u001b[39m\u001b[38;5;132;01m{\u001b[39;00mavg_clean_num_persona\u001b[38;5;132;01m:\u001b[39;00m\u001b[38;5;124m.3f\u001b[39m\u001b[38;5;132;01m}\u001b[39;00m\u001b[38;5;124m;\u001b[39m\u001b[38;5;132;01m{\u001b[39;00mavg_clean_time\u001b[38;5;132;01m:\u001b[39;00m\u001b[38;5;124m.3f\u001b[39m\u001b[38;5;132;01m}\u001b[39;00m\u001b[38;5;124m\"\u001b[39m)\n",
      "Cell \u001b[0;32mIn[2], line 16\u001b[0m, in \u001b[0;36mget_exp\u001b[0;34m(exp)\u001b[0m\n\u001b[1;32m     10\u001b[0m avg_ext_time \u001b[38;5;241m=\u001b[39m \u001b[38;5;28msum\u001b[39m([_[\u001b[38;5;124m'\u001b[39m\u001b[38;5;124mextraction_time\u001b[39m\u001b[38;5;124m'\u001b[39m] \u001b[38;5;28;01mfor\u001b[39;00m _ \u001b[38;5;129;01min\u001b[39;00m extraction]) \u001b[38;5;241m/\u001b[39m \u001b[38;5;28mlen\u001b[39m(extraction)\n\u001b[1;32m     11\u001b[0m \u001b[38;5;66;03m# print('num_personas:', avg_ext_num_persona)\u001b[39;00m\n\u001b[1;32m     12\u001b[0m \u001b[38;5;66;03m# print('valid_ratio:', avg_ext_valid)\u001b[39;00m\n\u001b[1;32m     13\u001b[0m \u001b[38;5;66;03m# print('time:', avg_ext_time)\u001b[39;00m\n\u001b[1;32m     14\u001b[0m \u001b[38;5;66;03m# print()\u001b[39;00m\n\u001b[0;32m---> 16\u001b[0m clustering \u001b[38;5;241m=\u001b[39m \u001b[43mloggings\u001b[49m\u001b[43m[\u001b[49m\u001b[38;5;124;43m'\u001b[39;49m\u001b[38;5;124;43mclustering\u001b[39;49m\u001b[38;5;124;43m'\u001b[39;49m\u001b[43m]\u001b[49m\n\u001b[1;32m     17\u001b[0m avg_cluster_time \u001b[38;5;241m=\u001b[39m \u001b[38;5;28msum\u001b[39m([_[\u001b[38;5;124m'\u001b[39m\u001b[38;5;124mclustering_time\u001b[39m\u001b[38;5;124m'\u001b[39m] \u001b[38;5;28;01mfor\u001b[39;00m _ \u001b[38;5;129;01min\u001b[39;00m clustering]) \u001b[38;5;241m/\u001b[39m \u001b[38;5;28mlen\u001b[39m(clustering)\n\u001b[1;32m     18\u001b[0m \u001b[38;5;66;03m# print('time:', avg_cluster_time)\u001b[39;00m\n\u001b[1;32m     19\u001b[0m \u001b[38;5;66;03m# print()\u001b[39;00m\n",
      "\u001b[0;31mKeyError\u001b[0m: 'clustering'"
     ]
    }
   ],
   "source": [
    "for llm in ['haiku', 'sonnet']:\n",
    "    kmeans = 20\n",
    "    survey = 'single'\n",
    "    extraction_type = 'example'\n",
    "    exp = f'{llm}_kmeans{kmeans}_{survey}_{extraction_type}'\n",
    "    avg_ext_valid, avg_ext_num_persona, avg_ext_time, avg_cluster_time, avg_sum_valid, avg_sum_time, avg_clean_valid, avg_clean_num_persona, avg_clean_time = get_exp(exp)\n",
    "    print(f\"{llm};kmeans;{kmeans};{survey};{extraction_type};{avg_ext_valid:.3f};{avg_ext_num_persona:.3f};{avg_ext_time:.3f};{avg_cluster_time:.3f};{avg_sum_valid:.3f};{avg_sum_time:.3f};{avg_clean_valid:.3f};{avg_clean_num_persona:.3f};{avg_clean_time:.3f}\")\n",
    "\n",
    "    kmeans = 10\n",
    "    survey = 'single'\n",
    "    extraction_type = 'example'\n",
    "    exp = f'{llm}_kmeans{kmeans}_{survey}_{extraction_type}'\n",
    "    avg_ext_valid, avg_ext_num_persona, avg_ext_time, avg_cluster_time, avg_sum_valid, avg_sum_time, avg_clean_valid, avg_clean_num_persona, avg_clean_time = get_exp(exp)\n",
    "    print(f\"{llm};kmeans;{kmeans};{survey};{extraction_type};{avg_ext_valid:.3f};{avg_ext_num_persona:.3f};{avg_ext_time:.3f};{avg_cluster_time:.3f};{avg_sum_valid:.3f};{avg_sum_time:.3f};{avg_clean_valid:.3f};{avg_clean_num_persona:.3f};{avg_clean_time:.3f}\")\n",
    "    \n",
    "    kmeans = 10\n",
    "    survey = 'single'\n",
    "    extraction_type = 'description'\n",
    "    exp = f'{llm}_kmeans{kmeans}_{survey}_{extraction_type}'\n",
    "    avg_ext_valid, avg_ext_num_persona, avg_ext_time, avg_cluster_time, avg_sum_valid, avg_sum_time, avg_clean_valid, avg_clean_num_persona, avg_clean_time = get_exp(exp)\n",
    "    print(f\"{llm};kmeans;{kmeans};{survey};{extraction_type};{avg_ext_valid:.3f};{avg_ext_num_persona:.3f};{avg_ext_time:.3f};{avg_cluster_time:.3f};{avg_sum_valid:.3f};{avg_sum_time:.3f};{avg_clean_valid:.3f};{avg_clean_num_persona:.3f};{avg_clean_time:.3f}\")\n"
   ]
  },
  {
   "cell_type": "code",
   "execution_count": null,
   "metadata": {},
   "outputs": [],
   "source": []
  }
 ],
 "metadata": {
  "kernelspec": {
   "display_name": "pump",
   "language": "python",
   "name": "python3"
  },
  "language_info": {
   "codemirror_mode": {
    "name": "ipython",
    "version": 3
   },
   "file_extension": ".py",
   "mimetype": "text/x-python",
   "name": "python",
   "nbconvert_exporter": "python",
   "pygments_lexer": "ipython3",
   "version": "3.10.14"
  }
 },
 "nbformat": 4,
 "nbformat_minor": 2
}
